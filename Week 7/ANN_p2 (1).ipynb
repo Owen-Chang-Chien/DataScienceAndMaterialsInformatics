{
 "cells": [
  {
   "cell_type": "code",
   "execution_count": 1,
   "metadata": {},
   "outputs": [],
   "source": [
    "import numpy as np\n",
    "import pandas as pd\n",
    "import matplotlib.pyplot as plt\n",
    "from mpl_toolkits import mplot3d\n",
    "import seaborn as sns\n",
    "from IPython.display import display, Image\n",
    "sns.set()\n",
    "%matplotlib inline"
   ]
  },
  {
   "cell_type": "markdown",
   "metadata": {},
   "source": [
    "# Neural Network"
   ]
  },
  {
   "cell_type": "markdown",
   "metadata": {},
   "source": [
    "**How does an artificial neural network look like**?"
   ]
  },
  {
   "cell_type": "code",
   "execution_count": 2,
   "metadata": {},
   "outputs": [
    {
     "data": {
      "text/html": [
       "<img src=\"https://upload.wikimedia.org/wikipedia/commons/thumb/9/99/Neural_network_example.svg/220px-Neural_network_example.svg.png\"/>"
      ],
      "text/plain": [
       "<IPython.core.display.Image object>"
      ]
     },
     "execution_count": 2,
     "metadata": {},
     "output_type": "execute_result"
    }
   ],
   "source": [
    "Image(url = 'https://upload.wikimedia.org/wikipedia/commons/thumb/9/99/Neural_network_example.svg/220px-Neural_network_example.svg.png')"
   ]
  },
  {
   "cell_type": "markdown",
   "metadata": {},
   "source": [
    "**What can neural networks do?**\n",
    "\n",
    "Can do both classification and regression. Examples include images classification, self-driving, AlphaGo, Tiktok video recommendation algorithm. \n",
    "\n",
    "**Why is the neural network considered as a more advanced method than KNN?**\n",
    "\n",
    "Neural networks combines many different ideas: linear and nonlinear regression, ensemble methods ((another example is a more advanced type of tree - random forest), etc. The input features often live in a higher-dimensional space. -- at the core of deep learning."
   ]
  },
  {
   "cell_type": "markdown",
   "metadata": {},
   "source": [
    "### Perceptrons\n",
    "\n",
    "- One of the simplest neural network architectures\n",
    "- Developed by Frank Rosenblatt in 1957.\n",
    "- Supervised learning method of binary classifiers (output is binary).\n",
    "\n",
    "See wikipedia page for more information about perceptrons: https://en.wikipedia.org/wiki/Perceptron"
   ]
  },
  {
   "cell_type": "code",
   "execution_count": 3,
   "metadata": {},
   "outputs": [
    {
     "data": {
      "text/html": [
       "<img src=\"https://upload.wikimedia.org/wikipedia/en/thumb/5/52/Mark_I_perceptron.jpeg/220px-Mark_I_perceptron.jpeg\"/>"
      ],
      "text/plain": [
       "<IPython.core.display.Image object>"
      ]
     },
     "execution_count": 3,
     "metadata": {},
     "output_type": "execute_result"
    }
   ],
   "source": [
    "Image(url = 'https://upload.wikimedia.org/wikipedia/en/thumb/5/52/Mark_I_perceptron.jpeg/220px-Mark_I_perceptron.jpeg')"
   ]
  },
  {
   "cell_type": "markdown",
   "metadata": {},
   "source": [
    "**How does a perceptron work?**\n",
    "\n",
    "Recall the multilinear regression: $ y = b + \\Sigma w_i x_i $. \n",
    "\n",
    "If $ y \\ge 0 $, output 1. Otherwise ($ y \\lt 0 $) output 0. Such behavior is called step functions in mathematics.\n",
    "\n",
    "we rename:\n",
    "\n",
    "- $b$ : bias\n",
    "- $w_i$ : weight of feature $x_i$\n",
    "\n"
   ]
  },
  {
   "cell_type": "code",
   "execution_count": 4,
   "metadata": {},
   "outputs": [
    {
     "data": {
      "text/html": [
       "<img src=\"https://upload.wikimedia.org/wikipedia/commons/thumb/9/97/Ncell.png/300px-Ncell.png\"/>"
      ],
      "text/plain": [
       "<IPython.core.display.Image object>"
      ]
     },
     "execution_count": 4,
     "metadata": {},
     "output_type": "execute_result"
    }
   ],
   "source": [
    "Image(url = 'https://upload.wikimedia.org/wikipedia/commons/thumb/9/97/Ncell.png/300px-Ncell.png')"
   ]
  },
  {
   "cell_type": "markdown",
   "metadata": {},
   "source": [
    "A perceptron is similar to a linear SVM."
   ]
  },
  {
   "cell_type": "markdown",
   "metadata": {},
   "source": [
    "**Use perceptron to classify gas and solid in the periodic table**"
   ]
  },
  {
   "cell_type": "code",
   "execution_count": 5,
   "metadata": {},
   "outputs": [],
   "source": [
    "Elements = pd.read_csv('https://gist.githubusercontent.com/GoodmanSciences/c2dd862cd38f21b0ad36b8f96b4bf1ee/raw/1d92663004489a5b6926e944c1b3d9ec5c40900e/Periodic%2520Table%2520of%2520Elements.csv')\n",
    "Elements_sg = Elements.loc[(Elements['Phase'] != 'artificial') & (Elements['Phase'] != 'liq')]\n",
    "Elements_sg_new = Elements_sg.drop([1])"
   ]
  },
  {
   "cell_type": "code",
   "execution_count": 6,
   "metadata": {},
   "outputs": [
    {
     "name": "stdout",
     "output_type": "stream",
     "text": [
      "weights: [[1402.169 3595.58 ]]\n",
      "bias: [-110.]\n"
     ]
    }
   ],
   "source": [
    "from sklearn.linear_model import Perceptron\n",
    "\n",
    "clf = Perceptron()\n",
    "\n",
    "# do we need class_weight = 'balanced'?\n",
    "\n",
    "clf.fit(Elements_sg_new[[\"MeltingPoint\", \"BoilingPoint\"]].values, Elements_sg_new['Phase'])\n",
    "\n",
    "print(\"weights:\", clf.coef_)\n",
    "print(\"bias:\", clf.intercept_)"
   ]
  },
  {
   "cell_type": "code",
   "execution_count": 7,
   "metadata": {},
   "outputs": [
    {
     "data": {
      "image/png": "[encoded data removed]",
      "text/plain": [
       "<Figure size 425.35x360 with 1 Axes>"
      ]
     },
     "metadata": {
      "needs_background": "light"
     },
     "output_type": "display_data"
    }
   ],
   "source": [
    "# array of melting point \n",
    "x_m = np.linspace(1, 4000, 401)\n",
    "# array of boiling point\n",
    "x_b = np.linspace(1, 4000, 401)\n",
    "# Get 2D mesh of x_m and x_b\n",
    "xx_1, xx_2 = np.meshgrid(x_m, x_b)\n",
    "# flatten the 2D array to plot decision boundary\n",
    "xx = np.concatenate((xx_1.ravel().reshape(-1,1), xx_2.ravel().reshape(-1,1)), axis=1)\n",
    "# predict\n",
    "y = clf.predict(xx)\n",
    "# plot the result\n",
    "Elements_predict = pd.DataFrame(data=np.concatenate((xx, y.reshape(-1,1)), axis=1), columns=[\"MeltingPoint\", \"BoilingPoint\", \"Phase\"])\n",
    "Elements_predict['MeltingPoint'] = Elements_predict['MeltingPoint'].astype(float)\n",
    "Elements_predict['BoilingPoint'] = Elements_predict['BoilingPoint'].astype(float)\n",
    "sns.lmplot(x = \"MeltingPoint\", y = \"BoilingPoint\", hue=\"Phase\", data = Elements_predict, fit_reg = False);"
   ]
  },
  {
   "cell_type": "code",
   "execution_count": 8,
   "metadata": {},
   "outputs": [
    {
     "data": {
      "text/plain": [
       "0.8850574712643678"
      ]
     },
     "execution_count": 8,
     "metadata": {},
     "output_type": "execute_result"
    }
   ],
   "source": [
    "from sklearn.metrics import accuracy_score\n",
    "accuracy_score(clf.predict(Elements_sg_new[[\"MeltingPoint\", \"BoilingPoint\"]].values), Elements_sg_new['Phase'])"
   ]
  },
  {
   "cell_type": "markdown",
   "metadata": {},
   "source": [
    "**Normalization**\n",
    "\n",
    "Rescaling the data to small values (in general, input values to a neural network should be close to zero -- typically we expect either data with zero-mean and unit-variance, or data in the [0, 1] range. Normalization is necessary for neural network applications. "
   ]
  },
  {
   "cell_type": "code",
   "execution_count": 9,
   "metadata": {},
   "outputs": [
    {
     "data": {
      "image/png": "[encoded data removed]",
      "text/plain": [
       "<Figure size 425.35x360 with 1 Axes>"
      ]
     },
     "metadata": {
      "needs_background": "light"
     },
     "output_type": "display_data"
    }
   ],
   "source": [
    "from sklearn.preprocessing import StandardScaler\n",
    "\n",
    "# do we need class_weight = 'balanced'?\n",
    "\n",
    "sc = StandardScaler()\n",
    "sc.fit(Elements_sg_new[[\"MeltingPoint\", \"BoilingPoint\"]])\n",
    "X = sc.transform(Elements_sg_new[[\"MeltingPoint\", \"BoilingPoint\"]])\n",
    "\n",
    "clf.fit(X, Elements_sg_new['Phase'])\n",
    "\n",
    "sc.fit(xx)\n",
    "xx_std = sc.transform(xx)\n",
    "# predict\n",
    "y = clf.predict(xx_std)\n",
    "# plot the result\n",
    "Elements_predict = pd.DataFrame(data=np.concatenate((xx, y.reshape(-1,1)), axis=1), columns=[\"MeltingPoint\", \"BoilingPoint\", \"Phase\"])\n",
    "Elements_predict['MeltingPoint'] = Elements_predict['MeltingPoint'].astype(float)\n",
    "Elements_predict['BoilingPoint'] = Elements_predict['BoilingPoint'].astype(float)\n",
    "sns.lmplot(x = \"MeltingPoint\", y = \"BoilingPoint\", hue=\"Phase\", data = Elements_predict, fit_reg = False);"
   ]
  },
  {
   "cell_type": "markdown",
   "metadata": {},
   "source": [
    "**Biological analog**"
   ]
  },
  {
   "cell_type": "code",
   "execution_count": 10,
   "metadata": {},
   "outputs": [
    {
     "data": {
      "text/html": [
       "<img src=\"https://upload.wikimedia.org/wikipedia/commons/4/44/Neuron3.png\"/>"
      ],
      "text/plain": [
       "<IPython.core.display.Image object>"
      ]
     },
     "execution_count": 10,
     "metadata": {},
     "output_type": "execute_result"
    }
   ],
   "source": [
    "Image(url = 'https://upload.wikimedia.org/wikipedia/commons/4/44/Neuron3.png')"
   ]
  },
  {
   "cell_type": "markdown",
   "metadata": {},
   "source": [
    "**Limitation**"
   ]
  },
  {
   "cell_type": "markdown",
   "metadata": {},
   "source": [
    "A single perceptron fails in the XOR problem.\n",
    "\n",
    "\n",
    "XOR truth table\n",
    "\n",
    "| Input x1 | Input x2 | Output |\n",
    "|----------|----------|--------|\n",
    "|0|0|0|\n",
    "|0|1|1|\n",
    "|1|0|1|\n",
    "|1|1|0|\n"
   ]
  },
  {
   "cell_type": "markdown",
   "metadata": {},
   "source": [
    "### Multi-Layer Perceptrons (MLPs) "
   ]
  },
  {
   "cell_type": "markdown",
   "metadata": {},
   "source": [
    "Welcome to the real world! Biological analog:"
   ]
  },
  {
   "cell_type": "code",
   "execution_count": 11,
   "metadata": {},
   "outputs": [
    {
     "data": {
      "text/html": [
       "<img src=\"https://upload.wikimedia.org/wikipedia/commons/b/be/Forest_of_synthetic_pyramidal_dendrites_grown_using_Cajal%27s_laws_of_neuronal_branching.png\"/>"
      ],
      "text/plain": [
       "<IPython.core.display.Image object>"
      ]
     },
     "execution_count": 11,
     "metadata": {},
     "output_type": "execute_result"
    }
   ],
   "source": [
    "Image(url = 'https://upload.wikimedia.org/wikipedia/commons/b/be/Forest_of_synthetic_pyramidal_dendrites_grown_using_Cajal%27s_laws_of_neuronal_branching.png')"
   ]
  },
  {
   "cell_type": "markdown",
   "metadata": {},
   "source": [
    "**Structure of a MLP**"
   ]
  },
  {
   "cell_type": "code",
   "execution_count": 12,
   "metadata": {},
   "outputs": [
    {
     "data": {
      "text/html": [
       "<img src=\"https://upload.wikimedia.org/wikipedia/en/5/54/Feed_forward_neural_net.gif\"/>"
      ],
      "text/plain": [
       "<IPython.core.display.Image object>"
      ]
     },
     "execution_count": 12,
     "metadata": {},
     "output_type": "execute_result"
    }
   ],
   "source": [
    "Image(url = 'https://upload.wikimedia.org/wikipedia/en/5/54/Feed_forward_neural_net.gif')"
   ]
  },
  {
   "cell_type": "markdown",
   "metadata": {},
   "source": [
    "Some terminology:\n",
    "\n",
    "- MLP belongs to the class of **feedforward neural networks**\n",
    "- **backpropagation** is a widely used algorithm in training feedforward neural networks: it find out how each connection weight and each bias term should be tweaked in order to reduce the error.\n",
    "\n",
    "Details of training in handson, summary:\n",
    "\n",
    "for each training instance the backpropagation algorithm first makes a prediction (forward propagation), measures the error (MSE, cross-entropy, etc.), then goes through each layer in reverse to measure the error contribution from each connection (backward propagation), and finally slightly tweaks the connection weights to reduce the error (using gradient descent for example). These steps are usually automatically taken care of in Keras.\n",
    "\n",
    "Ref: Hands-On Machine Learning with Scikit-Learn, Keras, and TensorFlow\n",
    "\n",
    "When an artificial neural network contains a deep stack of hidden layers, it is called a **deep neural network**."
   ]
  },
  {
   "cell_type": "markdown",
   "metadata": {},
   "source": [
    "### Activation function"
   ]
  },
  {
   "cell_type": "markdown",
   "metadata": {},
   "source": [
    "Simple perception uses the step function as the activation function, i.e., if $ y \\ge 0 $, output 1. Otherwise ($ y \\lt 0 $) output 0. This behavior is not smooth and is usually not optimal for using and traning the neural network.\n",
    "\n",
    "Alternatives:\n",
    "\n",
    "- The logistic function: $f(y) = \\sigma (y) = \\frac{1}{1\\ –\\ e^{-y}}$\n",
    "- The hyperbolic tangent function: $f(y) = tanh(y) = 2\\sigma(2y) – 1$\n",
    "- The rectified linear unit function: $ f(y) = ReLU(y) = max(0, y) $\n",
    "- Softmax: $f_i(x) = \\frac{e^{x_i}}{\\Sigma_{j=1}^n e^{x_j}} $\n",
    "- ...\n",
    "\n",
    "Wikipedia has a list of activation functions: https://en.wikipedia.org/wiki/Activation_function. A problem could favor one activition function over another. NN is a very fexible method that different layers can use different activation function.\n",
    "\n",
    "The nonlinear behaivor of activiation function is the fudemental origin that neural network is a nonlinear method."
   ]
  },
  {
   "cell_type": "markdown",
   "metadata": {},
   "source": [
    "# Using Keras"
   ]
  },
  {
   "cell_type": "markdown",
   "metadata": {},
   "source": [
    "Similar to what we have learned from Sklearn, neural networks don't process raw data, like text files, encoded JPEG image files, or CSV files. They process vectorized & standardized representations.\n",
    "\n",
    "In Keras:\n",
    "\n",
    "- Text files need to be read into string tensors, then split into words. Finally, the words need to be indexed & turned into integer tensors.\n",
    "- Images need to be read and decoded into integer tensors, then converted to floating point and normalized to small values (usually between 0 and 1).\n",
    "- CSV data needs to be parsed, with numerical features converted to floating point tensors and categorical features indexed and converted to integer tensors. Then each feature typically needs to be normalized to zero-mean and unit-variance.\n",
    "- Etc.\n",
    "\n",
    "Ref: https://keras.io/getting_started/intro_to_keras_for_engineers/\n",
    "\n",
    "Keras has three backend implementations available:\n",
    "\n",
    "- TensorFlow (Google).\n",
    "- Theano (LISA Lab at Université de Montréal).\n",
    "- Microsoft Cognitive Toolkit (CNTK).\n",
    "\n",
    "Other open-source frameworks (cannot be used as the backend for Keras):\n",
    "\n",
    "- PyTorch (Facebook)\n",
    "\n",
    "**This tutorial uses tensorflow in the bankend of Keras**"
   ]
  },
  {
   "cell_type": "markdown",
   "metadata": {},
   "source": [
    "### Example: atomization energy predicted from regression MLPs, using number of atoms.\n",
    "\n",
    "A regression task:\n",
    "\n",
    "- output: atomization energy\n",
    "- input: number of atoms of each atomic species\n",
    "\n",
    "Six input neurons, one output neuron. We do not want to use any activation function for the output neurons, so they are free to output any range of values.\n",
    "\n",
    "Let's experiment wihth 6 neurons in one hidden layer, activation function of ReLU in the hidden layer, loss function using MSE.\n"
   ]
  },
  {
   "cell_type": "code",
   "execution_count": 14,
   "metadata": {},
   "outputs": [],
   "source": [
    "# linear combination of input neurons \n",
    "import tensorflow as tf\n",
    "from tensorflow import keras\n",
    "from sklearn.preprocessing import StandardScaler\n",
    "from sklearn.model_selection import train_test_split"
   ]
  },
  {
   "cell_type": "markdown",
   "metadata": {},
   "source": [
    "**Load data**"
   ]
  },
  {
   "cell_type": "code",
   "execution_count": 15,
   "metadata": {},
   "outputs": [],
   "source": [
    "qm7b = pd.read_csv('http://faculty.washington.edu/tingcao/wordpress/wp-content/uploads/2020/10/qm7b.csv');\n",
    "\n",
    "# Train-test splitting\n",
    "xx_train, xx_validate, y_train, y_validate= train_test_split(qm7b[['n_H', 'n_C', 'n_N', 'n_O', 'n_S', 'n_Cl']].values, qm7b['ae_pbe0'].values, random_state = 290, train_size = 0.8)\n",
    "\n",
    "# Normalization\n",
    "scaler = StandardScaler()\n",
    "sc = sc.fit(xx_train)\n",
    "xx_train_sc = sc.transform(xx_train)  # normalize training data\n",
    "xx_validate_sc = sc.transform(xx_validate)  # normalize testing data"
   ]
  },
  {
   "cell_type": "markdown",
   "metadata": {},
   "source": [
    "**Build the model**"
   ]
  },
  {
   "cell_type": "code",
   "execution_count": 45,
   "metadata": {},
   "outputs": [],
   "source": [
    "# simplest sequential NN (MLP)  # Simple multi-layer perceptron\n",
    "model = keras.models.Sequential()  # Connecting the hidden layer (e.g. connect first and second layer)\n",
    "# construct input layer\n",
    "model.add(keras.layers.Flatten(input_shape=[6]))  # If you use 2-dimensioanl thing, you need to use .Flatten. (Keras is flexible for multi-dimensional)\n",
    "\n",
    "# first hidden layer  # activation gives better results  # equal dimension (6)\n",
    "model.add(keras.layers.Dense(6, activation='relu'))  # the linear combination of the input data can give you six new features\n",
    "\n",
    "# output layer\n",
    "model.add(keras.layers.Dense(1, activation=None))  # Only one output neuron\n",
    "\n",
    "# compile the model (include loss function and optimizer)\n",
    "model.compile(loss=\"mse\", optimizer=\"adam\", metrics=[\"RootMeanSquaredError\"])  #?"
   ]
  },
  {
   "cell_type": "code",
   "execution_count": 46,
   "metadata": {},
   "outputs": [
    {
     "name": "stdout",
     "output_type": "stream",
     "text": [
      "Model: \"sequential_3\"\n",
      "_________________________________________________________________\n",
      "Layer (type)                 Output Shape              Param #   \n",
      "=================================================================\n",
      "flatten_3 (Flatten)          (None, 6)                 0         \n",
      "_________________________________________________________________\n",
      "dense_6 (Dense)              (None, 6)                 42        \n",
      "_________________________________________________________________\n",
      "dense_7 (Dense)              (None, 1)                 7         \n",
      "=================================================================\n",
      "Total params: 49\n",
      "Trainable params: 49\n",
      "Non-trainable params: 0\n",
      "_________________________________________________________________\n"
     ]
    }
   ],
   "source": [
    "model.summary()"
   ]
  },
  {
   "cell_type": "markdown",
   "metadata": {},
   "source": [
    "Notice the number of parameters: NN is a very **flexible** model, but often run into **overfitting**.\n",
    "\n",
    "Parameters can be found by using _get_weights()_."
   ]
  },
  {
   "cell_type": "code",
   "execution_count": 30,
   "metadata": {},
   "outputs": [
    {
     "data": {
      "text/plain": [
       "(6, 6)"
      ]
     },
     "execution_count": 30,
     "metadata": {},
     "output_type": "execute_result"
    }
   ],
   "source": [
    "# initial parameters\n",
    "weights, biases = model.layers[1].get_weights()  # layers[1] means hidden layer\n",
    "weights.shape"
   ]
  },
  {
   "cell_type": "code",
   "execution_count": 31,
   "metadata": {},
   "outputs": [
    {
     "data": {
      "text/plain": [
       "array([0., 0., 0., 0., 0., 0.], dtype=float32)"
      ]
     },
     "execution_count": 31,
     "metadata": {},
     "output_type": "execute_result"
    }
   ],
   "source": [
    "biases"
   ]
  },
  {
   "cell_type": "markdown",
   "metadata": {},
   "source": [
    "**Train the model**"
   ]
  },
  {
   "cell_type": "code",
   "execution_count": 35,
   "metadata": {},
   "outputs": [
    {
     "name": "stdout",
     "output_type": "stream",
     "text": [
      "Epoch 1/200\n",
      "181/181 [==============================] - 0s 2ms/step - loss: 8431.3262 - root_mean_squared_error: 91.8223 - val_loss: 8668.9697 - val_root_mean_squared_error: 93.1073\n",
      "Epoch 2/200\n",
      "181/181 [==============================] - 0s 1ms/step - loss: 8420.7041 - root_mean_squared_error: 91.7644 - val_loss: 8652.7178 - val_root_mean_squared_error: 93.0200\n",
      "Epoch 3/200\n",
      "181/181 [==============================] - 0s 1ms/step - loss: 8410.1846 - root_mean_squared_error: 91.7071 - val_loss: 8637.0703 - val_root_mean_squared_error: 92.9358\n",
      "Epoch 4/200\n",
      "181/181 [==============================] - 0s 1ms/step - loss: 8399.3262 - root_mean_squared_error: 91.6478 - val_loss: 8622.7188 - val_root_mean_squared_error: 92.8586\n",
      "Epoch 5/200\n",
      "181/181 [==============================] - 0s 1ms/step - loss: 8388.9248 - root_mean_squared_error: 91.5911 - val_loss: 8608.3047 - val_root_mean_squared_error: 92.7810\n",
      "Epoch 6/200\n",
      "181/181 [==============================] - 0s 2ms/step - loss: 8378.5254 - root_mean_squared_error: 91.5343 - val_loss: 8592.8896 - val_root_mean_squared_error: 92.6978\n",
      "Epoch 7/200\n",
      "181/181 [==============================] - 0s 1ms/step - loss: 8368.6709 - root_mean_squared_error: 91.4804 - val_loss: 8580.2734 - val_root_mean_squared_error: 92.6298\n",
      "Epoch 8/200\n",
      "181/181 [==============================] - 0s 1ms/step - loss: 8358.7451 - root_mean_squared_error: 91.4262 - val_loss: 8565.6680 - val_root_mean_squared_error: 92.5509\n",
      "Epoch 9/200\n",
      "181/181 [==============================] - 0s 1ms/step - loss: 8348.9443 - root_mean_squared_error: 91.3726 - val_loss: 8552.0771 - val_root_mean_squared_error: 92.4774\n",
      "Epoch 10/200\n",
      "181/181 [==============================] - 0s 1ms/step - loss: 8339.8164 - root_mean_squared_error: 91.3226 - val_loss: 8538.3232 - val_root_mean_squared_error: 92.4030\n",
      "Epoch 11/200\n",
      "181/181 [==============================] - 0s 1ms/step - loss: 8329.8984 - root_mean_squared_error: 91.2683 - val_loss: 8525.6025 - val_root_mean_squared_error: 92.3342\n",
      "Epoch 12/200\n",
      "181/181 [==============================] - 0s 1ms/step - loss: 8320.4883 - root_mean_squared_error: 91.2167 - val_loss: 8510.3066 - val_root_mean_squared_error: 92.2513\n",
      "Epoch 13/200\n",
      "181/181 [==============================] - 0s 1ms/step - loss: 8311.3828 - root_mean_squared_error: 91.1668 - val_loss: 8498.5459 - val_root_mean_squared_error: 92.1876\n",
      "Epoch 14/200\n",
      "181/181 [==============================] - 0s 1ms/step - loss: 8302.4688 - root_mean_squared_error: 91.1179 - val_loss: 8486.0303 - val_root_mean_squared_error: 92.1197\n",
      "Epoch 15/200\n",
      "181/181 [==============================] - 0s 1ms/step - loss: 8293.5488 - root_mean_squared_error: 91.0689 - val_loss: 8475.7139 - val_root_mean_squared_error: 92.0636\n",
      "Epoch 16/200\n",
      "181/181 [==============================] - 0s 1ms/step - loss: 8284.7861 - root_mean_squared_error: 91.0208 - val_loss: 8460.3574 - val_root_mean_squared_error: 91.9802\n",
      "Epoch 17/200\n",
      "181/181 [==============================] - 0s 1ms/step - loss: 8277.0059 - root_mean_squared_error: 90.9781 - val_loss: 8449.9580 - val_root_mean_squared_error: 91.9237\n",
      "Epoch 18/200\n",
      "181/181 [==============================] - 0s 1ms/step - loss: 8267.9766 - root_mean_squared_error: 90.9284 - val_loss: 8438.3643 - val_root_mean_squared_error: 91.8606\n",
      "Epoch 19/200\n",
      "181/181 [==============================] - 0s 1ms/step - loss: 8260.1553 - root_mean_squared_error: 90.8854 - val_loss: 8426.6602 - val_root_mean_squared_error: 91.7968\n",
      "Epoch 20/200\n",
      "181/181 [==============================] - 0s 1ms/step - loss: 8251.6270 - root_mean_squared_error: 90.8385 - val_loss: 8414.9883 - val_root_mean_squared_error: 91.7332\n",
      "Epoch 21/200\n",
      "181/181 [==============================] - 0s 1ms/step - loss: 8243.3008 - root_mean_squared_error: 90.7926 - val_loss: 8403.8301 - val_root_mean_squared_error: 91.6724\n",
      "Epoch 22/200\n",
      "181/181 [==============================] - 0s 1ms/step - loss: 8235.9990 - root_mean_squared_error: 90.7524 - val_loss: 8392.4766 - val_root_mean_squared_error: 91.6105\n",
      "Epoch 23/200\n",
      "181/181 [==============================] - 0s 1ms/step - loss: 8227.6211 - root_mean_squared_error: 90.7062 - val_loss: 8382.1875 - val_root_mean_squared_error: 91.5543\n",
      "Epoch 24/200\n",
      "181/181 [==============================] - 0s 1ms/step - loss: 8219.9023 - root_mean_squared_error: 90.6637 - val_loss: 8371.1104 - val_root_mean_squared_error: 91.4938\n",
      "Epoch 25/200\n",
      "181/181 [==============================] - 0s 1ms/step - loss: 8212.4648 - root_mean_squared_error: 90.6227 - val_loss: 8361.6357 - val_root_mean_squared_error: 91.4420\n",
      "Epoch 26/200\n",
      "181/181 [==============================] - 0s 2ms/step - loss: 8204.9678 - root_mean_squared_error: 90.5813 - val_loss: 8350.2217 - val_root_mean_squared_error: 91.3795\n",
      "Epoch 27/200\n",
      "181/181 [==============================] - 0s 2ms/step - loss: 8197.4385 - root_mean_squared_error: 90.5397 - val_loss: 8339.9189 - val_root_mean_squared_error: 91.3232\n",
      "Epoch 28/200\n",
      "181/181 [==============================] - 0s 1ms/step - loss: 8190.0962 - root_mean_squared_error: 90.4992 - val_loss: 8332.7520 - val_root_mean_squared_error: 91.2839\n",
      "Epoch 29/200\n",
      "181/181 [==============================] - 0s 1ms/step - loss: 8183.3447 - root_mean_squared_error: 90.4618 - val_loss: 8320.5791 - val_root_mean_squared_error: 91.2172\n",
      "Epoch 30/200\n",
      "181/181 [==============================] - 0s 1ms/step - loss: 8175.8799 - root_mean_squared_error: 90.4206 - val_loss: 8311.5791 - val_root_mean_squared_error: 91.1679\n",
      "Epoch 31/200\n",
      "181/181 [==============================] - 0s 1ms/step - loss: 8168.9785 - root_mean_squared_error: 90.3824 - val_loss: 8303.0830 - val_root_mean_squared_error: 91.1213\n",
      "Epoch 32/200\n",
      "181/181 [==============================] - 0s 1ms/step - loss: 8161.9590 - root_mean_squared_error: 90.3436 - val_loss: 8291.4092 - val_root_mean_squared_error: 91.0572\n",
      "Epoch 33/200\n",
      "181/181 [==============================] - 0s 1ms/step - loss: 8155.2041 - root_mean_squared_error: 90.3062 - val_loss: 8282.7852 - val_root_mean_squared_error: 91.0098\n",
      "Epoch 34/200\n",
      "181/181 [==============================] - 0s 1ms/step - loss: 8148.5430 - root_mean_squared_error: 90.2693 - val_loss: 8276.8291 - val_root_mean_squared_error: 90.9771\n",
      "Epoch 35/200\n",
      "181/181 [==============================] - 0s 1ms/step - loss: 8142.0361 - root_mean_squared_error: 90.2332 - val_loss: 8265.1348 - val_root_mean_squared_error: 90.9128\n",
      "Epoch 36/200\n",
      "181/181 [==============================] - 0s 1ms/step - loss: 8135.2412 - root_mean_squared_error: 90.1956 - val_loss: 8258.1562 - val_root_mean_squared_error: 90.8744\n",
      "Epoch 37/200\n",
      "181/181 [==============================] - 0s 1ms/step - loss: 8129.0659 - root_mean_squared_error: 90.1613 - val_loss: 8249.9561 - val_root_mean_squared_error: 90.8293\n",
      "Epoch 38/200\n",
      "181/181 [==============================] - 0s 1ms/step - loss: 8122.8418 - root_mean_squared_error: 90.1268 - val_loss: 8240.8232 - val_root_mean_squared_error: 90.7790\n",
      "Epoch 39/200\n",
      "181/181 [==============================] - 0s 1ms/step - loss: 8116.6001 - root_mean_squared_error: 90.0922 - val_loss: 8231.8916 - val_root_mean_squared_error: 90.7298\n",
      "Epoch 40/200\n",
      "181/181 [==============================] - 0s 1ms/step - loss: 8110.5903 - root_mean_squared_error: 90.0588 - val_loss: 8222.8008 - val_root_mean_squared_error: 90.6797\n",
      "Epoch 41/200\n",
      "181/181 [==============================] - 0s 1ms/step - loss: 8104.3066 - root_mean_squared_error: 90.0239 - val_loss: 8214.9229 - val_root_mean_squared_error: 90.6362\n",
      "Epoch 42/200\n",
      "181/181 [==============================] - 0s 1ms/step - loss: 8098.3696 - root_mean_squared_error: 89.9909 - val_loss: 8207.2402 - val_root_mean_squared_error: 90.5938\n",
      "Epoch 43/200\n",
      "181/181 [==============================] - 0s 1ms/step - loss: 8092.8975 - root_mean_squared_error: 89.9605 - val_loss: 8200.2324 - val_root_mean_squared_error: 90.5551\n",
      "Epoch 44/200\n",
      "181/181 [==============================] - 0s 1ms/step - loss: 8087.1167 - root_mean_squared_error: 89.9284 - val_loss: 8192.3623 - val_root_mean_squared_error: 90.5117\n",
      "Epoch 45/200\n",
      "181/181 [==============================] - 0s 1ms/step - loss: 8081.3198 - root_mean_squared_error: 89.8962 - val_loss: 8184.8110 - val_root_mean_squared_error: 90.4699\n",
      "Epoch 46/200\n",
      "181/181 [==============================] - 0s 1ms/step - loss: 8075.5352 - root_mean_squared_error: 89.8640 - val_loss: 8177.4087 - val_root_mean_squared_error: 90.4290\n",
      "Epoch 47/200\n",
      "181/181 [==============================] - 0s 1ms/step - loss: 8069.6982 - root_mean_squared_error: 89.8315 - val_loss: 8171.5269 - val_root_mean_squared_error: 90.3965\n",
      "Epoch 48/200\n",
      "181/181 [==============================] - 0s 1ms/step - loss: 8064.8066 - root_mean_squared_error: 89.8043 - val_loss: 8162.6694 - val_root_mean_squared_error: 90.3475\n",
      "Epoch 49/200\n",
      "181/181 [==============================] - 0s 1ms/step - loss: 8059.3496 - root_mean_squared_error: 89.7739 - val_loss: 8157.7476 - val_root_mean_squared_error: 90.3203\n",
      "Epoch 50/200\n",
      "181/181 [==============================] - 0s 1ms/step - loss: 8054.2495 - root_mean_squared_error: 89.7455 - val_loss: 8150.2080 - val_root_mean_squared_error: 90.2785\n",
      "Epoch 51/200\n",
      "181/181 [==============================] - 0s 1ms/step - loss: 8049.1157 - root_mean_squared_error: 89.7169 - val_loss: 8143.4346 - val_root_mean_squared_error: 90.2410\n",
      "Epoch 52/200\n",
      "181/181 [==============================] - 0s 1ms/step - loss: 8043.9722 - root_mean_squared_error: 89.6882 - val_loss: 8135.7080 - val_root_mean_squared_error: 90.1982\n",
      "Epoch 53/200\n",
      "181/181 [==============================] - 0s 1ms/step - loss: 8038.8916 - root_mean_squared_error: 89.6599 - val_loss: 8130.9600 - val_root_mean_squared_error: 90.1718\n",
      "Epoch 54/200\n",
      "181/181 [==============================] - 0s 1ms/step - loss: 8033.8809 - root_mean_squared_error: 89.6319 - val_loss: 8123.5420 - val_root_mean_squared_error: 90.1307\n",
      "Epoch 55/200\n",
      "181/181 [==============================] - 0s 1ms/step - loss: 8028.8301 - root_mean_squared_error: 89.6037 - val_loss: 8116.9736 - val_root_mean_squared_error: 90.0942\n",
      "Epoch 56/200\n",
      "181/181 [==============================] - 0s 1ms/step - loss: 8024.3218 - root_mean_squared_error: 89.5786 - val_loss: 8110.2104 - val_root_mean_squared_error: 90.0567\n",
      "Epoch 57/200\n",
      "181/181 [==============================] - 0s 1ms/step - loss: 8019.2695 - root_mean_squared_error: 89.5504 - val_loss: 8104.4824 - val_root_mean_squared_error: 90.0249\n",
      "Epoch 58/200\n",
      "181/181 [==============================] - 0s 1ms/step - loss: 8014.6836 - root_mean_squared_error: 89.5248 - val_loss: 8099.5273 - val_root_mean_squared_error: 89.9974\n",
      "Epoch 59/200\n",
      "181/181 [==============================] - 0s 1ms/step - loss: 8010.1118 - root_mean_squared_error: 89.4992 - val_loss: 8094.3467 - val_root_mean_squared_error: 89.9686\n",
      "Epoch 60/200\n",
      "181/181 [==============================] - 0s 1ms/step - loss: 8005.7002 - root_mean_squared_error: 89.4746 - val_loss: 8087.6011 - val_root_mean_squared_error: 89.9311\n",
      "Epoch 61/200\n",
      "181/181 [==============================] - 0s 1ms/step - loss: 8001.0244 - root_mean_squared_error: 89.4484 - val_loss: 8082.2202 - val_root_mean_squared_error: 89.9012\n",
      "Epoch 62/200\n",
      "181/181 [==============================] - 0s 1ms/step - loss: 7997.0869 - root_mean_squared_error: 89.4264 - val_loss: 8077.1367 - val_root_mean_squared_error: 89.8729\n",
      "Epoch 63/200\n",
      "181/181 [==============================] - 0s 1ms/step - loss: 7992.2212 - root_mean_squared_error: 89.3992 - val_loss: 8069.9653 - val_root_mean_squared_error: 89.8330\n",
      "Epoch 64/200\n",
      "181/181 [==============================] - 0s 1ms/step - loss: 7988.4604 - root_mean_squared_error: 89.3782 - val_loss: 8066.2246 - val_root_mean_squared_error: 89.8122\n",
      "Epoch 65/200\n",
      "181/181 [==============================] - 0s 1ms/step - loss: 7983.9966 - root_mean_squared_error: 89.3532 - val_loss: 8060.0977 - val_root_mean_squared_error: 89.7780\n",
      "Epoch 66/200\n",
      "181/181 [==============================] - 0s 1ms/step - loss: 7979.7969 - root_mean_squared_error: 89.3297 - val_loss: 8055.7964 - val_root_mean_squared_error: 89.7541\n",
      "Epoch 67/200\n",
      "181/181 [==============================] - 0s 1ms/step - loss: 7976.0352 - root_mean_squared_error: 89.3087 - val_loss: 8050.8896 - val_root_mean_squared_error: 89.7268\n",
      "Epoch 68/200\n",
      "181/181 [==============================] - 0s 1ms/step - loss: 7971.9028 - root_mean_squared_error: 89.2855 - val_loss: 8045.7144 - val_root_mean_squared_error: 89.6979\n",
      "Epoch 69/200\n",
      "181/181 [==============================] - 0s 1ms/step - loss: 7968.0332 - root_mean_squared_error: 89.2638 - val_loss: 8040.9897 - val_root_mean_squared_error: 89.6716\n",
      "Epoch 70/200\n",
      "181/181 [==============================] - 0s 1ms/step - loss: 7964.1650 - root_mean_squared_error: 89.2422 - val_loss: 8035.3848 - val_root_mean_squared_error: 89.6403\n",
      "Epoch 71/200\n",
      "181/181 [==============================] - 0s 1ms/step - loss: 7960.2690 - root_mean_squared_error: 89.2203 - val_loss: 8030.7783 - val_root_mean_squared_error: 89.6146\n",
      "Epoch 72/200\n",
      "181/181 [==============================] - 0s 1ms/step - loss: 7956.6880 - root_mean_squared_error: 89.2003 - val_loss: 8025.9004 - val_root_mean_squared_error: 89.5874\n",
      "Epoch 73/200\n",
      "181/181 [==============================] - 0s 1ms/step - loss: 7952.8560 - root_mean_squared_error: 89.1788 - val_loss: 8021.4922 - val_root_mean_squared_error: 89.5628\n",
      "Epoch 74/200\n",
      "181/181 [==============================] - 0s 1ms/step - loss: 7949.3726 - root_mean_squared_error: 89.1593 - val_loss: 8016.9028 - val_root_mean_squared_error: 89.5372\n",
      "Epoch 75/200\n",
      "181/181 [==============================] - 0s 1ms/step - loss: 7945.6763 - root_mean_squared_error: 89.1385 - val_loss: 8013.6152 - val_root_mean_squared_error: 89.5188\n",
      "Epoch 76/200\n",
      "181/181 [==============================] - 0s 1ms/step - loss: 7942.1729 - root_mean_squared_error: 89.1189 - val_loss: 8007.9785 - val_root_mean_squared_error: 89.4873\n",
      "Epoch 77/200\n",
      "181/181 [==============================] - 0s 1ms/step - loss: 7938.3267 - root_mean_squared_error: 89.0973 - val_loss: 8006.8579 - val_root_mean_squared_error: 89.4810\n",
      "Epoch 78/200\n",
      "181/181 [==============================] - 0s 1ms/step - loss: 7935.3301 - root_mean_squared_error: 89.0805 - val_loss: 8001.6128 - val_root_mean_squared_error: 89.4517\n",
      "Epoch 79/200\n",
      "181/181 [==============================] - 0s 1ms/step - loss: 7932.1943 - root_mean_squared_error: 89.0629 - val_loss: 7997.4263 - val_root_mean_squared_error: 89.4283\n",
      "Epoch 80/200\n",
      "181/181 [==============================] - 0s 1ms/step - loss: 7928.5034 - root_mean_squared_error: 89.0421 - val_loss: 7992.0947 - val_root_mean_squared_error: 89.3985\n",
      "Epoch 81/200\n",
      "181/181 [==============================] - 0s 1ms/step - loss: 7925.0137 - root_mean_squared_error: 89.0225 - val_loss: 7986.6890 - val_root_mean_squared_error: 89.3683\n",
      "Epoch 82/200\n",
      "181/181 [==============================] - 0s 1ms/step - loss: 7921.5513 - root_mean_squared_error: 89.0031 - val_loss: 7985.2954 - val_root_mean_squared_error: 89.3605\n",
      "Epoch 83/200\n",
      "181/181 [==============================] - 0s 1ms/step - loss: 7918.5376 - root_mean_squared_error: 88.9862 - val_loss: 7981.1675 - val_root_mean_squared_error: 89.3374\n",
      "Epoch 84/200\n",
      "181/181 [==============================] - 0s 1ms/step - loss: 7915.4326 - root_mean_squared_error: 88.9687 - val_loss: 7976.2788 - val_root_mean_squared_error: 89.3100\n",
      "Epoch 85/200\n",
      "181/181 [==============================] - 0s 1ms/step - loss: 7912.2041 - root_mean_squared_error: 88.9506 - val_loss: 7971.4824 - val_root_mean_squared_error: 89.2832\n",
      "Epoch 86/200\n",
      "181/181 [==============================] - 0s 1ms/step - loss: 7909.1812 - root_mean_squared_error: 88.9336 - val_loss: 7968.8311 - val_root_mean_squared_error: 89.2683\n",
      "Epoch 87/200\n",
      "181/181 [==============================] - 0s 1ms/step - loss: 7906.0366 - root_mean_squared_error: 88.9159 - val_loss: 7964.6001 - val_root_mean_squared_error: 89.2446\n",
      "Epoch 88/200\n",
      "181/181 [==============================] - 0s 1ms/step - loss: 7902.8911 - root_mean_squared_error: 88.8982 - val_loss: 7961.4980 - val_root_mean_squared_error: 89.2272\n",
      "Epoch 89/200\n",
      "181/181 [==============================] - 0s 1ms/step - loss: 7900.2871 - root_mean_squared_error: 88.8836 - val_loss: 7957.1323 - val_root_mean_squared_error: 89.2028\n",
      "Epoch 90/200\n",
      "181/181 [==============================] - 0s 1ms/step - loss: 7897.0679 - root_mean_squared_error: 88.8654 - val_loss: 7953.9932 - val_root_mean_squared_error: 89.1852\n",
      "Epoch 91/200\n",
      "181/181 [==============================] - 0s 1ms/step - loss: 7894.1602 - root_mean_squared_error: 88.8491 - val_loss: 7951.4995 - val_root_mean_squared_error: 89.1712\n",
      "Epoch 92/200\n",
      "181/181 [==============================] - 0s 1ms/step - loss: 7891.4326 - root_mean_squared_error: 88.8337 - val_loss: 7949.4087 - val_root_mean_squared_error: 89.1595\n",
      "Epoch 93/200\n",
      "181/181 [==============================] - 0s 1ms/step - loss: 7888.4478 - root_mean_squared_error: 88.8169 - val_loss: 7944.8633 - val_root_mean_squared_error: 89.1340\n",
      "Epoch 94/200\n",
      "181/181 [==============================] - 0s 1ms/step - loss: 7885.8511 - root_mean_squared_error: 88.8023 - val_loss: 7941.2148 - val_root_mean_squared_error: 89.1135\n",
      "Epoch 95/200\n",
      "181/181 [==============================] - 0s 1ms/step - loss: 7883.1318 - root_mean_squared_error: 88.7870 - val_loss: 7939.3252 - val_root_mean_squared_error: 89.1029\n",
      "Epoch 96/200\n",
      "181/181 [==============================] - 0s 1ms/step - loss: 7880.5630 - root_mean_squared_error: 88.7725 - val_loss: 7935.5796 - val_root_mean_squared_error: 89.0819\n",
      "Epoch 97/200\n",
      "181/181 [==============================] - 0s 1ms/step - loss: 7877.5127 - root_mean_squared_error: 88.7554 - val_loss: 7931.2515 - val_root_mean_squared_error: 89.0576\n",
      "Epoch 98/200\n",
      "181/181 [==============================] - 0s 1ms/step - loss: 7874.8413 - root_mean_squared_error: 88.7403 - val_loss: 7930.2183 - val_root_mean_squared_error: 89.0518\n",
      "Epoch 99/200\n",
      "181/181 [==============================] - 0s 1ms/step - loss: 7872.4536 - root_mean_squared_error: 88.7268 - val_loss: 7926.1963 - val_root_mean_squared_error: 89.0292\n",
      "Epoch 100/200\n",
      "181/181 [==============================] - 0s 1ms/step - loss: 7869.6870 - root_mean_squared_error: 88.7113 - val_loss: 7922.3418 - val_root_mean_squared_error: 89.0075\n",
      "Epoch 101/200\n",
      "181/181 [==============================] - 0s 1ms/step - loss: 7867.3413 - root_mean_squared_error: 88.6980 - val_loss: 7919.8086 - val_root_mean_squared_error: 88.9933\n",
      "Epoch 102/200\n",
      "181/181 [==============================] - 0s 1ms/step - loss: 7865.3237 - root_mean_squared_error: 88.6867 - val_loss: 7916.1152 - val_root_mean_squared_error: 88.9726\n",
      "Epoch 103/200\n",
      "181/181 [==============================] - 0s 1ms/step - loss: 7862.5278 - root_mean_squared_error: 88.6709 - val_loss: 7913.3076 - val_root_mean_squared_error: 88.9568\n",
      "Epoch 104/200\n",
      "181/181 [==============================] - 0s 1ms/step - loss: 7859.8643 - root_mean_squared_error: 88.6559 - val_loss: 7912.1499 - val_root_mean_squared_error: 88.9503\n",
      "Epoch 105/200\n",
      "181/181 [==============================] - 0s 1ms/step - loss: 7857.6045 - root_mean_squared_error: 88.6431 - val_loss: 7908.1997 - val_root_mean_squared_error: 88.9281\n",
      "Epoch 106/200\n",
      "181/181 [==============================] - 0s 1ms/step - loss: 7855.0952 - root_mean_squared_error: 88.6290 - val_loss: 7906.3896 - val_root_mean_squared_error: 88.9179\n",
      "Epoch 107/200\n",
      "181/181 [==============================] - 0s 1ms/step - loss: 7852.3042 - root_mean_squared_error: 88.6132 - val_loss: 7901.7812 - val_root_mean_squared_error: 88.8920\n",
      "Epoch 108/200\n",
      "181/181 [==============================] - 0s 1ms/step - loss: 7851.1074 - root_mean_squared_error: 88.6065 - val_loss: 7900.3477 - val_root_mean_squared_error: 88.8839\n",
      "Epoch 109/200\n",
      "181/181 [==============================] - 0s 1ms/step - loss: 7848.5000 - root_mean_squared_error: 88.5918 - val_loss: 7899.1836 - val_root_mean_squared_error: 88.8773\n",
      "Epoch 110/200\n",
      "181/181 [==============================] - 0s 1ms/step - loss: 7846.0332 - root_mean_squared_error: 88.5778 - val_loss: 7896.8428 - val_root_mean_squared_error: 88.8642\n",
      "Epoch 111/200\n",
      "181/181 [==============================] - 0s 1ms/step - loss: 7844.1597 - root_mean_squared_error: 88.5673 - val_loss: 7892.4248 - val_root_mean_squared_error: 88.8393\n",
      "Epoch 112/200\n",
      "181/181 [==============================] - 0s 1ms/step - loss: 7841.7686 - root_mean_squared_error: 88.5538 - val_loss: 7890.3970 - val_root_mean_squared_error: 88.8279\n",
      "Epoch 113/200\n",
      "181/181 [==============================] - 0s 1ms/step - loss: 7839.5366 - root_mean_squared_error: 88.5412 - val_loss: 7888.1558 - val_root_mean_squared_error: 88.8153\n",
      "Epoch 114/200\n",
      "181/181 [==============================] - 0s 1ms/step - loss: 7837.2793 - root_mean_squared_error: 88.5284 - val_loss: 7886.1206 - val_root_mean_squared_error: 88.8038\n",
      "Epoch 115/200\n",
      "181/181 [==============================] - 0s 1ms/step - loss: 7835.4092 - root_mean_squared_error: 88.5178 - val_loss: 7882.9624 - val_root_mean_squared_error: 88.7860\n",
      "Epoch 116/200\n",
      "181/181 [==============================] - 0s 1ms/step - loss: 7833.3364 - root_mean_squared_error: 88.5061 - val_loss: 7880.7129 - val_root_mean_squared_error: 88.7734\n",
      "Epoch 117/200\n",
      "181/181 [==============================] - 0s 1ms/step - loss: 7831.1392 - root_mean_squared_error: 88.4937 - val_loss: 7879.2085 - val_root_mean_squared_error: 88.7649\n",
      "Epoch 118/200\n",
      "181/181 [==============================] - 0s 1ms/step - loss: 7829.1802 - root_mean_squared_error: 88.4827 - val_loss: 7875.3389 - val_root_mean_squared_error: 88.7431\n",
      "Epoch 119/200\n",
      "181/181 [==============================] - 0s 2ms/step - loss: 7827.0396 - root_mean_squared_error: 88.4706 - val_loss: 7873.8193 - val_root_mean_squared_error: 88.7345\n",
      "Epoch 120/200\n",
      "181/181 [==============================] - 0s 2ms/step - loss: 7825.0625 - root_mean_squared_error: 88.4594 - val_loss: 7870.9951 - val_root_mean_squared_error: 88.7186\n",
      "Epoch 121/200\n",
      "181/181 [==============================] - 0s 1ms/step - loss: 7823.1226 - root_mean_squared_error: 88.4484 - val_loss: 7869.2861 - val_root_mean_squared_error: 88.7090\n",
      "Epoch 122/200\n",
      "181/181 [==============================] - 0s 1ms/step - loss: 7821.1367 - root_mean_squared_error: 88.4372 - val_loss: 7867.9473 - val_root_mean_squared_error: 88.7014\n",
      "Epoch 123/200\n",
      "181/181 [==============================] - 0s 1ms/step - loss: 7819.3198 - root_mean_squared_error: 88.4269 - val_loss: 7864.8325 - val_root_mean_squared_error: 88.6839\n",
      "Epoch 124/200\n",
      "181/181 [==============================] - 0s 1ms/step - loss: 7817.4971 - root_mean_squared_error: 88.4166 - val_loss: 7862.7271 - val_root_mean_squared_error: 88.6720\n",
      "Epoch 125/200\n",
      "181/181 [==============================] - 0s 1ms/step - loss: 7815.5811 - root_mean_squared_error: 88.4058 - val_loss: 7861.4624 - val_root_mean_squared_error: 88.6649\n",
      "Epoch 126/200\n",
      "181/181 [==============================] - 0s 1ms/step - loss: 7813.7344 - root_mean_squared_error: 88.3953 - val_loss: 7859.0459 - val_root_mean_squared_error: 88.6513\n",
      "Epoch 127/200\n",
      "181/181 [==============================] - 0s 1ms/step - loss: 7812.2627 - root_mean_squared_error: 88.3870 - val_loss: 7857.2446 - val_root_mean_squared_error: 88.6411\n",
      "Epoch 128/200\n",
      "181/181 [==============================] - 0s 1ms/step - loss: 7810.2178 - root_mean_squared_error: 88.3754 - val_loss: 7855.0317 - val_root_mean_squared_error: 88.6286\n",
      "Epoch 129/200\n",
      "181/181 [==============================] - 0s 1ms/step - loss: 7808.4458 - root_mean_squared_error: 88.3654 - val_loss: 7854.1885 - val_root_mean_squared_error: 88.6239\n",
      "Epoch 130/200\n",
      "181/181 [==============================] - 0s 1ms/step - loss: 7807.0605 - root_mean_squared_error: 88.3576 - val_loss: 7851.2236 - val_root_mean_squared_error: 88.6071\n",
      "Epoch 131/200\n",
      "181/181 [==============================] - 0s 1ms/step - loss: 7804.7686 - root_mean_squared_error: 88.3446 - val_loss: 7849.4980 - val_root_mean_squared_error: 88.5974\n",
      "Epoch 132/200\n",
      "181/181 [==============================] - 0s 1ms/step - loss: 7803.4443 - root_mean_squared_error: 88.3371 - val_loss: 7848.2798 - val_root_mean_squared_error: 88.5905\n",
      "Epoch 133/200\n",
      "181/181 [==============================] - 0s 1ms/step - loss: 7801.8008 - root_mean_squared_error: 88.3278 - val_loss: 7844.9272 - val_root_mean_squared_error: 88.5716\n",
      "Epoch 134/200\n",
      "181/181 [==============================] - 0s 1ms/step - loss: 7800.0249 - root_mean_squared_error: 88.3177 - val_loss: 7842.9219 - val_root_mean_squared_error: 88.5603\n",
      "Epoch 135/200\n",
      "181/181 [==============================] - 0s 1ms/step - loss: 7798.2578 - root_mean_squared_error: 88.3077 - val_loss: 7840.5918 - val_root_mean_squared_error: 88.5471\n",
      "Epoch 136/200\n",
      "181/181 [==============================] - 0s 1ms/step - loss: 7796.9312 - root_mean_squared_error: 88.3002 - val_loss: 7840.2847 - val_root_mean_squared_error: 88.5454\n",
      "Epoch 137/200\n",
      "181/181 [==============================] - 0s 1ms/step - loss: 7795.0596 - root_mean_squared_error: 88.2896 - val_loss: 7837.6528 - val_root_mean_squared_error: 88.5305\n",
      "Epoch 138/200\n",
      "181/181 [==============================] - 0s 1ms/step - loss: 7793.5161 - root_mean_squared_error: 88.2809 - val_loss: 7836.9023 - val_root_mean_squared_error: 88.5263\n",
      "Epoch 139/200\n",
      "181/181 [==============================] - 0s 1ms/step - loss: 7791.8296 - root_mean_squared_error: 88.2713 - val_loss: 7835.4292 - val_root_mean_squared_error: 88.5180\n",
      "Epoch 140/200\n",
      "181/181 [==============================] - 0s 1ms/step - loss: 7790.1768 - root_mean_squared_error: 88.2620 - val_loss: 7833.8525 - val_root_mean_squared_error: 88.5091\n",
      "Epoch 141/200\n",
      "181/181 [==============================] - 0s 1ms/step - loss: 7788.4849 - root_mean_squared_error: 88.2524 - val_loss: 7831.4600 - val_root_mean_squared_error: 88.4955\n",
      "Epoch 142/200\n",
      "181/181 [==============================] - 0s 1ms/step - loss: 7787.0762 - root_mean_squared_error: 88.2444 - val_loss: 7829.2451 - val_root_mean_squared_error: 88.4830\n",
      "Epoch 143/200\n",
      "181/181 [==============================] - 0s 1ms/step - loss: 7785.6714 - root_mean_squared_error: 88.2365 - val_loss: 7829.7271 - val_root_mean_squared_error: 88.4857\n",
      "Epoch 144/200\n",
      "181/181 [==============================] - 0s 1ms/step - loss: 7784.1392 - root_mean_squared_error: 88.2278 - val_loss: 7825.2363 - val_root_mean_squared_error: 88.4604\n",
      "Epoch 145/200\n",
      "181/181 [==============================] - 0s 1ms/step - loss: 7782.6284 - root_mean_squared_error: 88.2192 - val_loss: 7823.4707 - val_root_mean_squared_error: 88.4504\n",
      "Epoch 146/200\n",
      "181/181 [==============================] - 0s 1ms/step - loss: 7781.0015 - root_mean_squared_error: 88.2100 - val_loss: 7823.7554 - val_root_mean_squared_error: 88.4520\n",
      "Epoch 147/200\n",
      "181/181 [==============================] - 0s 1ms/step - loss: 7779.3931 - root_mean_squared_error: 88.2009 - val_loss: 7821.6641 - val_root_mean_squared_error: 88.4402\n",
      "Epoch 148/200\n",
      "181/181 [==============================] - 0s 1ms/step - loss: 7778.0591 - root_mean_squared_error: 88.1933 - val_loss: 7819.4048 - val_root_mean_squared_error: 88.4274\n",
      "Epoch 149/200\n",
      "181/181 [==============================] - 0s 2ms/step - loss: 7776.4937 - root_mean_squared_error: 88.1844 - val_loss: 7819.1172 - val_root_mean_squared_error: 88.4258\n",
      "Epoch 150/200\n",
      "181/181 [==============================] - 0s 1ms/step - loss: 7775.4526 - root_mean_squared_error: 88.1785 - val_loss: 7818.0249 - val_root_mean_squared_error: 88.4196\n",
      "Epoch 151/200\n",
      "181/181 [==============================] - 0s 1ms/step - loss: 7773.6685 - root_mean_squared_error: 88.1684 - val_loss: 7816.7178 - val_root_mean_squared_error: 88.4122\n",
      "Epoch 152/200\n",
      "181/181 [==============================] - 0s 1ms/step - loss: 7772.3223 - root_mean_squared_error: 88.1608 - val_loss: 7813.3467 - val_root_mean_squared_error: 88.3931\n",
      "Epoch 153/200\n",
      "181/181 [==============================] - 0s 1ms/step - loss: 7770.8296 - root_mean_squared_error: 88.1523 - val_loss: 7812.3984 - val_root_mean_squared_error: 88.3878\n",
      "Epoch 154/200\n",
      "181/181 [==============================] - 0s 1ms/step - loss: 7769.4424 - root_mean_squared_error: 88.1444 - val_loss: 7811.9590 - val_root_mean_squared_error: 88.3853\n",
      "Epoch 155/200\n",
      "181/181 [==============================] - 0s 1ms/step - loss: 7768.3081 - root_mean_squared_error: 88.1380 - val_loss: 7809.1987 - val_root_mean_squared_error: 88.3697\n",
      "Epoch 156/200\n",
      "181/181 [==============================] - 0s 1ms/step - loss: 7766.7480 - root_mean_squared_error: 88.1292 - val_loss: 7807.1768 - val_root_mean_squared_error: 88.3582\n",
      "Epoch 157/200\n",
      "181/181 [==============================] - 0s 1ms/step - loss: 7765.6885 - root_mean_squared_error: 88.1231 - val_loss: 7806.2329 - val_root_mean_squared_error: 88.3529\n",
      "Epoch 158/200\n",
      "181/181 [==============================] - 0s 1ms/step - loss: 7764.1738 - root_mean_squared_error: 88.1145 - val_loss: 7805.0234 - val_root_mean_squared_error: 88.3460\n",
      "Epoch 159/200\n",
      "181/181 [==============================] - 0s 1ms/step - loss: 7762.7275 - root_mean_squared_error: 88.1063 - val_loss: 7804.4482 - val_root_mean_squared_error: 88.3428\n",
      "Epoch 160/200\n",
      "181/181 [==============================] - 0s 1ms/step - loss: 7761.4717 - root_mean_squared_error: 88.0992 - val_loss: 7803.2695 - val_root_mean_squared_error: 88.3361\n",
      "Epoch 161/200\n",
      "181/181 [==============================] - 0s 1ms/step - loss: 7760.2329 - root_mean_squared_error: 88.0922 - val_loss: 7800.6079 - val_root_mean_squared_error: 88.3211\n",
      "Epoch 162/200\n",
      "181/181 [==============================] - 0s 1ms/step - loss: 7758.9604 - root_mean_squared_error: 88.0850 - val_loss: 7798.9683 - val_root_mean_squared_error: 88.3118\n",
      "Epoch 163/200\n",
      "181/181 [==============================] - 0s 1ms/step - loss: 7757.5527 - root_mean_squared_error: 88.0770 - val_loss: 7799.2280 - val_root_mean_squared_error: 88.3132\n",
      "Epoch 164/200\n",
      "181/181 [==============================] - 0s 1ms/step - loss: 7756.2773 - root_mean_squared_error: 88.0697 - val_loss: 7797.6987 - val_root_mean_squared_error: 88.3046\n",
      "Epoch 165/200\n",
      "181/181 [==============================] - 0s 1ms/step - loss: 7754.9072 - root_mean_squared_error: 88.0620 - val_loss: 7795.2300 - val_root_mean_squared_error: 88.2906\n",
      "Epoch 166/200\n",
      "181/181 [==============================] - 0s 1ms/step - loss: 7753.9556 - root_mean_squared_error: 88.0565 - val_loss: 7794.0977 - val_root_mean_squared_error: 88.2842\n",
      "Epoch 167/200\n",
      "181/181 [==============================] - 0s 1ms/step - loss: 7752.5269 - root_mean_squared_error: 88.0484 - val_loss: 7792.4419 - val_root_mean_squared_error: 88.2748\n",
      "Epoch 168/200\n",
      "181/181 [==============================] - 0s 1ms/step - loss: 7750.8965 - root_mean_squared_error: 88.0392 - val_loss: 7792.9438 - val_root_mean_squared_error: 88.2776\n",
      "Epoch 169/200\n",
      "181/181 [==============================] - 0s 1ms/step - loss: 7749.9951 - root_mean_squared_error: 88.0341 - val_loss: 7790.2275 - val_root_mean_squared_error: 88.2623\n",
      "Epoch 170/200\n",
      "181/181 [==============================] - 0s 1ms/step - loss: 7748.3066 - root_mean_squared_error: 88.0245 - val_loss: 7787.7783 - val_root_mean_squared_error: 88.2484\n",
      "Epoch 171/200\n",
      "181/181 [==============================] - 0s 1ms/step - loss: 7747.6367 - root_mean_squared_error: 88.0207 - val_loss: 7787.1069 - val_root_mean_squared_error: 88.2446\n",
      "Epoch 172/200\n",
      "181/181 [==============================] - 0s 1ms/step - loss: 7746.1289 - root_mean_squared_error: 88.0121 - val_loss: 7785.9238 - val_root_mean_squared_error: 88.2379\n",
      "Epoch 173/200\n",
      "181/181 [==============================] - 0s 1ms/step - loss: 7745.1040 - root_mean_squared_error: 88.0063 - val_loss: 7785.2168 - val_root_mean_squared_error: 88.2339\n",
      "Epoch 174/200\n",
      "181/181 [==============================] - 0s 1ms/step - loss: 7743.7075 - root_mean_squared_error: 87.9983 - val_loss: 7784.4497 - val_root_mean_squared_error: 88.2295\n",
      "Epoch 175/200\n",
      "181/181 [==============================] - 0s 1ms/step - loss: 7742.3979 - root_mean_squared_error: 87.9909 - val_loss: 7781.6558 - val_root_mean_squared_error: 88.2137\n",
      "Epoch 176/200\n",
      "181/181 [==============================] - 0s 1ms/step - loss: 7741.3481 - root_mean_squared_error: 87.9849 - val_loss: 7781.8745 - val_root_mean_squared_error: 88.2149\n",
      "Epoch 177/200\n",
      "181/181 [==============================] - 0s 1ms/step - loss: 7739.8120 - root_mean_squared_error: 87.9762 - val_loss: 7778.9023 - val_root_mean_squared_error: 88.1981\n",
      "Epoch 178/200\n",
      "181/181 [==============================] - 0s 1ms/step - loss: 7738.7627 - root_mean_squared_error: 87.9702 - val_loss: 7778.3691 - val_root_mean_squared_error: 88.1951\n",
      "Epoch 179/200\n",
      "181/181 [==============================] - 0s 1ms/step - loss: 7737.5908 - root_mean_squared_error: 87.9636 - val_loss: 7777.7949 - val_root_mean_squared_error: 88.1918\n",
      "Epoch 180/200\n",
      "181/181 [==============================] - 0s 1ms/step - loss: 7736.1616 - root_mean_squared_error: 87.9555 - val_loss: 7776.3564 - val_root_mean_squared_error: 88.1837\n",
      "Epoch 181/200\n",
      "181/181 [==============================] - 0s 1ms/step - loss: 7735.4722 - root_mean_squared_error: 87.9515 - val_loss: 7774.6094 - val_root_mean_squared_error: 88.1737\n",
      "Epoch 182/200\n",
      "181/181 [==============================] - 0s 1ms/step - loss: 7734.0771 - root_mean_squared_error: 87.9436 - val_loss: 7773.1953 - val_root_mean_squared_error: 88.1657\n",
      "Epoch 183/200\n",
      "181/181 [==============================] - 0s 1ms/step - loss: 7732.6968 - root_mean_squared_error: 87.9358 - val_loss: 7773.6646 - val_root_mean_squared_error: 88.1684\n",
      "Epoch 184/200\n",
      "181/181 [==============================] - 0s 1ms/step - loss: 7731.9951 - root_mean_squared_error: 87.9318 - val_loss: 7772.2080 - val_root_mean_squared_error: 88.1601\n",
      "Epoch 185/200\n",
      "181/181 [==============================] - 0s 1ms/step - loss: 7731.0137 - root_mean_squared_error: 87.9262 - val_loss: 7770.4185 - val_root_mean_squared_error: 88.1500\n",
      "Epoch 186/200\n",
      "181/181 [==============================] - 0s 1ms/step - loss: 7729.4292 - root_mean_squared_error: 87.9172 - val_loss: 7770.0645 - val_root_mean_squared_error: 88.1480\n",
      "Epoch 187/200\n",
      "181/181 [==============================] - 0s 1ms/step - loss: 7728.6133 - root_mean_squared_error: 87.9125 - val_loss: 7768.6548 - val_root_mean_squared_error: 88.1400\n",
      "Epoch 188/200\n",
      "181/181 [==============================] - 0s 1ms/step - loss: 7727.0693 - root_mean_squared_error: 87.9037 - val_loss: 7766.1108 - val_root_mean_squared_error: 88.1255\n",
      "Epoch 189/200\n",
      "181/181 [==============================] - 0s 1ms/step - loss: 7726.1318 - root_mean_squared_error: 87.8984 - val_loss: 7766.3853 - val_root_mean_squared_error: 88.1271\n",
      "Epoch 190/200\n",
      "181/181 [==============================] - 0s 1ms/step - loss: 7725.0044 - root_mean_squared_error: 87.8920 - val_loss: 7765.5806 - val_root_mean_squared_error: 88.1225\n",
      "Epoch 191/200\n",
      "181/181 [==============================] - 0s 1ms/step - loss: 7723.9834 - root_mean_squared_error: 87.8862 - val_loss: 7764.6558 - val_root_mean_squared_error: 88.1173\n",
      "Epoch 192/200\n",
      "181/181 [==============================] - 0s 1ms/step - loss: 7722.9346 - root_mean_squared_error: 87.8802 - val_loss: 7763.6333 - val_root_mean_squared_error: 88.1115\n",
      "Epoch 193/200\n",
      "181/181 [==============================] - 0s 1ms/step - loss: 7721.7573 - root_mean_squared_error: 87.8735 - val_loss: 7762.3574 - val_root_mean_squared_error: 88.1042\n",
      "Epoch 194/200\n",
      "181/181 [==============================] - 0s 1ms/step - loss: 7720.5820 - root_mean_squared_error: 87.8668 - val_loss: 7760.5967 - val_root_mean_squared_error: 88.0942\n",
      "Epoch 195/200\n",
      "181/181 [==============================] - 0s 1ms/step - loss: 7719.3662 - root_mean_squared_error: 87.8599 - val_loss: 7761.1768 - val_root_mean_squared_error: 88.0975\n",
      "Epoch 196/200\n",
      "181/181 [==============================] - 0s 1ms/step - loss: 7718.4785 - root_mean_squared_error: 87.8549 - val_loss: 7758.4185 - val_root_mean_squared_error: 88.0819\n",
      "Epoch 197/200\n",
      "181/181 [==============================] - 0s 1ms/step - loss: 7717.3916 - root_mean_squared_error: 87.8487 - val_loss: 7757.2773 - val_root_mean_squared_error: 88.0754\n",
      "Epoch 198/200\n",
      "181/181 [==============================] - 0s 1ms/step - loss: 7716.1504 - root_mean_squared_error: 87.8416 - val_loss: 7755.5122 - val_root_mean_squared_error: 88.0654\n",
      "Epoch 199/200\n",
      "181/181 [==============================] - 0s 1ms/step - loss: 7715.0952 - root_mean_squared_error: 87.8356 - val_loss: 7754.1426 - val_root_mean_squared_error: 88.0576\n",
      "Epoch 200/200\n",
      "181/181 [==============================] - 0s 1ms/step - loss: 7713.9492 - root_mean_squared_error: 87.8291 - val_loss: 7753.6069 - val_root_mean_squared_error: 88.0546\n"
     ]
    }
   ],
   "source": [
    "history = model.fit(xx_train_sc, y_train, epochs=200, validation_data=(xx_validate_sc, y_validate))\n",
    "# epochs:how many times we run our data through the model (train for 200 times)\n",
    "# optimation is gradual\n",
    "# check if loss is nan, if so, change the optimizer (e.g from sgd to adam)"
   ]
  },
  {
   "cell_type": "markdown",
   "metadata": {},
   "source": [
    "**Behaivor of training**"
   ]
  },
  {
   "cell_type": "code",
   "execution_count": 36,
   "metadata": {},
   "outputs": [
    {
     "data": {
      "text/html": [
       "<div>\n",
       "<style scoped>\n",
       "    .dataframe tbody tr th:only-of-type {\n",
       "        vertical-align: middle;\n",
       "    }\n",
       "\n",
       "    .dataframe tbody tr th {\n",
       "        vertical-align: top;\n",
       "    }\n",
       "\n",
       "    .dataframe thead th {\n",
       "        text-align: right;\n",
       "    }\n",
       "</style>\n",
       "<table border=\"1\" class=\"dataframe\">\n",
       "  <thead>\n",
       "    <tr style=\"text-align: right;\">\n",
       "      <th></th>\n",
       "      <th>loss</th>\n",
       "      <th>root_mean_squared_error</th>\n",
       "      <th>val_loss</th>\n",
       "      <th>val_root_mean_squared_error</th>\n",
       "    </tr>\n",
       "  </thead>\n",
       "  <tbody>\n",
       "    <tr>\n",
       "      <th>0</th>\n",
       "      <td>8431.326172</td>\n",
       "      <td>91.822250</td>\n",
       "      <td>8668.969727</td>\n",
       "      <td>93.107300</td>\n",
       "    </tr>\n",
       "    <tr>\n",
       "      <th>1</th>\n",
       "      <td>8420.704102</td>\n",
       "      <td>91.764397</td>\n",
       "      <td>8652.717773</td>\n",
       "      <td>93.019989</td>\n",
       "    </tr>\n",
       "    <tr>\n",
       "      <th>2</th>\n",
       "      <td>8410.184570</td>\n",
       "      <td>91.707062</td>\n",
       "      <td>8637.070312</td>\n",
       "      <td>92.935837</td>\n",
       "    </tr>\n",
       "    <tr>\n",
       "      <th>3</th>\n",
       "      <td>8399.326172</td>\n",
       "      <td>91.647835</td>\n",
       "      <td>8622.718750</td>\n",
       "      <td>92.858597</td>\n",
       "    </tr>\n",
       "    <tr>\n",
       "      <th>4</th>\n",
       "      <td>8388.924805</td>\n",
       "      <td>91.591072</td>\n",
       "      <td>8608.304688</td>\n",
       "      <td>92.780952</td>\n",
       "    </tr>\n",
       "  </tbody>\n",
       "</table>\n",
       "</div>"
      ],
      "text/plain": [
       "          loss  root_mean_squared_error     val_loss  \\\n",
       "0  8431.326172                91.822250  8668.969727   \n",
       "1  8420.704102                91.764397  8652.717773   \n",
       "2  8410.184570                91.707062  8637.070312   \n",
       "3  8399.326172                91.647835  8622.718750   \n",
       "4  8388.924805                91.591072  8608.304688   \n",
       "\n",
       "   val_root_mean_squared_error  \n",
       "0                    93.107300  \n",
       "1                    93.019989  \n",
       "2                    92.935837  \n",
       "3                    92.858597  \n",
       "4                    92.780952  "
      ]
     },
     "execution_count": 36,
     "metadata": {},
     "output_type": "execute_result"
    }
   ],
   "source": [
    "train = pd.DataFrame(history.history)\n",
    "train.head()"
   ]
  },
  {
   "cell_type": "markdown",
   "metadata": {},
   "source": [
    "Loss as a function as epochs"
   ]
  },
  {
   "cell_type": "code",
   "execution_count": 37,
   "metadata": {},
   "outputs": [
    {
     "data": {
      "text/plain": [
       "<matplotlib.collections.PathCollection at 0x7efd7021ee50>"
      ]
     },
     "execution_count": 37,
     "metadata": {},
     "output_type": "execute_result"
    },
    {
     "data": {
      "image/png": "[encoded data removed]",
      "text/plain": [
       "<Figure size 432x288 with 1 Axes>"
      ]
     },
     "metadata": {
      "needs_background": "light"
     },
     "output_type": "display_data"
    }
   ],
   "source": [
    "plt.scatter(np.linspace(1, 200, 200), train.loss)\n",
    "plt.scatter(np.linspace(1, 200, 200), train.val_loss)"
   ]
  },
  {
   "cell_type": "code",
   "execution_count": 38,
   "metadata": {},
   "outputs": [
    {
     "data": {
      "text/plain": [
       "<matplotlib.collections.PathCollection at 0x7efd701706a0>"
      ]
     },
     "execution_count": 38,
     "metadata": {},
     "output_type": "execute_result"
    },
    {
     "data": {
      "image/png": "[encoded data removed]",
      "text/plain": [
       "<Figure size 432x288 with 1 Axes>"
      ]
     },
     "metadata": {
      "needs_background": "light"
     },
     "output_type": "display_data"
    }
   ],
   "source": [
    "plt.scatter(np.linspace(1, 200, 200), train.root_mean_squared_error)\n",
    "plt.scatter(np.linspace(1, 200, 200), train.val_root_mean_squared_error)"
   ]
  },
  {
   "cell_type": "code",
   "execution_count": 39,
   "metadata": {},
   "outputs": [
    {
     "data": {
      "text/plain": [
       "<matplotlib.collections.PathCollection at 0x7efd70151310>"
      ]
     },
     "execution_count": 39,
     "metadata": {},
     "output_type": "execute_result"
    },
    {
     "data": {
      "image/png": "[encoded data removed]",
      "text/plain": [
       "<Figure size 432x288 with 1 Axes>"
      ]
     },
     "metadata": {
      "needs_background": "light"
     },
     "output_type": "display_data"
    }
   ],
   "source": [
    "plt.scatter(y_validate, model.predict(xx_validate_sc))  # scalar the data (the model recognize normalized data)"
   ]
  },
  {
   "cell_type": "markdown",
   "metadata": {},
   "source": [
    "**Make predictions**"
   ]
  },
  {
   "cell_type": "code",
   "execution_count": 40,
   "metadata": {},
   "outputs": [
    {
     "data": {
      "text/plain": [
       "array([[-1149.8127]], dtype=float32)"
      ]
     },
     "execution_count": 40,
     "metadata": {},
     "output_type": "execute_result"
    }
   ],
   "source": [
    "model.predict(sc.transform([[7,3,2,0,0,0]]))  # normalized "
   ]
  },
  {
   "cell_type": "markdown",
   "metadata": {},
   "source": [
    "### Useful information for beginners (typical architecture)"
   ]
  },
  {
   "cell_type": "markdown",
   "metadata": {},
   "source": [
    "**Regreesion MLP**:\n",
    "    \n",
    "| Hyperparameter | Typical Value |\n",
    "|----------------|---------------|\n",
    "|# input neurons | One per input feature |\n",
    "|# hidden layers | Depends on the problem. Typically 1 to 5.|\n",
    "|# neurons per hidden layer | Depends on the problem. Typically 10 to 100.|\n",
    "|# output neurons | 1 per prediction dimension|\n",
    "|Hidden activation | ReLU (or SELU) |\n",
    "|Output activation | None or ReLU/Softplus (if positive outputs) or Logistic/Tanh (if bounded outputs) |\n",
    "|Loss function | MSE or MAE/Huber (if outliers) |\n",
    "\n",
    "**Classification MLP**:\n",
    "\n",
    "| Hyperparameter | Binary classification | Multilabel binary classification | Multiclass classification |\n",
    "|----------------|-----------------------|----------------------------------|---------------------------|\n",
    "|Input and hidden layers| Same as regression | Same as regression | Same as regression |\n",
    "|# output neurons | 1 | 1 per label | 1 per class |\n",
    "|Output layer activation | Logistic | Logistic | Softmax |\n",
    "|Loss function | Cross-Entropy | Cross-Entropy | Cross-Entropy |\n",
    "\n",
    "Ref: Hands-On Machine Learning with Scikit-Learn, Keras, and TensorFlow\n"
   ]
  },
  {
   "cell_type": "markdown",
   "metadata": {},
   "source": [
    "### The effects of hyperparameters and details of training processes will be disccussed in the handson session.\n",
    "### A more rigorous approach of model evaluation is based on train-validate-test splitting, which will be used in the handson session."
   ]
  },
  {
   "cell_type": "code",
   "execution_count": 41,
   "metadata": {},
   "outputs": [
    {
     "data": {
      "text/html": [
       "<img src=\"https://upload.wikimedia.org/wikipedia/commons/thumb/1/12/Train-Test-Validation.png/400px-Train-Test-Validation.png\"/>"
      ],
      "text/plain": [
       "<IPython.core.display.Image object>"
      ]
     },
     "execution_count": 41,
     "metadata": {},
     "output_type": "execute_result"
    }
   ],
   "source": [
    "Image(url='https://upload.wikimedia.org/wikipedia/commons/thumb/1/12/Train-Test-Validation.png/400px-Train-Test-Validation.png')"
   ]
  },
  {
   "cell_type": "markdown",
   "metadata": {},
   "source": [
    "# Comparing linear regression with neural network"
   ]
  },
  {
   "cell_type": "code",
   "execution_count": 42,
   "metadata": {},
   "outputs": [
    {
     "data": {
      "text/plain": [
       "18.72615742922323"
      ]
     },
     "execution_count": 42,
     "metadata": {},
     "output_type": "execute_result"
    }
   ],
   "source": [
    "from sklearn import linear_model\n",
    "from sklearn.metrics import mean_squared_error\n",
    "\n",
    "regr3 = linear_model.LinearRegression() \n",
    "regr3.fit(xx_train_sc, y_train)\n",
    "mean_squared_error(y_validate, regr3.predict(xx_validate_sc), squared = False)"
   ]
  },
  {
   "cell_type": "markdown",
   "metadata": {},
   "source": [
    "ANN is very flexible and performs well in many different use cases.\n",
    "\n",
    "**Why do we favor linear regression (high-bias method) in some cases**?\n",
    "\n",
    "- When you know the y can be obtained by regression of x.\n",
    "- Inferences, and interpretation of results. \n",
    "- NN often regarded as prediction using a black box: takes long time to train and tune hyperparameters.\n"
   ]
  },
  {
   "cell_type": "markdown",
   "metadata": {},
   "source": [
    "A useful video tutorial on Youtube: https://www.youtube.com/playlist?list=PLiaHhY2iBX9hdHaRr6b7XevZtgZRa1PoU"
   ]
  }
 ],
 "metadata": {
  "kernelspec": {
   "display_name": "Python 3 (ipykernel)",
   "language": "python",
   "name": "python3"
  },
  "language_info": {
   "codemirror_mode": {
    "name": "ipython",
    "version": 3
   },
   "file_extension": ".py",
   "mimetype": "text/x-python",
   "name": "python",
   "nbconvert_exporter": "python",
   "pygments_lexer": "ipython3",
   "version": "3.9.7"
  }
 },
 "nbformat": 4,
 "nbformat_minor": 4
}
