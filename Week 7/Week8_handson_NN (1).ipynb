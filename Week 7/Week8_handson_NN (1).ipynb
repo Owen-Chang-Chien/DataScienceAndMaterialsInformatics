{
 "cells": [
  {
   "cell_type": "code",
   "execution_count": 1,
   "metadata": {},
   "outputs": [],
   "source": [
    "from tensorflow import keras\n",
    "\n",
    "from tensorflow.keras.models import Sequential\n",
    "from tensorflow.keras.layers import Dense\n",
    "from tensorflow.keras.wrappers.scikit_learn import KerasRegressor\n",
    "\n",
    "import matplotlib.pyplot as plt\n",
    "import numpy as np\n",
    "import pandas as pd\n",
    "\n",
    "from sklearn.model_selection import train_test_split\n",
    "from sklearn.preprocessing import StandardScaler\n",
    "from sklearn.pipeline import Pipeline\n",
    "from IPython.display import display, Image\n",
    "\n",
    "%matplotlib inline"
   ]
  },
  {
   "cell_type": "markdown",
   "metadata": {},
   "source": [
    "## Neural Network\n",
    "\n",
    "In this notebook, we will work with the qm7b data."
   ]
  },
  {
   "cell_type": "code",
   "execution_count": 2,
   "metadata": {},
   "outputs": [
    {
     "data": {
      "text/html": [
       "<div>\n",
       "<style scoped>\n",
       "    .dataframe tbody tr th:only-of-type {\n",
       "        vertical-align: middle;\n",
       "    }\n",
       "\n",
       "    .dataframe tbody tr th {\n",
       "        vertical-align: top;\n",
       "    }\n",
       "\n",
       "    .dataframe thead th {\n",
       "        text-align: right;\n",
       "    }\n",
       "</style>\n",
       "<table border=\"1\" class=\"dataframe\">\n",
       "  <thead>\n",
       "    <tr style=\"text-align: right;\">\n",
       "      <th></th>\n",
       "      <th>id</th>\n",
       "      <th>ae_pbe0</th>\n",
       "      <th>emax_zindo</th>\n",
       "      <th>imax_zindo</th>\n",
       "      <th>homo_zindo</th>\n",
       "      <th>lumo_zindo</th>\n",
       "      <th>e1_zindo</th>\n",
       "      <th>ip_zindo</th>\n",
       "      <th>ea_zindo</th>\n",
       "      <th>homo_pbe0</th>\n",
       "      <th>...</th>\n",
       "      <th>homo_gw</th>\n",
       "      <th>lumo_gw</th>\n",
       "      <th>p_pbe0</th>\n",
       "      <th>p_scs</th>\n",
       "      <th>n_H</th>\n",
       "      <th>n_C</th>\n",
       "      <th>n_N</th>\n",
       "      <th>n_O</th>\n",
       "      <th>n_S</th>\n",
       "      <th>n_Cl</th>\n",
       "    </tr>\n",
       "  </thead>\n",
       "  <tbody>\n",
       "    <tr>\n",
       "      <th>0</th>\n",
       "      <td>1</td>\n",
       "      <td>-420.933746</td>\n",
       "      <td>39.694626</td>\n",
       "      <td>0.621841</td>\n",
       "      <td>-16.013</td>\n",
       "      <td>4.162</td>\n",
       "      <td>36.768073</td>\n",
       "      <td>15.72523</td>\n",
       "      <td>-3.98613</td>\n",
       "      <td>-10.9488</td>\n",
       "      <td>...</td>\n",
       "      <td>-14.1341</td>\n",
       "      <td>1.0870</td>\n",
       "      <td>2.534576</td>\n",
       "      <td>2.43222</td>\n",
       "      <td>4</td>\n",
       "      <td>1</td>\n",
       "      <td>0</td>\n",
       "      <td>0</td>\n",
       "      <td>0</td>\n",
       "      <td>0</td>\n",
       "    </tr>\n",
       "    <tr>\n",
       "      <th>1</th>\n",
       "      <td>2</td>\n",
       "      <td>-718.419189</td>\n",
       "      <td>22.622486</td>\n",
       "      <td>0.628328</td>\n",
       "      <td>-13.549</td>\n",
       "      <td>3.684</td>\n",
       "      <td>11.717433</td>\n",
       "      <td>13.41121</td>\n",
       "      <td>-3.49181</td>\n",
       "      <td>-9.5577</td>\n",
       "      <td>...</td>\n",
       "      <td>-12.5472</td>\n",
       "      <td>1.1186</td>\n",
       "      <td>4.332028</td>\n",
       "      <td>4.44500</td>\n",
       "      <td>6</td>\n",
       "      <td>2</td>\n",
       "      <td>0</td>\n",
       "      <td>0</td>\n",
       "      <td>0</td>\n",
       "      <td>0</td>\n",
       "    </tr>\n",
       "    <tr>\n",
       "      <th>2</th>\n",
       "      <td>3</td>\n",
       "      <td>-570.024841</td>\n",
       "      <td>22.940671</td>\n",
       "      <td>0.709060</td>\n",
       "      <td>-10.160</td>\n",
       "      <td>1.231</td>\n",
       "      <td>7.137266</td>\n",
       "      <td>9.75211</td>\n",
       "      <td>-0.82042</td>\n",
       "      <td>-7.8768</td>\n",
       "      <td>...</td>\n",
       "      <td>-10.4383</td>\n",
       "      <td>1.9456</td>\n",
       "      <td>4.173282</td>\n",
       "      <td>3.92308</td>\n",
       "      <td>4</td>\n",
       "      <td>2</td>\n",
       "      <td>0</td>\n",
       "      <td>0</td>\n",
       "      <td>0</td>\n",
       "      <td>0</td>\n",
       "    </tr>\n",
       "    <tr>\n",
       "      <th>3</th>\n",
       "      <td>4</td>\n",
       "      <td>-410.286163</td>\n",
       "      <td>15.973798</td>\n",
       "      <td>2.228480</td>\n",
       "      <td>-10.706</td>\n",
       "      <td>2.145</td>\n",
       "      <td>4.624107</td>\n",
       "      <td>10.46577</td>\n",
       "      <td>-1.89847</td>\n",
       "      <td>-8.4021</td>\n",
       "      <td>...</td>\n",
       "      <td>-11.1629</td>\n",
       "      <td>1.1958</td>\n",
       "      <td>3.512394</td>\n",
       "      <td>3.32175</td>\n",
       "      <td>2</td>\n",
       "      <td>2</td>\n",
       "      <td>0</td>\n",
       "      <td>0</td>\n",
       "      <td>0</td>\n",
       "      <td>0</td>\n",
       "    </tr>\n",
       "    <tr>\n",
       "      <th>4</th>\n",
       "      <td>5</td>\n",
       "      <td>-868.855408</td>\n",
       "      <td>17.900516</td>\n",
       "      <td>0.556174</td>\n",
       "      <td>-12.365</td>\n",
       "      <td>3.825</td>\n",
       "      <td>10.311655</td>\n",
       "      <td>11.96491</td>\n",
       "      <td>-3.57487</td>\n",
       "      <td>-8.3534</td>\n",
       "      <td>...</td>\n",
       "      <td>-10.8132</td>\n",
       "      <td>1.2002</td>\n",
       "      <td>5.480160</td>\n",
       "      <td>5.78632</td>\n",
       "      <td>6</td>\n",
       "      <td>3</td>\n",
       "      <td>0</td>\n",
       "      <td>0</td>\n",
       "      <td>0</td>\n",
       "      <td>0</td>\n",
       "    </tr>\n",
       "  </tbody>\n",
       "</table>\n",
       "<p>5 rows × 21 columns</p>\n",
       "</div>"
      ],
      "text/plain": [
       "   id     ae_pbe0  emax_zindo  imax_zindo  homo_zindo  lumo_zindo   e1_zindo  \\\n",
       "0   1 -420.933746   39.694626    0.621841     -16.013       4.162  36.768073   \n",
       "1   2 -718.419189   22.622486    0.628328     -13.549       3.684  11.717433   \n",
       "2   3 -570.024841   22.940671    0.709060     -10.160       1.231   7.137266   \n",
       "3   4 -410.286163   15.973798    2.228480     -10.706       2.145   4.624107   \n",
       "4   5 -868.855408   17.900516    0.556174     -12.365       3.825  10.311655   \n",
       "\n",
       "   ip_zindo  ea_zindo  homo_pbe0  ...  homo_gw  lumo_gw    p_pbe0    p_scs  \\\n",
       "0  15.72523  -3.98613   -10.9488  ... -14.1341   1.0870  2.534576  2.43222   \n",
       "1  13.41121  -3.49181    -9.5577  ... -12.5472   1.1186  4.332028  4.44500   \n",
       "2   9.75211  -0.82042    -7.8768  ... -10.4383   1.9456  4.173282  3.92308   \n",
       "3  10.46577  -1.89847    -8.4021  ... -11.1629   1.1958  3.512394  3.32175   \n",
       "4  11.96491  -3.57487    -8.3534  ... -10.8132   1.2002  5.480160  5.78632   \n",
       "\n",
       "   n_H  n_C  n_N  n_O  n_S  n_Cl  \n",
       "0    4    1    0    0    0     0  \n",
       "1    6    2    0    0    0     0  \n",
       "2    4    2    0    0    0     0  \n",
       "3    2    2    0    0    0     0  \n",
       "4    6    3    0    0    0     0  \n",
       "\n",
       "[5 rows x 21 columns]"
      ]
     },
     "execution_count": 2,
     "metadata": {},
     "output_type": "execute_result"
    }
   ],
   "source": [
    "qm7b = pd.read_csv('http://faculty.washington.edu/tingcao/wordpress/wp-content/uploads/2020/10/qm7b.csv');\n",
    "qm7b.head()"
   ]
  },
  {
   "cell_type": "markdown",
   "metadata": {},
   "source": [
    "Let our predictors be 'homo_zindo', 'lumo_zindo', target be 'e1_zindo' (first excitation energy).\n",
    "\n",
    "Do the train-test splitting first."
   ]
  },
  {
   "cell_type": "code",
   "execution_count": 3,
   "metadata": {},
   "outputs": [],
   "source": [
    "x = qm7b[['homo_zindo', 'lumo_zindo']].values  # predictors\n",
    "y = qm7b['e1_zindo'].values  # target\n",
    "x_train, x_test, y_train, y_test = train_test_split(x, y,\n",
    "                                                    test_size=0.20,\n",
    "                                                    random_state=111)"
   ]
  },
  {
   "cell_type": "markdown",
   "metadata": {},
   "source": [
    "## Data Standardization\n",
    "\n",
    "The `StandardScaler` standardize the data by: $X_i = \\frac{X_i - \\mu _i}{\\sigma _i}$,\n",
    "\n",
    "$X_i$ is the $i$-th feature, $\\mu_i$ is the mean value of the feature $i$ in the training data, $\\sigma_i$ is the variance of the feature $i$ in the training data."
   ]
  },
  {
   "cell_type": "code",
   "execution_count": 4,
   "metadata": {},
   "outputs": [],
   "source": [
    "scaler = StandardScaler().fit(x_train)  # to find the mean value and variance og the training data set\n",
    "x_train_norm = scaler.transform(x_train)  # normalized training data\n",
    "x_test_norm = scaler.transform(x_test)  # normalized testing data"
   ]
  },
  {
   "cell_type": "markdown",
   "metadata": {},
   "source": [
    "Histogram before normalization:"
   ]
  },
  {
   "cell_type": "code",
   "execution_count": 5,
   "metadata": {},
   "outputs": [
    {
     "data": {
      "text/plain": [
       "(array([ 19.,  33.,  97., 249., 304., 268.,  87.,  88., 256.,  42.]),\n",
       " array([-2.284 , -1.6731, -1.0622, -0.4513,  0.1596,  0.7705,  1.3814,\n",
       "         1.9923,  2.6032,  3.2141,  3.825 ]),\n",
       " <BarContainer object of 10 artists>)"
      ]
     },
     "execution_count": 5,
     "metadata": {},
     "output_type": "execute_result"
    },
    {
     "data": {
      "image/png": "[encoded data removed]",
      "text/plain": [
       "<Figure size 432x288 with 1 Axes>"
      ]
     },
     "metadata": {
      "needs_background": "light"
     },
     "output_type": "display_data"
    }
   ],
   "source": [
    "plt.hist(x_test[:,0])\n",
    "plt.hist(x_test[:,1])"
   ]
  },
  {
   "cell_type": "markdown",
   "metadata": {},
   "source": [
    "Histogram after normalization:"
   ]
  },
  {
   "cell_type": "code",
   "execution_count": 6,
   "metadata": {},
   "outputs": [
    {
     "data": {
      "text/plain": [
       "(array([ 19.,  33.,  97., 249., 304., 268.,  87.,  88., 256.,  42.]),\n",
       " array([-2.5437301 , -2.0774628 , -1.6111955 , -1.1449282 , -0.67866089,\n",
       "        -0.21239359,  0.25387371,  0.72014101,  1.18640831,  1.65267562,\n",
       "         2.11894292]),\n",
       " <BarContainer object of 10 artists>)"
      ]
     },
     "execution_count": 6,
     "metadata": {},
     "output_type": "execute_result"
    },
    {
     "data": {
      "image/png": "[encoded data removed]",
      "text/plain": [
       "<Figure size 432x288 with 1 Axes>"
      ]
     },
     "metadata": {
      "needs_background": "light"
     },
     "output_type": "display_data"
    }
   ],
   "source": [
    "plt.hist(x_test_norm[:,0])\n",
    "plt.hist(x_test_norm[:,1])"
   ]
  },
  {
   "cell_type": "markdown",
   "metadata": {},
   "source": [
    "\n",
    "\n",
    "\n",
    "## Train and test neural network\n",
    "\n",
    "We construct a neural network model with one input layer, one hidden layer and one output layer, and wrap it in a function.\n",
    "\n",
    "The picture below illustrates the structure of neural network:\n",
    "\n",
    "<img width=\"512\" alt=\"NN\" src=\"https://www.astroml.org/_images/fig_neural_network_1.png\"></a>\n",
    "\n",
    "\n",
    "Here we set each layer in the neural network to be `dense` layer. A `Dense` function implements the operation: `output = activation(dot(input, kernel) + bias)` \n",
    "\n",
    "where `activation` is the element-wise activation function passed as the activation argument (shown as $f(),g()$ in the picture), `kernel` is a weights matrix created by the layer (shown as $w_{ij}, w_{jk}$ in the picture), and `bias` is a bias vector created by the layer (shown as $b_j,b_k$ in the picture).\n"
   ]
  },
  {
   "cell_type": "code",
   "execution_count": 7,
   "metadata": {},
   "outputs": [],
   "source": [
    "#Define a neural network model, and wrap this model in a function\n",
    "def nnmodel1():\n",
    "    model = Sequential()  # to specify that the neural network has to be a sequential one\n",
    "    \n",
    "    model.add(Dense(2, input_dim=x_train_norm.shape[1], kernel_initializer='normal', activation='relu'))\n",
    "    model.add(Dense(10, kernel_initializer='normal', activation='relu'))\n",
    "    model.add(Dense(1, kernel_initializer='normal'))\n",
    "    model.compile(loss='mean_squared_error', optimizer='adam')\n",
    "    return model"
   ]
  },
  {
   "cell_type": "markdown",
   "metadata": {},
   "source": [
    "After we define the neural network model, we will need to train it.\n",
    "\n",
    "* `epochs`: specify the number of epochs. In each epoch, ALL the training data will be propagated through the network once.\n",
    "* `batch_size`: the number of samples that will be propagated through the network in a batch. The weights in the network will be updated after each batch (this might depend the optimization algorithm you choose).\n",
    "* `validation_split`: split the given ratio of training data into validation data, the rest is training data. Note that only the training data will be used to train the model, the validation data is just used for evaluate the accuracy of the model after each epoch. \n",
    "\n",
    "The overall process of training:\n",
    "\n",
    "    For each epoch:\n",
    "        For each batch:\n",
    "            For each training data in the batch:\n",
    "                propagate through the network\n",
    "            Update the weights\n",
    "            Get the accuracy of training dataset\n",
    "        For each validation data in the batch:\n",
    "            Get the accuracy of validation dataset\n",
    "            "
   ]
  },
  {
   "cell_type": "code",
   "execution_count": 8,
   "metadata": {},
   "outputs": [
    {
     "name": "stderr",
     "output_type": "stream",
     "text": [
      "2022-11-20 23:04:31.862957: I tensorflow/core/platform/cpu_feature_guard.cc:142] This TensorFlow binary is optimized with oneAPI Deep Neural Network Library (oneDNN) to use the following CPU instructions in performance-critical operations:  SSE4.1 SSE4.2 AVX AVX2 FMA\n",
      "To enable them in other operations, rebuild TensorFlow with the appropriate compiler flags.\n",
      "2022-11-20 23:04:31.944858: I tensorflow/compiler/mlir/mlir_graph_optimization_pass.cc:116] None of the MLIR optimization passes are enabled (registered 2)\n",
      "2022-11-20 23:04:31.945732: I tensorflow/core/platform/profile_utils/cpu_utils.cc:112] CPU Frequency: 2199995000 Hz\n"
     ]
    }
   ],
   "source": [
    "# np.random.seed(111)\n",
    "estimator = KerasRegressor(build_fn=nnmodel1) #nnmodel1 is the neural network model we defined above\n",
    "history = estimator.fit(x_train_norm, y_train, validation_split=0.33, epochs=20, batch_size=32, verbose=0)"
   ]
  },
  {
   "cell_type": "markdown",
   "metadata": {},
   "source": [
    "After we train the model, we can plot the train and validation error in each epoch of training. This plot is called `learning curve`."
   ]
  },
  {
   "cell_type": "code",
   "execution_count": 9,
   "metadata": {},
   "outputs": [
    {
     "data": {
      "text/plain": [
       "{'loss': [33.85589599609375,\n",
       "  27.138206481933594,\n",
       "  12.668167114257812,\n",
       "  3.4551007747650146,\n",
       "  1.4169262647628784,\n",
       "  0.9654152989387512,\n",
       "  0.8884279131889343,\n",
       "  0.8796069622039795,\n",
       "  0.8776477575302124,\n",
       "  0.8779284358024597,\n",
       "  0.8756386637687683,\n",
       "  0.8746445178985596,\n",
       "  0.8723524808883667,\n",
       "  0.871158242225647,\n",
       "  0.8706158399581909,\n",
       "  0.8687270283699036,\n",
       "  0.8657941222190857,\n",
       "  0.8639244437217712,\n",
       "  0.8618634343147278,\n",
       "  0.8604869246482849],\n",
       " 'val_loss': [30.98375129699707,\n",
       "  19.737051010131836,\n",
       "  5.809046268463135,\n",
       "  1.7620443105697632,\n",
       "  0.8967539668083191,\n",
       "  0.7257398366928101,\n",
       "  0.6986331939697266,\n",
       "  0.6995475888252258,\n",
       "  0.7034256458282471,\n",
       "  0.6995846629142761,\n",
       "  0.6991456151008606,\n",
       "  0.6904900074005127,\n",
       "  0.692767858505249,\n",
       "  0.691336452960968,\n",
       "  0.6902995109558105,\n",
       "  0.6884052753448486,\n",
       "  0.6813554763793945,\n",
       "  0.6788764595985413,\n",
       "  0.6786254644393921,\n",
       "  0.6733695268630981]}"
      ]
     },
     "execution_count": 9,
     "metadata": {},
     "output_type": "execute_result"
    }
   ],
   "source": [
    "history.history"
   ]
  },
  {
   "cell_type": "code",
   "execution_count": 10,
   "metadata": {},
   "outputs": [
    {
     "data": {
      "image/png": "[encoded data removed]",
      "text/plain": [
       "<Figure size 432x288 with 1 Axes>"
      ]
     },
     "metadata": {
      "needs_background": "light"
     },
     "output_type": "display_data"
    }
   ],
   "source": [
    "plt.plot(range(20),history.history['loss'])\n",
    "plt.plot(range(20),history.history['val_loss'])\n",
    "plt.title('Learning Curves')\n",
    "plt.ylabel('loss')\n",
    "plt.xlabel('epoch') \n",
    "plt.legend(['train', 'validation'], loc='upper right')\n",
    "plt.grid()\n",
    "plt.show()"
   ]
  },
  {
   "cell_type": "markdown",
   "metadata": {},
   "source": [
    "The learning curve can be used to diagnose if the model is `Good fit`,`Under fit` or `Over fit`. It can indicate a `Good fit` if the training curve decreases to a point of stability and have a stable gap with the validation curve. A `Over fit` can be inferred if the training curve constantly decreases while the validation curve remains flat or even increases. A `Under fit` can be identified if the training curve is decreasing and continues to decrease at the end of the training process."
   ]
  },
  {
   "cell_type": "code",
   "execution_count": 11,
   "metadata": {},
   "outputs": [
    {
     "name": "stdout",
     "output_type": "stream",
     "text": [
      "final MSE for train is 0.86 and for validation is 0.67\n"
     ]
    }
   ],
   "source": [
    "print(\"final MSE for train is %.2f and for validation is %.2f\" % \n",
    "      (history.history['loss'][-1], history.history['val_loss'][-1]))"
   ]
  },
  {
   "cell_type": "markdown",
   "metadata": {},
   "source": [
    "Test the neural network:"
   ]
  },
  {
   "cell_type": "code",
   "execution_count": 12,
   "metadata": {},
   "outputs": [
    {
     "name": "stdout",
     "output_type": "stream",
     "text": [
      "46/46 [==============================] - 0s 663us/step - loss: 0.7833\n",
      "test set mse is 0.78\n"
     ]
    }
   ],
   "source": [
    "test_loss = estimator.model.evaluate(x_test_norm, y_test)\n",
    "print(\"test set mse is %.2f\" % test_loss)"
   ]
  },
  {
   "cell_type": "markdown",
   "metadata": {},
   "source": [
    "Predict with the neural network:"
   ]
  },
  {
   "cell_type": "code",
   "execution_count": 13,
   "metadata": {},
   "outputs": [],
   "source": [
    "y_test_predict = estimator.predict(x_test_norm)"
   ]
  },
  {
   "cell_type": "code",
   "execution_count": 14,
   "metadata": {},
   "outputs": [
    {
     "data": {
      "image/png": "[encoded data removed]",
      "text/plain": [
       "<Figure size 432x288 with 1 Axes>"
      ]
     },
     "metadata": {
      "needs_background": "light"
     },
     "output_type": "display_data"
    }
   ],
   "source": [
    "plt.scatter(y_test, y_test_predict)\n",
    "plt.xlabel(\"True value of test data\")\n",
    "plt.ylabel(\"Predicted value of test data\")\n",
    "plt.plot(np.arange(min(y_test),max(y_test),0.01),np.arange(min(y_test),max(y_test),0.01),c='orange')\n",
    "plt.grid()"
   ]
  },
  {
   "cell_type": "markdown",
   "metadata": {},
   "source": [
    "## Tune the neural network\n",
    "\n",
    "### Tune the activation function\n",
    "\n",
    "Three types of activation functions `ReLu` `Sigmoid` and `Tanh` are plotted below. By using different activation functions in different layers, you could allow the model to have more complex mappings between the inputs and outputs.\n",
    "\n",
    "A full list of available activation functions in Keras can be found here: https://keras.io/api/layers/activations/ .\n",
    "\n",
    "In our example, you can set the activation function of each layer by the parameter `activation` in the `Dense()` function. "
   ]
  },
  {
   "cell_type": "code",
   "execution_count": 15,
   "metadata": {},
   "outputs": [
    {
     "data": {
      "text/plain": [
       "(-5.0, 5.0, -1.2, 1.2)"
      ]
     },
     "execution_count": 15,
     "metadata": {},
     "output_type": "execute_result"
    },
    {
     "data": {
      "image/png": "[encoded data removed]",
      "text/plain": [
       "<Figure size 432x288 with 1 Axes>"
      ]
     },
     "metadata": {
      "needs_background": "light"
     },
     "output_type": "display_data"
    }
   ],
   "source": [
    "def sigmoid(z):\n",
    "    return 1 / (1 + np.exp(-z))\n",
    "\n",
    "def relu(z):\n",
    "    return np.maximum(0, z)\n",
    "\n",
    "z = np.linspace(-5, 5, 200)\n",
    "plt.plot(z, sigmoid(z), \"g--\", linewidth=2, label=\"Sigmoid\")\n",
    "plt.plot(z, np.tanh(z), \"b-\", linewidth=2, label=\"Tanh\")\n",
    "plt.plot(z, relu(z), \"m-.\", linewidth=2, label=\"ReLU\")\n",
    "\n",
    "plt.grid(True)\n",
    "plt.legend(loc=\"center right\", fontsize=14)\n",
    "plt.title(\"Activation functions\", fontsize=14)\n",
    "plt.axis([-5, 5, -1.2, 1.2])"
   ]
  },
  {
   "cell_type": "markdown",
   "metadata": {},
   "source": [
    "### Exercise 1: \n",
    "Please define a new neural network model by simply changing the parameter `activation` in the HIDDEN LAYER of the `nnmodel1()` from `relu` to another activation function of your choice, and do the train,test again.\n",
    "Is your result improved compared to `nnmodel1()` in terms of test error?"
   ]
  },
  {
   "cell_type": "code",
   "execution_count": 16,
   "metadata": {},
   "outputs": [],
   "source": [
    "# from relu to selu\n",
    "\n",
    "def nnmodel2():\n",
    "    model = Sequential()  # to specify that the neural network has to be a sequential one\n",
    "    model.add(Dense(2, input_dim=x_train_norm.shape[1], kernel_initializer='normal', activation='selu'))\n",
    "    model.add(Dense(10, kernel_initializer='normal', activation='relu'))\n",
    "    model.add(Dense(1, kernel_initializer='normal'))\n",
    "    model.compile(loss='mean_squared_error', optimizer='adam')\n",
    "    return model"
   ]
  },
  {
   "cell_type": "code",
   "execution_count": 17,
   "metadata": {},
   "outputs": [],
   "source": [
    "# np.random.seed(111)\n",
    "estimator = KerasRegressor(build_fn=nnmodel2) #nnmodel1 is the neural network model we defined above\n",
    "history1 = estimator.fit(x_train_norm, y_train, validation_split=0.33, epochs=20, batch_size=32, verbose=0)"
   ]
  },
  {
   "cell_type": "code",
   "execution_count": 18,
   "metadata": {},
   "outputs": [
    {
     "data": {
      "text/plain": [
       "{'loss': [33.75611877441406,\n",
       "  25.549636840820312,\n",
       "  10.225021362304688,\n",
       "  2.1612305641174316,\n",
       "  1.239025354385376,\n",
       "  1.2160083055496216,\n",
       "  1.2081080675125122,\n",
       "  1.1998600959777832,\n",
       "  1.1881004571914673,\n",
       "  1.1771150827407837,\n",
       "  1.1638692617416382,\n",
       "  1.1478793621063232,\n",
       "  1.1305395364761353,\n",
       "  1.1118429899215698,\n",
       "  1.0914777517318726,\n",
       "  1.0751241445541382,\n",
       "  1.0564343929290771,\n",
       "  1.039564609527588,\n",
       "  1.0241507291793823,\n",
       "  1.0127590894699097],\n",
       " 'val_loss': [30.467939376831055,\n",
       "  17.111677169799805,\n",
       "  3.7635691165924072,\n",
       "  1.0480844974517822,\n",
       "  0.9861724376678467,\n",
       "  0.9801957607269287,\n",
       "  0.9753543138504028,\n",
       "  0.9649848341941833,\n",
       "  0.9486177563667297,\n",
       "  0.9390430450439453,\n",
       "  0.9202563762664795,\n",
       "  0.9028618931770325,\n",
       "  0.8877124786376953,\n",
       "  0.8651706576347351,\n",
       "  0.8404973745346069,\n",
       "  0.8231194615364075,\n",
       "  0.8055408596992493,\n",
       "  0.7904713749885559,\n",
       "  0.7790210843086243,\n",
       "  0.7686063647270203]}"
      ]
     },
     "execution_count": 18,
     "metadata": {},
     "output_type": "execute_result"
    }
   ],
   "source": [
    "history1.history"
   ]
  },
  {
   "cell_type": "code",
   "execution_count": 19,
   "metadata": {},
   "outputs": [
    {
     "data": {
      "image/png": "[encoded data removed]",
      "text/plain": [
       "<Figure size 432x288 with 1 Axes>"
      ]
     },
     "metadata": {
      "needs_background": "light"
     },
     "output_type": "display_data"
    }
   ],
   "source": [
    "plt.plot(range(20),history1.history['loss'])\n",
    "plt.plot(range(20),history1.history['val_loss'])\n",
    "plt.title('Learning Curves')\n",
    "plt.ylabel('loss')\n",
    "plt.xlabel('epoch') \n",
    "plt.legend(['train', 'validation'], loc='upper right')\n",
    "plt.grid()\n",
    "plt.show()"
   ]
  },
  {
   "cell_type": "code",
   "execution_count": 20,
   "metadata": {},
   "outputs": [
    {
     "name": "stdout",
     "output_type": "stream",
     "text": [
      "final MSE for train is 1.01 and for validation is 0.77\n"
     ]
    }
   ],
   "source": [
    "print(\"final MSE for train is %.2f and for validation is %.2f\" % \n",
    "      (history1.history['loss'][-1], history1.history['val_loss'][-1]))"
   ]
  },
  {
   "cell_type": "code",
   "execution_count": 21,
   "metadata": {},
   "outputs": [
    {
     "name": "stdout",
     "output_type": "stream",
     "text": [
      "46/46 [==============================] - 0s 681us/step - loss: 0.8827\n",
      "test set mse is 0.88\n"
     ]
    }
   ],
   "source": [
    "test_loss = estimator.model.evaluate(x_test_norm, y_test)\n",
    "print(\"test set mse is %.2f\" % test_loss)"
   ]
  },
  {
   "cell_type": "code",
   "execution_count": 22,
   "metadata": {},
   "outputs": [],
   "source": [
    "y_test_predict = estimator.predict(x_test_norm)"
   ]
  },
  {
   "cell_type": "code",
   "execution_count": 23,
   "metadata": {},
   "outputs": [
    {
     "data": {
      "image/png": "[encoded data removed]",
      "text/plain": [
       "<Figure size 432x288 with 1 Axes>"
      ]
     },
     "metadata": {
      "needs_background": "light"
     },
     "output_type": "display_data"
    }
   ],
   "source": [
    "plt.scatter(y_test, y_test_predict)\n",
    "plt.xlabel(\"True value of test data\")\n",
    "plt.ylabel(\"Predicted value of test data\")\n",
    "plt.plot(np.arange(min(y_test),max(y_test),0.01),np.arange(min(y_test),max(y_test),0.01),c='orange')\n",
    "plt.grid()"
   ]
  },
  {
   "cell_type": "markdown",
   "metadata": {},
   "source": [
    "In Exercise 1, I used the Scaled Exponential Linear Unit (SELU) as my activation function. The result showed that my result is much worse compared to nnmodel1() in terms of test error. (0.84 > 0.64)"
   ]
  },
  {
   "cell_type": "markdown",
   "metadata": {},
   "source": [
    "### Tune learning rate of the optimizer\n",
    "\n",
    "The training of neural network can be regarded as an optimization process of searching the minimum of the loss function. Imagine you're searching a fastest way of going down a mountain (i.e. searching the 'minimum' of the mountain), one strategy you can take is going along the direction with the steepest descent of height. And after going one step in that direction, you need to determine the new steepest descent since your location is updated. This is basically the main idea of the optimization algorithm, and the size of the step you take in each time of updating the location is called `learning rate`.\n",
    "\n",
    "<img width=\"512\" alt=\"Trajectory towards local minimum\" src=\"https://miro.medium.com/max/1400/1*70f9PB-RwFaakqD6lfp4iw.png\"></a>\n",
    "\n",
    "The `Adam` optimization we use here is a stochastic gradient descent method. The learning rate can be specified by the parameter `lr` in the `keras.optimizers.Adam()`. The default value is 0.001, let's change it to 0.1.\n",
    "\n",
    "For all the available optimizers in Keras, please see this page: https://keras.io/api/optimizers/"
   ]
  },
  {
   "cell_type": "code",
   "execution_count": 24,
   "metadata": {},
   "outputs": [],
   "source": [
    "def nnmodel3():\n",
    "    model = Sequential()\n",
    "    model.add(Dense(2, input_dim=x_train_norm.shape[1], kernel_initializer='normal', activation='relu'))\n",
    "    model.add(Dense(10, kernel_initializer='normal', activation='relu'))\n",
    "    model.add(Dense(1, kernel_initializer='normal'))\n",
    "    optimizer = keras.optimizers.Adam(lr=0.1)  # to specify the learning rate\n",
    "    model.compile(loss='mean_squared_error', optimizer=optimizer)\n",
    "    return model"
   ]
  },
  {
   "cell_type": "code",
   "execution_count": 25,
   "metadata": {},
   "outputs": [],
   "source": [
    "estimator3 = KerasRegressor(build_fn=nnmodel3)\n",
    "history3 = estimator3.fit(x_train_norm, y_train, validation_split=0.33, epochs=20, batch_size=32, verbose=0)"
   ]
  },
  {
   "cell_type": "code",
   "execution_count": 26,
   "metadata": {},
   "outputs": [
    {
     "data": {
      "image/png": "[encoded data removed]",
      "text/plain": [
       "<Figure size 432x288 with 1 Axes>"
      ]
     },
     "metadata": {
      "needs_background": "light"
     },
     "output_type": "display_data"
    }
   ],
   "source": [
    "plt.plot(range(20),history3.history['loss'])\n",
    "plt.plot(range(20),history3.history['val_loss'])\n",
    "plt.title('Learning Curves')\n",
    "plt.ylabel('loss')\n",
    "plt.xlabel('epoch')\n",
    "plt.legend(['train', 'validation'], loc='upper right')\n",
    "plt.grid()\n",
    "plt.show()"
   ]
  },
  {
   "cell_type": "code",
   "execution_count": 27,
   "metadata": {},
   "outputs": [
    {
     "name": "stdout",
     "output_type": "stream",
     "text": [
      "final MSE for train is 0.59 and for validation is 0.41\n"
     ]
    }
   ],
   "source": [
    "print(\"final MSE for train is %.2f and for validation is %.2f\" % \n",
    "      (history3.history['loss'][-1], history3.history['val_loss'][-1]))"
   ]
  },
  {
   "cell_type": "code",
   "execution_count": 28,
   "metadata": {},
   "outputs": [
    {
     "name": "stdout",
     "output_type": "stream",
     "text": [
      "46/46 [==============================] - 0s 649us/step - loss: 0.4498\n",
      "test set mse is 0.45\n"
     ]
    }
   ],
   "source": [
    "test_loss3 = estimator3.model.evaluate(x_test_norm, y_test)\n",
    "print(\"test set mse is %.2f\" % test_loss3)"
   ]
  },
  {
   "cell_type": "code",
   "execution_count": 29,
   "metadata": {},
   "outputs": [
    {
     "data": {
      "image/png": "[encoded data removed]",
      "text/plain": [
       "<Figure size 432x288 with 1 Axes>"
      ]
     },
     "metadata": {
      "needs_background": "light"
     },
     "output_type": "display_data"
    }
   ],
   "source": [
    "y_test_predict3 = estimator3.predict(x_test_norm)\n",
    "plt.scatter(y_test, y_test_predict3)\n",
    "plt.xlabel(\"True value of test data\")\n",
    "plt.ylabel(\"Predicted value of test data\")\n",
    "plt.plot(np.arange(min(y_test),max(y_test),0.01),np.arange(min(y_test),max(y_test),0.01),c='orange')\n",
    "plt.grid()"
   ]
  },
  {
   "cell_type": "markdown",
   "metadata": {},
   "source": [
    "### Exercise 2:\n",
    "* Please try some other learning rate value. Is it always better to have larger learning rate? Please explain. "
   ]
  },
  {
   "cell_type": "code",
   "execution_count": 30,
   "metadata": {},
   "outputs": [],
   "source": [
    "def nnmodel3():\n",
    "    model = Sequential()\n",
    "    model.add(Dense(2, input_dim=x_train_norm.shape[1], kernel_initializer='normal', activation='relu'))\n",
    "    model.add(Dense(10, kernel_initializer='normal', activation='relu'))\n",
    "    model.add(Dense(1, kernel_initializer='normal'))\n",
    "    optimizer = keras.optimizers.Adam(lr=0.4)  # to specify the learning rate\n",
    "    model.compile(loss='mean_squared_error', optimizer=optimizer)\n",
    "    return model"
   ]
  },
  {
   "cell_type": "code",
   "execution_count": 31,
   "metadata": {},
   "outputs": [],
   "source": [
    "estimator3 = KerasRegressor(build_fn=nnmodel3)\n",
    "history3 = estimator3.fit(x_train_norm, y_train, validation_split=0.33, epochs=20, batch_size=32, verbose=0)"
   ]
  },
  {
   "cell_type": "code",
   "execution_count": 32,
   "metadata": {},
   "outputs": [
    {
     "data": {
      "image/png": "[encoded data removed]",
      "text/plain": [
       "<Figure size 432x288 with 1 Axes>"
      ]
     },
     "metadata": {
      "needs_background": "light"
     },
     "output_type": "display_data"
    }
   ],
   "source": [
    "plt.plot(range(20),history3.history['loss'])\n",
    "plt.plot(range(20),history3.history['val_loss'])\n",
    "plt.title('Learning Curves')\n",
    "plt.ylabel('loss')\n",
    "plt.xlabel('epoch')\n",
    "plt.legend(['train', 'validation'], loc='upper right')\n",
    "plt.grid()\n",
    "plt.show()"
   ]
  },
  {
   "cell_type": "code",
   "execution_count": 33,
   "metadata": {},
   "outputs": [
    {
     "name": "stdout",
     "output_type": "stream",
     "text": [
      "final MSE for train is 1.01 and for validation is 0.73\n"
     ]
    }
   ],
   "source": [
    "print(\"final MSE for train is %.2f and for validation is %.2f\" % \n",
    "      (history3.history['loss'][-1], history3.history['val_loss'][-1]))"
   ]
  },
  {
   "cell_type": "code",
   "execution_count": 34,
   "metadata": {},
   "outputs": [
    {
     "name": "stdout",
     "output_type": "stream",
     "text": [
      "46/46 [==============================] - 0s 684us/step - loss: 0.7738\n",
      "test set mse is 0.77\n"
     ]
    }
   ],
   "source": [
    "test_loss3 = estimator3.model.evaluate(x_test_norm, y_test)\n",
    "print(\"test set mse is %.2f\" % test_loss3)"
   ]
  },
  {
   "cell_type": "code",
   "execution_count": 35,
   "metadata": {},
   "outputs": [
    {
     "data": {
      "image/png": "[encoded data removed]",
      "text/plain": [
       "<Figure size 432x288 with 1 Axes>"
      ]
     },
     "metadata": {
      "needs_background": "light"
     },
     "output_type": "display_data"
    }
   ],
   "source": [
    "y_test_predict3 = estimator3.predict(x_test_norm)\n",
    "plt.scatter(y_test, y_test_predict3)\n",
    "plt.xlabel(\"True value of test data\")\n",
    "plt.ylabel(\"Predicted value of test data\")\n",
    "plt.plot(np.arange(min(y_test),max(y_test),0.01),np.arange(min(y_test),max(y_test),0.01),c='orange')\n",
    "plt.grid()"
   ]
  },
  {
   "cell_type": "markdown",
   "metadata": {},
   "source": [
    "Learning rate is a hyper-parameter that controls the weights of our neural network with respect to the loss gradient. It defines how quickly the neural network updates the concepts it has learned.\n",
    "\n",
    "In setting a learning rate, there is a trade-off between the rate of convergence and overshooting. While the descent direction is usually determined from the gradient of the loss function, the learning rate determines how big a step is taken in that direction. A too high learning rate will make the learning jump over minima but a too low learning rate will either take too long to converge or get stuck in an undesirable local minimum\n",
    "\n",
    "In the exercise, I change the learning from 0.1 to 1, and the testing error becomes higher.\n",
    "\n",
    "<img width=\"1024\" alt=\"Trajectory towards local minimum\" src=\"https://www.jeremyjordan.me/content/images/2018/02/Screen-Shot-2018-02-24-at-11.47.09-AM.png\"></a>\n",
    "\n",
    "\n",
    "Source:https://en.wikipedia.org/wiki/Learning_rate"
   ]
  },
  {
   "cell_type": "markdown",
   "metadata": {},
   "source": [
    " Tune the number of layers\n",
    "### Exercise 3: \n",
    "* Please add an extra hidden layer to the `nnmodel3`(the new layer will be right before the output layer).  The number of neurons, kernal initializer, and activation function of the new layer are up to your choice. Train the new model on the training data, and evaluate: final mse for train,validation, test set mse. Plot the learning curves, and analyze if your model is goodfit,overfit or underfit.  Make a scatter plot of predicted value of test data vs. true value of test data. "
   ]
  },
  {
   "cell_type": "code",
   "execution_count": 36,
   "metadata": {},
   "outputs": [],
   "source": [
    "def nnmodel3():\n",
    "    model = Sequential()\n",
    "    model.add(Dense(2, input_dim=x_train_norm.shape[1], kernel_initializer='normal', activation='relu'))\n",
    "    model.add(Dense(10, kernel_initializer='normal', activation='relu'))\n",
    "    model.add(Dense(8, kernel_initializer='normal', activation='relu'))\n",
    "    model.add(Dense(1, kernel_initializer='normal'))\n",
    "    optimizer = keras.optimizers.Adam(lr=0.1)  # to specify the learning rate\n",
    "    model.compile(loss='mean_squared_error', optimizer=optimizer)\n",
    "    return model"
   ]
  },
  {
   "cell_type": "code",
   "execution_count": 37,
   "metadata": {},
   "outputs": [],
   "source": [
    "estimator3 = KerasRegressor(build_fn=nnmodel3)\n",
    "history3 = estimator3.fit(x_train_norm, y_train, validation_split=0.33, epochs=20, batch_size=32, verbose=0)"
   ]
  },
  {
   "cell_type": "code",
   "execution_count": 38,
   "metadata": {},
   "outputs": [
    {
     "data": {
      "image/png": "[encoded data removed]",
      "text/plain": [
       "<Figure size 432x288 with 1 Axes>"
      ]
     },
     "metadata": {
      "needs_background": "light"
     },
     "output_type": "display_data"
    }
   ],
   "source": [
    "plt.plot(range(20),history3.history['loss'])\n",
    "plt.plot(range(20),history3.history['val_loss'])\n",
    "plt.title('Learning Curves')\n",
    "plt.ylabel('loss')\n",
    "plt.xlabel('epoch')\n",
    "plt.legend(['train', 'validation'], loc='upper right')\n",
    "plt.grid()\n",
    "plt.show()"
   ]
  },
  {
   "cell_type": "markdown",
   "metadata": {},
   "source": [
    "The learning curves above show that the training curve decreases to a point of stability and have a stable gap with the validation curve, so it the model is a good fit."
   ]
  },
  {
   "cell_type": "code",
   "execution_count": 39,
   "metadata": {},
   "outputs": [
    {
     "name": "stdout",
     "output_type": "stream",
     "text": [
      "final MSE for train is 0.73 and for validation is 0.49\n"
     ]
    }
   ],
   "source": [
    "print(\"final MSE for train is %.2f and for validation is %.2f\" % \n",
    "      (history3.history['loss'][-1], history3.history['val_loss'][-1]))"
   ]
  },
  {
   "cell_type": "code",
   "execution_count": 40,
   "metadata": {},
   "outputs": [
    {
     "name": "stdout",
     "output_type": "stream",
     "text": [
      "46/46 [==============================] - 0s 672us/step - loss: 0.5324\n",
      "test set mse is 0.53\n"
     ]
    }
   ],
   "source": [
    "test_loss3 = estimator3.model.evaluate(x_test_norm, y_test)\n",
    "print(\"test set mse is %.2f\" % test_loss3)"
   ]
  },
  {
   "cell_type": "code",
   "execution_count": 41,
   "metadata": {},
   "outputs": [
    {
     "data": {
      "image/png": "[encoded data removed]",
      "text/plain": [
       "<Figure size 432x288 with 1 Axes>"
      ]
     },
     "metadata": {
      "needs_background": "light"
     },
     "output_type": "display_data"
    }
   ],
   "source": [
    "y_test_predict3 = estimator3.predict(x_test_norm)\n",
    "plt.scatter(y_test, y_test_predict3)\n",
    "plt.xlabel(\"True value of test data\")\n",
    "plt.ylabel(\"Predicted value of test data\")\n",
    "plt.plot(np.arange(min(y_test),max(y_test),0.01),np.arange(min(y_test),max(y_test),0.01),c='orange')\n",
    "plt.grid()"
   ]
  },
  {
   "cell_type": "markdown",
   "metadata": {},
   "source": [
    "### Resources:\n",
    "\n",
    "* You may have noticed that the result is changing everytime even when you train the same model with the same data. \n",
    "You will need to set up some random seeds (shown below) to make the training process completely reproducible(i.e. to make the training loss and test mse exactly the same every time you run it). (You can refer to this page for more details: https://keras.io/getting_started/faq/#how-can-i-obtain-reproducible-results-using-keras-during-development )\n"
   ]
  },
  {
   "cell_type": "code",
   "execution_count": 42,
   "metadata": {},
   "outputs": [],
   "source": [
    "import numpy as np\n",
    "import tensorflow as tf\n",
    "import random as python_random\n",
    "\n",
    "np.random.seed(123)\n",
    "python_random.seed(123)\n",
    "tf.random.set_seed(123)"
   ]
  },
  {
   "cell_type": "markdown",
   "metadata": {},
   "source": [
    "* How to use Learning Curves to Diagnose Machine Learning Model Performance: https://machinelearningmastery.com/learning-curves-for-diagnosing-machine-learning-model-performance/\n",
    "\n",
    "* For more details about the Gradient Descent algorithm and learning rate, you can check out this article: https://towardsdatascience.com/gradient-descent-algorithm-and-its-variants-10f652806a3"
   ]
  },
  {
   "cell_type": "code",
   "execution_count": null,
   "metadata": {},
   "outputs": [],
   "source": []
  }
 ],
 "metadata": {
  "kernelspec": {
   "display_name": "Python 3 (ipykernel)",
   "language": "python",
   "name": "python3"
  },
  "language_info": {
   "codemirror_mode": {
    "name": "ipython",
    "version": 3
   },
   "file_extension": ".py",
   "mimetype": "text/x-python",
   "name": "python",
   "nbconvert_exporter": "python",
   "pygments_lexer": "ipython3",
   "version": "3.9.7"
  }
 },
 "nbformat": 4,
 "nbformat_minor": 4
}
