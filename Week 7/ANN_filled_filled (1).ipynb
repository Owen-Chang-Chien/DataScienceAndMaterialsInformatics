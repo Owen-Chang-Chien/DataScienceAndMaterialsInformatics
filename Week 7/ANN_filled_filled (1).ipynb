{
 "cells": [
  {
   "cell_type": "code",
   "execution_count": 1,
   "metadata": {},
   "outputs": [],
   "source": [
    "import numpy as np\n",
    "import pandas as pd\n",
    "import matplotlib.pyplot as plt\n",
    "from mpl_toolkits import mplot3d\n",
    "import seaborn as sns\n",
    "from IPython.display import display, Image\n",
    "sns.set()\n",
    "%matplotlib inline"
   ]
  },
  {
   "cell_type": "markdown",
   "metadata": {},
   "source": [
    "# Neural Network"
   ]
  },
  {
   "cell_type": "markdown",
   "metadata": {},
   "source": [
    "**How does an artificial neural network look like**?"
   ]
  },
  {
   "cell_type": "code",
   "execution_count": 2,
   "metadata": {},
   "outputs": [
    {
     "data": {
      "text/html": [
       "<img src=\"https://upload.wikimedia.org/wikipedia/commons/thumb/9/99/Neural_network_example.svg/220px-Neural_network_example.svg.png\"/>"
      ],
      "text/plain": [
       "<IPython.core.display.Image object>"
      ]
     },
     "execution_count": 2,
     "metadata": {},
     "output_type": "execute_result"
    }
   ],
   "source": [
    "Image(url = 'https://upload.wikimedia.org/wikipedia/commons/thumb/9/99/Neural_network_example.svg/220px-Neural_network_example.svg.png')"
   ]
  },
  {
   "cell_type": "markdown",
   "metadata": {},
   "source": [
    "**What can neural networks do?**\n",
    "\n",
    "Can do both classification and regression. Examples include images classification, self-driving, AlphaGo, Tiktok video recommendation algorithm. \n",
    "\n",
    "**Why is the neural network considered as a more advanced method than KNN?**\n",
    "\n",
    "Neural networks combines many different ideas: linear and nonlinear regression, ensemble methods ((another example is a more advanced type of tree - random forest), etc. The input features often live in a higher-dimensional space. -- at the core of deep learning."
   ]
  },
  {
   "cell_type": "markdown",
   "metadata": {},
   "source": [
    "### Perceptrons\n",
    "\n",
    "- One of the simplest neural network architectures\n",
    "- Developed by Frank Rosenblatt in 1957.\n",
    "- Supervised learning method of binary classifiers (output is binary).\n",
    "\n",
    "See wikipedia page for more information about perceptrons: https://en.wikipedia.org/wiki/Perceptron"
   ]
  },
  {
   "cell_type": "code",
   "execution_count": 3,
   "metadata": {},
   "outputs": [
    {
     "data": {
      "text/html": [
       "<img src=\"https://upload.wikimedia.org/wikipedia/en/thumb/5/52/Mark_I_perceptron.jpeg/220px-Mark_I_perceptron.jpeg\"/>"
      ],
      "text/plain": [
       "<IPython.core.display.Image object>"
      ]
     },
     "execution_count": 3,
     "metadata": {},
     "output_type": "execute_result"
    }
   ],
   "source": [
    "Image(url = 'https://upload.wikimedia.org/wikipedia/en/thumb/5/52/Mark_I_perceptron.jpeg/220px-Mark_I_perceptron.jpeg')"
   ]
  },
  {
   "cell_type": "markdown",
   "metadata": {},
   "source": [
    "**How does a perceptron work?**\n",
    "\n",
    "Recall the multilinear regression: $ y = b + \\Sigma w_i x_i $. \n",
    "\n",
    "If $ y \\ge 0 $, output 1. Otherwise ($ y \\lt 0 $) output 0. Such behavior is called step functions in mathematics.\n",
    "\n",
    "we rename:\n",
    "\n",
    "- $b$ : bias\n",
    "- $w_i$ : weight of feature $x_i$\n",
    "\n"
   ]
  },
  {
   "cell_type": "code",
   "execution_count": 4,
   "metadata": {},
   "outputs": [
    {
     "data": {
      "text/html": [
       "<img src=\"https://upload.wikimedia.org/wikipedia/commons/thumb/9/97/Ncell.png/300px-Ncell.png\"/>"
      ],
      "text/plain": [
       "<IPython.core.display.Image object>"
      ]
     },
     "execution_count": 4,
     "metadata": {},
     "output_type": "execute_result"
    }
   ],
   "source": [
    "Image(url = 'https://upload.wikimedia.org/wikipedia/commons/thumb/9/97/Ncell.png/300px-Ncell.png')"
   ]
  },
  {
   "cell_type": "markdown",
   "metadata": {},
   "source": [
    "A perceptron is similar to a linear SVM."
   ]
  },
  {
   "cell_type": "markdown",
   "metadata": {},
   "source": [
    "**Use perceptron to classify gas and solid in the periodic table**"
   ]
  },
  {
   "cell_type": "code",
   "execution_count": 5,
   "metadata": {},
   "outputs": [],
   "source": [
    "Elements = pd.read_csv('https://gist.githubusercontent.com/GoodmanSciences/c2dd862cd38f21b0ad36b8f96b4bf1ee/raw/1d92663004489a5b6926e944c1b3d9ec5c40900e/Periodic%2520Table%2520of%2520Elements.csv')\n",
    "Elements_sg = Elements.loc[(Elements['Phase'] != 'artificial') & (Elements['Phase'] != 'liq')]\n",
    "Elements_sg_new = Elements_sg.drop([1])"
   ]
  },
  {
   "cell_type": "code",
   "execution_count": 6,
   "metadata": {},
   "outputs": [
    {
     "name": "stdout",
     "output_type": "stream",
     "text": [
      "weights: [[1402.169 3595.58 ]]\n",
      "bias: [-110.]\n"
     ]
    }
   ],
   "source": [
    "from sklearn.linear_model import Perceptron\n",
    "\n",
    "clf = Perceptron()\n",
    "\n",
    "# do we need class_weight = 'balanced'?\n",
    "\n",
    "clf.fit(Elements_sg_new[[\"MeltingPoint\", \"BoilingPoint\"]].values, Elements_sg_new['Phase'])\n",
    "\n",
    "print(\"weights:\", clf.coef_)\n",
    "print(\"bias:\", clf.intercept_)"
   ]
  },
  {
   "cell_type": "code",
   "execution_count": 7,
   "metadata": {},
   "outputs": [
    {
     "data": {
      "image/png": "[encoded data removed]",
      "text/plain": [
       "<Figure size 425.35x360 with 1 Axes>"
      ]
     },
     "metadata": {
      "needs_background": "light"
     },
     "output_type": "display_data"
    }
   ],
   "source": [
    "# array of melting point \n",
    "x_m = np.linspace(1, 4000, 401)\n",
    "# array of boiling point\n",
    "x_b = np.linspace(1, 4000, 401)\n",
    "# Get 2D mesh of x_m and x_b\n",
    "xx_1, xx_2 = np.meshgrid(x_m, x_b)\n",
    "# flatten the 2D array to plot decision boundary\n",
    "xx = np.concatenate((xx_1.ravel().reshape(-1,1), xx_2.ravel().reshape(-1,1)), axis=1)\n",
    "# predict\n",
    "y = clf.predict(xx)\n",
    "# plot the result\n",
    "Elements_predict = pd.DataFrame(data=np.concatenate((xx, y.reshape(-1,1)), axis=1), columns=[\"MeltingPoint\", \"BoilingPoint\", \"Phase\"])\n",
    "Elements_predict['MeltingPoint'] = Elements_predict['MeltingPoint'].astype(float)\n",
    "Elements_predict['BoilingPoint'] = Elements_predict['BoilingPoint'].astype(float)\n",
    "sns.lmplot(x = \"MeltingPoint\", y = \"BoilingPoint\", hue=\"Phase\", data = Elements_predict, fit_reg = False);"
   ]
  },
  {
   "cell_type": "code",
   "execution_count": 8,
   "metadata": {},
   "outputs": [
    {
     "data": {
      "text/plain": [
       "0.8850574712643678"
      ]
     },
     "execution_count": 8,
     "metadata": {},
     "output_type": "execute_result"
    }
   ],
   "source": [
    "from sklearn.metrics import accuracy_score\n",
    "accuracy_score(clf.predict(Elements_sg_new[[\"MeltingPoint\", \"BoilingPoint\"]].values), Elements_sg_new['Phase'])"
   ]
  },
  {
   "cell_type": "markdown",
   "metadata": {},
   "source": [
    "**Normalization**\n",
    "\n",
    "Rescaling the data to small values (in general, input values to a neural network should be close to zero -- typically we expect either data with zero-mean and unit-variance, or data in the [0, 1] range. Normalization is necessary for neural network applications. "
   ]
  },
  {
   "cell_type": "code",
   "execution_count": 9,
   "metadata": {},
   "outputs": [
    {
     "data": {
      "image/png": "[encoded data removed]",
      "text/plain": [
       "<Figure size 425.35x360 with 1 Axes>"
      ]
     },
     "metadata": {
      "needs_background": "light"
     },
     "output_type": "display_data"
    }
   ],
   "source": [
    "from sklearn.preprocessing import StandardScaler\n",
    "\n",
    "# do we need class_weight = 'balanced'?\n",
    "\n",
    "sc = StandardScaler()\n",
    "sc.fit(Elements_sg_new[[\"MeltingPoint\", \"BoilingPoint\"]])\n",
    "X = sc.transform(Elements_sg_new[[\"MeltingPoint\", \"BoilingPoint\"]])\n",
    "\n",
    "clf.fit(X, Elements_sg_new['Phase'])\n",
    "\n",
    "sc.fit(xx)\n",
    "xx_std = sc.transform(xx)\n",
    "# predict\n",
    "y = clf.predict(xx_std)\n",
    "# plot the result\n",
    "Elements_predict = pd.DataFrame(data=np.concatenate((xx, y.reshape(-1,1)), axis=1), columns=[\"MeltingPoint\", \"BoilingPoint\", \"Phase\"])\n",
    "Elements_predict['MeltingPoint'] = Elements_predict['MeltingPoint'].astype(float)\n",
    "Elements_predict['BoilingPoint'] = Elements_predict['BoilingPoint'].astype(float)\n",
    "sns.lmplot(x = \"MeltingPoint\", y = \"BoilingPoint\", hue=\"Phase\", data = Elements_predict, fit_reg = False);"
   ]
  },
  {
   "cell_type": "markdown",
   "metadata": {},
   "source": [
    "**Biological analog**"
   ]
  },
  {
   "cell_type": "code",
   "execution_count": 10,
   "metadata": {},
   "outputs": [
    {
     "data": {
      "text/html": [
       "<img src=\"https://upload.wikimedia.org/wikipedia/commons/4/44/Neuron3.png\"/>"
      ],
      "text/plain": [
       "<IPython.core.display.Image object>"
      ]
     },
     "execution_count": 10,
     "metadata": {},
     "output_type": "execute_result"
    }
   ],
   "source": [
    "Image(url = 'https://upload.wikimedia.org/wikipedia/commons/4/44/Neuron3.png')"
   ]
  },
  {
   "cell_type": "markdown",
   "metadata": {},
   "source": [
    "**Limitation**"
   ]
  },
  {
   "cell_type": "markdown",
   "metadata": {},
   "source": [
    "A single perceptron fails in the XOR problem.\n",
    "\n",
    "\n",
    "XOR truth table\n",
    "\n",
    "| Input x1 | Input x2 | Output |\n",
    "|----------|----------|--------|\n",
    "|0|0|0|\n",
    "|0|1|1|\n",
    "|1|0|1|\n",
    "|1|1|0|\n"
   ]
  },
  {
   "cell_type": "markdown",
   "metadata": {},
   "source": [
    "### Multi-Layer Perceptrons (MLPs) "
   ]
  },
  {
   "cell_type": "markdown",
   "metadata": {},
   "source": [
    "Welcome to the real world! Biological analog:"
   ]
  },
  {
   "cell_type": "code",
   "execution_count": 11,
   "metadata": {},
   "outputs": [
    {
     "data": {
      "text/html": [
       "<img src=\"https://upload.wikimedia.org/wikipedia/commons/b/be/Forest_of_synthetic_pyramidal_dendrites_grown_using_Cajal%27s_laws_of_neuronal_branching.png\"/>"
      ],
      "text/plain": [
       "<IPython.core.display.Image object>"
      ]
     },
     "execution_count": 11,
     "metadata": {},
     "output_type": "execute_result"
    }
   ],
   "source": [
    "Image(url = 'https://upload.wikimedia.org/wikipedia/commons/b/be/Forest_of_synthetic_pyramidal_dendrites_grown_using_Cajal%27s_laws_of_neuronal_branching.png')"
   ]
  },
  {
   "cell_type": "markdown",
   "metadata": {},
   "source": [
    "**Structure of a MLP**"
   ]
  },
  {
   "cell_type": "code",
   "execution_count": 12,
   "metadata": {},
   "outputs": [
    {
     "data": {
      "text/html": [
       "<img src=\"https://upload.wikimedia.org/wikipedia/en/5/54/Feed_forward_neural_net.gif\"/>"
      ],
      "text/plain": [
       "<IPython.core.display.Image object>"
      ]
     },
     "execution_count": 12,
     "metadata": {},
     "output_type": "execute_result"
    }
   ],
   "source": [
    "Image(url = 'https://upload.wikimedia.org/wikipedia/en/5/54/Feed_forward_neural_net.gif')"
   ]
  },
  {
   "cell_type": "markdown",
   "metadata": {},
   "source": [
    "Some terminology:\n",
    "\n",
    "- MLP belongs to the class of **feedforward neural networks**\n",
    "- **backpropagation** is a widely used algorithm in training feedforward neural networks: it find out how each connection weight and each bias term should be tweaked in order to reduce the error.\n",
    "\n",
    "Details of training in handson, summary:\n",
    "\n",
    "for each training instance the backpropagation algorithm first makes a prediction (forward propagation), measures the error (MSE, cross-entropy, etc.), then goes through each layer in reverse to measure the error contribution from each connection (backward propagation), and finally slightly tweaks the connection weights to reduce the error (using gradient descent for example). These steps are usually automatically taken care of in Keras.\n",
    "\n",
    "Ref: Hands-On Machine Learning with Scikit-Learn, Keras, and TensorFlow\n",
    "\n",
    "When an artificial neural network contains a deep stack of hidden layers, it is called a **deep neural network**."
   ]
  },
  {
   "cell_type": "markdown",
   "metadata": {},
   "source": [
    "### Activation function"
   ]
  },
  {
   "cell_type": "markdown",
   "metadata": {},
   "source": [
    "Simple perception uses the step function as the activation function, i.e., if $ y \\ge 0 $, output 1. Otherwise ($ y \\lt 0 $) output 0. This behavior is not smooth and is usually not optimal for using and traning the neural network.\n",
    "\n",
    "Alternatives:\n",
    "\n",
    "- The logistic function: $f(y) = \\sigma (y) = \\frac{1}{1\\ –\\ e^{-y}}$\n",
    "- The hyperbolic tangent function: $f(y) = tanh(y) = 2\\sigma(2y) – 1$\n",
    "- The rectified linear unit function: $ f(y) = ReLU(y) = max(0, y) $\n",
    "- Softmax: $f_i(x) = \\frac{e^{x_i}}{\\Sigma_{j=1}^n e^{x_j}} $\n",
    "- ...\n",
    "\n",
    "Wikipedia has a list of activation functions: https://en.wikipedia.org/wiki/Activation_function. A problem could favor one activition function over another. NN is a very fexible method that different layers can use different activation function.\n",
    "\n",
    "The nonlinear behaivor of activiation function is the fudemental origin that neural network is a nonlinear method."
   ]
  },
  {
   "cell_type": "markdown",
   "metadata": {},
   "source": [
    "# Using Keras"
   ]
  },
  {
   "cell_type": "markdown",
   "metadata": {},
   "source": [
    "Similar to what we have learned from Sklearn, neural networks don't process raw data, like text files, encoded JPEG image files, or CSV files. They process vectorized & standardized representations.\n",
    "\n",
    "In Keras:\n",
    "\n",
    "- Text files need to be read into string tensors, then split into words. Finally, the words need to be indexed & turned into integer tensors.\n",
    "- Images need to be read and decoded into integer tensors, then converted to floating point and normalized to small values (usually between 0 and 1).\n",
    "- CSV data needs to be parsed, with numerical features converted to floating point tensors and categorical features indexed and converted to integer tensors. Then each feature typically needs to be normalized to zero-mean and unit-variance.\n",
    "- Etc.\n",
    "\n",
    "Ref: https://keras.io/getting_started/intro_to_keras_for_engineers/\n",
    "\n",
    "Keras has three backend implementations available:\n",
    "\n",
    "- TensorFlow (Google).\n",
    "- Theano (LISA Lab at Université de Montréal).\n",
    "- Microsoft Cognitive Toolkit (CNTK).\n",
    "\n",
    "Other open-source frameworks (cannot be used as the backend for Keras):\n",
    "\n",
    "- PyTorch (Facebook)\n",
    "\n",
    "**This tutorial uses tensorflow in the bankend of Keras**"
   ]
  },
  {
   "cell_type": "markdown",
   "metadata": {},
   "source": [
    "### Example: atomization energy predicted from regression MLPs, using number of atoms.\n",
    "\n",
    "A regression task:\n",
    "\n",
    "- output: atomization energy\n",
    "- input: number of atoms of each atomic species\n",
    "\n",
    "Six input neurons, one output neuron. We do not want to use any activation function for the output neurons, so they are free to output any range of values.\n",
    "\n",
    "Let's experiment wihth 6 neurons in one hidden layer, activation function of ReLU in the hidden layer, loss function using MSE.\n"
   ]
  },
  {
   "cell_type": "code",
   "execution_count": 13,
   "metadata": {},
   "outputs": [],
   "source": [
    "import tensorflow as tf\n",
    "from tensorflow import keras\n",
    "from sklearn.preprocessing import StandardScaler\n",
    "from sklearn.model_selection import train_test_split"
   ]
  },
  {
   "cell_type": "markdown",
   "metadata": {},
   "source": [
    "**Load data**"
   ]
  },
  {
   "cell_type": "code",
   "execution_count": 14,
   "metadata": {},
   "outputs": [],
   "source": [
    "qm7b = pd.read_csv('http://faculty.washington.edu/tingcao/wordpress/wp-content/uploads/2020/10/qm7b.csv');\n",
    "\n",
    "# Train-test splitting\n",
    "xx_train, xx_validate, y_train, y_validate= train_test_split(qm7b[['n_H', 'n_C', 'n_N', 'n_O', 'n_S', 'n_Cl']].values, qm7b['ae_pbe0'].values, random_state = 290, train_size = 0.8)\n",
    "\n",
    "# Normalization\n",
    "scaler = StandardScaler()\n",
    "sc = sc.fit(xx_train)\n",
    "xx_train_sc = sc.transform(xx_train)\n",
    "xx_validate_sc = sc.transform(xx_validate)"
   ]
  },
  {
   "cell_type": "markdown",
   "metadata": {},
   "source": [
    "**Build the model**"
   ]
  },
  {
   "cell_type": "code",
   "execution_count": 15,
   "metadata": {},
   "outputs": [
    {
     "name": "stderr",
     "output_type": "stream",
     "text": [
      "2022-10-29 23:33:45.151473: I tensorflow/core/platform/cpu_feature_guard.cc:142] This TensorFlow binary is optimized with oneAPI Deep Neural Network Library (oneDNN) to use the following CPU instructions in performance-critical operations:  SSE4.1 SSE4.2 AVX AVX2 FMA\n",
      "To enable them in other operations, rebuild TensorFlow with the appropriate compiler flags.\n"
     ]
    }
   ],
   "source": [
    "# simplest sequential NN (MLP)\n",
    "model = keras.models.Sequential()\n",
    "# construct input layer\n",
    "model.add(keras.layers.Flatten(input_shape=[6]))\n",
    "# first hidden layer\n",
    "model.add(keras.layers.Dense(6, activation='relu'))\n",
    "# output layer\n",
    "model.add(keras.layers.Dense(1, activation=None))\n",
    "# compile the model (include loss function and optimizer)\n",
    "model.compile(loss=\"mse\", optimizer=\"adam\", metrics=[\"RootMeanSquaredError\"])"
   ]
  },
  {
   "cell_type": "code",
   "execution_count": 16,
   "metadata": {},
   "outputs": [
    {
     "name": "stdout",
     "output_type": "stream",
     "text": [
      "Model: \"sequential\"\n",
      "_________________________________________________________________\n",
      "Layer (type)                 Output Shape              Param #   \n",
      "=================================================================\n",
      "flatten (Flatten)            (None, 6)                 0         \n",
      "_________________________________________________________________\n",
      "dense (Dense)                (None, 6)                 42        \n",
      "_________________________________________________________________\n",
      "dense_1 (Dense)              (None, 1)                 7         \n",
      "=================================================================\n",
      "Total params: 49\n",
      "Trainable params: 49\n",
      "Non-trainable params: 0\n",
      "_________________________________________________________________\n"
     ]
    }
   ],
   "source": [
    "model.summary()"
   ]
  },
  {
   "cell_type": "markdown",
   "metadata": {},
   "source": [
    "Notice the number of parameters: NN is a very **flexible** model, but often run into **overfitting**.\n",
    "\n",
    "Parameters can be found by using _get_weights()_."
   ]
  },
  {
   "cell_type": "code",
   "execution_count": 17,
   "metadata": {},
   "outputs": [],
   "source": [
    "# initial parameters\n",
    "weights, biases = model.layers[1].get_weights()"
   ]
  },
  {
   "cell_type": "markdown",
   "metadata": {},
   "source": [
    "**Train the model**"
   ]
  },
  {
   "cell_type": "code",
   "execution_count": 19,
   "metadata": {},
   "outputs": [
    {
     "name": "stdout",
     "output_type": "stream",
     "text": [
      "Epoch 1/200\n",
      "181/181 [==============================] - 0s 1ms/step - loss: 1975.1033 - root_mean_squared_error: 44.4421 - val_loss: 2541.7896 - val_root_mean_squared_error: 50.4162\n",
      "Epoch 2/200\n",
      "181/181 [==============================] - 0s 1ms/step - loss: 1941.1761 - root_mean_squared_error: 44.0588 - val_loss: 2500.5095 - val_root_mean_squared_error: 50.0051\n",
      "Epoch 3/200\n",
      "181/181 [==============================] - 0s 1ms/step - loss: 1905.1230 - root_mean_squared_error: 43.6477 - val_loss: 2452.6172 - val_root_mean_squared_error: 49.5239\n",
      "Epoch 4/200\n",
      "181/181 [==============================] - 0s 1ms/step - loss: 1866.8545 - root_mean_squared_error: 43.2071 - val_loss: 2407.4573 - val_root_mean_squared_error: 49.0658\n",
      "Epoch 5/200\n",
      "181/181 [==============================] - 0s 1ms/step - loss: 1831.6168 - root_mean_squared_error: 42.7974 - val_loss: 2361.0425 - val_root_mean_squared_error: 48.5906\n",
      "Epoch 6/200\n",
      "181/181 [==============================] - 0s 1ms/step - loss: 1793.9783 - root_mean_squared_error: 42.3554 - val_loss: 2322.0630 - val_root_mean_squared_error: 48.1878\n",
      "Epoch 7/200\n",
      "181/181 [==============================] - 0s 1ms/step - loss: 1759.0815 - root_mean_squared_error: 41.9414 - val_loss: 2274.8171 - val_root_mean_squared_error: 47.6950\n",
      "Epoch 8/200\n",
      "181/181 [==============================] - 0s 1ms/step - loss: 1725.6562 - root_mean_squared_error: 41.5410 - val_loss: 2236.2209 - val_root_mean_squared_error: 47.2887\n",
      "Epoch 9/200\n",
      "181/181 [==============================] - 0s 1ms/step - loss: 1690.3306 - root_mean_squared_error: 41.1136 - val_loss: 2190.3586 - val_root_mean_squared_error: 46.8013\n",
      "Epoch 10/200\n",
      "181/181 [==============================] - 0s 1ms/step - loss: 1658.0123 - root_mean_squared_error: 40.7187 - val_loss: 2150.4866 - val_root_mean_squared_error: 46.3733\n",
      "Epoch 11/200\n",
      "181/181 [==============================] - 0s 1ms/step - loss: 1625.9329 - root_mean_squared_error: 40.3229 - val_loss: 2112.1838 - val_root_mean_squared_error: 45.9585\n",
      "Epoch 12/200\n",
      "181/181 [==============================] - 0s 1ms/step - loss: 1594.3853 - root_mean_squared_error: 39.9298 - val_loss: 2071.6609 - val_root_mean_squared_error: 45.5155\n",
      "Epoch 13/200\n",
      "181/181 [==============================] - 0s 1ms/step - loss: 1564.4011 - root_mean_squared_error: 39.5525 - val_loss: 2032.0776 - val_root_mean_squared_error: 45.0786\n",
      "Epoch 14/200\n",
      "181/181 [==============================] - 0s 1ms/step - loss: 1534.1370 - root_mean_squared_error: 39.1681 - val_loss: 1994.4175 - val_root_mean_squared_error: 44.6589\n",
      "Epoch 15/200\n",
      "181/181 [==============================] - 0s 1ms/step - loss: 1504.7351 - root_mean_squared_error: 38.7909 - val_loss: 1959.8280 - val_root_mean_squared_error: 44.2699\n",
      "Epoch 16/200\n",
      "181/181 [==============================] - 0s 1ms/step - loss: 1476.4161 - root_mean_squared_error: 38.4242 - val_loss: 1920.0801 - val_root_mean_squared_error: 43.8187\n",
      "Epoch 17/200\n",
      "181/181 [==============================] - 0s 1ms/step - loss: 1449.1643 - root_mean_squared_error: 38.0679 - val_loss: 1883.1165 - val_root_mean_squared_error: 43.3949\n",
      "Epoch 18/200\n",
      "181/181 [==============================] - 0s 1ms/step - loss: 1422.1884 - root_mean_squared_error: 37.7119 - val_loss: 1850.0393 - val_root_mean_squared_error: 43.0121\n",
      "Epoch 19/200\n",
      "181/181 [==============================] - 0s 1ms/step - loss: 1393.9349 - root_mean_squared_error: 37.3354 - val_loss: 1821.0201 - val_root_mean_squared_error: 42.6734\n",
      "Epoch 20/200\n",
      "181/181 [==============================] - 0s 1ms/step - loss: 1367.8899 - root_mean_squared_error: 36.9850 - val_loss: 1780.7020 - val_root_mean_squared_error: 42.1984\n",
      "Epoch 21/200\n",
      "181/181 [==============================] - 0s 1ms/step - loss: 1343.0546 - root_mean_squared_error: 36.6477 - val_loss: 1750.4929 - val_root_mean_squared_error: 41.8389\n",
      "Epoch 22/200\n",
      "181/181 [==============================] - 0s 1ms/step - loss: 1317.1809 - root_mean_squared_error: 36.2930 - val_loss: 1715.1991 - val_root_mean_squared_error: 41.4150\n",
      "Epoch 23/200\n",
      "181/181 [==============================] - 0s 1ms/step - loss: 1292.4674 - root_mean_squared_error: 35.9509 - val_loss: 1687.3616 - val_root_mean_squared_error: 41.0775\n",
      "Epoch 24/200\n",
      "181/181 [==============================] - 0s 1ms/step - loss: 1271.3103 - root_mean_squared_error: 35.6554 - val_loss: 1650.8763 - val_root_mean_squared_error: 40.6310\n",
      "Epoch 25/200\n",
      "181/181 [==============================] - 0s 1ms/step - loss: 1247.0581 - root_mean_squared_error: 35.3137 - val_loss: 1625.2228 - val_root_mean_squared_error: 40.3141\n",
      "Epoch 26/200\n",
      "181/181 [==============================] - 0s 1ms/step - loss: 1224.8768 - root_mean_squared_error: 34.9982 - val_loss: 1594.5479 - val_root_mean_squared_error: 39.9318\n",
      "Epoch 27/200\n",
      "181/181 [==============================] - 0s 1ms/step - loss: 1202.3490 - root_mean_squared_error: 34.6749 - val_loss: 1568.7803 - val_root_mean_squared_error: 39.6078\n",
      "Epoch 28/200\n",
      "181/181 [==============================] - 0s 1ms/step - loss: 1181.6725 - root_mean_squared_error: 34.3755 - val_loss: 1538.0861 - val_root_mean_squared_error: 39.2184\n",
      "Epoch 29/200\n",
      "181/181 [==============================] - 0s 1ms/step - loss: 1162.1263 - root_mean_squared_error: 34.0900 - val_loss: 1510.0868 - val_root_mean_squared_error: 38.8598\n",
      "Epoch 30/200\n",
      "181/181 [==============================] - 0s 1ms/step - loss: 1141.6769 - root_mean_squared_error: 33.7887 - val_loss: 1484.0038 - val_root_mean_squared_error: 38.5228\n",
      "Epoch 31/200\n",
      "181/181 [==============================] - 0s 1ms/step - loss: 1120.3333 - root_mean_squared_error: 33.4714 - val_loss: 1458.3131 - val_root_mean_squared_error: 38.1879\n",
      "Epoch 32/200\n",
      "181/181 [==============================] - 0s 1ms/step - loss: 1102.0250 - root_mean_squared_error: 33.1968 - val_loss: 1433.5211 - val_root_mean_squared_error: 37.8619\n",
      "Epoch 33/200\n",
      "181/181 [==============================] - 0s 1ms/step - loss: 1082.8832 - root_mean_squared_error: 32.9072 - val_loss: 1409.5073 - val_root_mean_squared_error: 37.5434\n",
      "Epoch 34/200\n",
      "181/181 [==============================] - 0s 1ms/step - loss: 1063.7383 - root_mean_squared_error: 32.6150 - val_loss: 1383.4333 - val_root_mean_squared_error: 37.1945\n",
      "Epoch 35/200\n",
      "181/181 [==============================] - 0s 1ms/step - loss: 1047.1230 - root_mean_squared_error: 32.3593 - val_loss: 1363.5109 - val_root_mean_squared_error: 36.9257\n",
      "Epoch 36/200\n",
      "181/181 [==============================] - 0s 1ms/step - loss: 1030.3849 - root_mean_squared_error: 32.0996 - val_loss: 1339.0601 - val_root_mean_squared_error: 36.5932\n",
      "Epoch 37/200\n",
      "181/181 [==============================] - 0s 1ms/step - loss: 1013.4685 - root_mean_squared_error: 31.8350 - val_loss: 1313.5050 - val_root_mean_squared_error: 36.2423\n",
      "Epoch 38/200\n",
      "181/181 [==============================] - 0s 1ms/step - loss: 997.1589 - root_mean_squared_error: 31.5778 - val_loss: 1295.7750 - val_root_mean_squared_error: 35.9969\n",
      "Epoch 39/200\n",
      "181/181 [==============================] - 0s 1ms/step - loss: 980.7863 - root_mean_squared_error: 31.3175 - val_loss: 1273.1689 - val_root_mean_squared_error: 35.6815\n",
      "Epoch 40/200\n",
      "181/181 [==============================] - 0s 1ms/step - loss: 966.2490 - root_mean_squared_error: 31.0845 - val_loss: 1248.8306 - val_root_mean_squared_error: 35.3388\n",
      "Epoch 41/200\n",
      "181/181 [==============================] - 0s 1ms/step - loss: 951.7372 - root_mean_squared_error: 30.8502 - val_loss: 1228.2981 - val_root_mean_squared_error: 35.0471\n",
      "Epoch 42/200\n",
      "181/181 [==============================] - 0s 1ms/step - loss: 939.0444 - root_mean_squared_error: 30.6438 - val_loss: 1210.3127 - val_root_mean_squared_error: 34.7896\n",
      "Epoch 43/200\n",
      "181/181 [==============================] - 0s 1ms/step - loss: 923.9460 - root_mean_squared_error: 30.3965 - val_loss: 1189.5825 - val_root_mean_squared_error: 34.4903\n",
      "Epoch 44/200\n",
      "181/181 [==============================] - 0s 1ms/step - loss: 911.1447 - root_mean_squared_error: 30.1852 - val_loss: 1173.7725 - val_root_mean_squared_error: 34.2604\n",
      "Epoch 45/200\n",
      "181/181 [==============================] - 0s 1ms/step - loss: 897.8298 - root_mean_squared_error: 29.9638 - val_loss: 1153.8350 - val_root_mean_squared_error: 33.9681\n",
      "Epoch 46/200\n",
      "181/181 [==============================] - 0s 1ms/step - loss: 884.6073 - root_mean_squared_error: 29.7423 - val_loss: 1138.6561 - val_root_mean_squared_error: 33.7440\n",
      "Epoch 47/200\n",
      "181/181 [==============================] - 0s 1ms/step - loss: 872.6957 - root_mean_squared_error: 29.5414 - val_loss: 1116.4868 - val_root_mean_squared_error: 33.4139\n",
      "Epoch 48/200\n",
      "181/181 [==============================] - 0s 1ms/step - loss: 861.1370 - root_mean_squared_error: 29.3451 - val_loss: 1105.1547 - val_root_mean_squared_error: 33.2439\n",
      "Epoch 49/200\n",
      "181/181 [==============================] - 0s 1ms/step - loss: 849.8989 - root_mean_squared_error: 29.1530 - val_loss: 1088.3982 - val_root_mean_squared_error: 32.9909\n",
      "Epoch 50/200\n",
      "181/181 [==============================] - 0s 1ms/step - loss: 838.6033 - root_mean_squared_error: 28.9586 - val_loss: 1068.7577 - val_root_mean_squared_error: 32.6919\n",
      "Epoch 51/200\n",
      "181/181 [==============================] - 0s 1ms/step - loss: 827.3556 - root_mean_squared_error: 28.7638 - val_loss: 1052.7372 - val_root_mean_squared_error: 32.4459\n",
      "Epoch 52/200\n",
      "181/181 [==============================] - 0s 1ms/step - loss: 817.7591 - root_mean_squared_error: 28.5965 - val_loss: 1039.1887 - val_root_mean_squared_error: 32.2365\n",
      "Epoch 53/200\n",
      "181/181 [==============================] - 0s 1ms/step - loss: 808.0505 - root_mean_squared_error: 28.4262 - val_loss: 1021.1574 - val_root_mean_squared_error: 31.9556\n",
      "Epoch 54/200\n",
      "181/181 [==============================] - 0s 1ms/step - loss: 797.7250 - root_mean_squared_error: 28.2440 - val_loss: 1005.9233 - val_root_mean_squared_error: 31.7163\n",
      "Epoch 55/200\n",
      "181/181 [==============================] - 0s 1ms/step - loss: 788.8422 - root_mean_squared_error: 28.0863 - val_loss: 990.5397 - val_root_mean_squared_error: 31.4728\n",
      "Epoch 56/200\n",
      "181/181 [==============================] - 0s 1ms/step - loss: 779.3758 - root_mean_squared_error: 27.9173 - val_loss: 977.9171 - val_root_mean_squared_error: 31.2717\n",
      "Epoch 57/200\n",
      "181/181 [==============================] - 0s 1ms/step - loss: 773.2007 - root_mean_squared_error: 27.8065 - val_loss: 965.5599 - val_root_mean_squared_error: 31.0735\n",
      "Epoch 58/200\n",
      "181/181 [==============================] - 0s 1ms/step - loss: 763.7581 - root_mean_squared_error: 27.6362 - val_loss: 955.6173 - val_root_mean_squared_error: 30.9131\n",
      "Epoch 59/200\n",
      "181/181 [==============================] - 0s 1ms/step - loss: 756.5101 - root_mean_squared_error: 27.5047 - val_loss: 947.6929 - val_root_mean_squared_error: 30.7846\n",
      "Epoch 60/200\n",
      "181/181 [==============================] - 0s 1ms/step - loss: 748.0726 - root_mean_squared_error: 27.3509 - val_loss: 929.4771 - val_root_mean_squared_error: 30.4873\n",
      "Epoch 61/200\n",
      "181/181 [==============================] - 0s 1ms/step - loss: 740.5836 - root_mean_squared_error: 27.2137 - val_loss: 917.9469 - val_root_mean_squared_error: 30.2976\n",
      "Epoch 62/200\n",
      "181/181 [==============================] - 0s 1ms/step - loss: 732.6185 - root_mean_squared_error: 27.0669 - val_loss: 908.3096 - val_root_mean_squared_error: 30.1382\n",
      "Epoch 63/200\n",
      "181/181 [==============================] - 0s 1ms/step - loss: 726.0555 - root_mean_squared_error: 26.9454 - val_loss: 896.7932 - val_root_mean_squared_error: 29.9465\n",
      "Epoch 64/200\n",
      "181/181 [==============================] - 0s 1ms/step - loss: 718.8113 - root_mean_squared_error: 26.8107 - val_loss: 886.1482 - val_root_mean_squared_error: 29.7682\n",
      "Epoch 65/200\n",
      "181/181 [==============================] - 0s 1ms/step - loss: 714.1162 - root_mean_squared_error: 26.7230 - val_loss: 877.6663 - val_root_mean_squared_error: 29.6254\n",
      "Epoch 66/200\n",
      "181/181 [==============================] - 0s 1ms/step - loss: 708.1911 - root_mean_squared_error: 26.6119 - val_loss: 866.2209 - val_root_mean_squared_error: 29.4316\n",
      "Epoch 67/200\n",
      "181/181 [==============================] - 0s 1ms/step - loss: 700.7763 - root_mean_squared_error: 26.4722 - val_loss: 856.9075 - val_root_mean_squared_error: 29.2730\n",
      "Epoch 68/200\n",
      "181/181 [==============================] - 0s 1ms/step - loss: 695.3813 - root_mean_squared_error: 26.3701 - val_loss: 847.5217 - val_root_mean_squared_error: 29.1122\n",
      "Epoch 69/200\n",
      "181/181 [==============================] - 0s 1ms/step - loss: 689.7427 - root_mean_squared_error: 26.2630 - val_loss: 836.5347 - val_root_mean_squared_error: 28.9229\n",
      "Epoch 70/200\n",
      "181/181 [==============================] - 0s 1ms/step - loss: 683.2753 - root_mean_squared_error: 26.1395 - val_loss: 825.9863 - val_root_mean_squared_error: 28.7400\n",
      "Epoch 71/200\n",
      "181/181 [==============================] - 0s 1ms/step - loss: 678.7544 - root_mean_squared_error: 26.0529 - val_loss: 818.6692 - val_root_mean_squared_error: 28.6124\n",
      "Epoch 72/200\n",
      "181/181 [==============================] - 0s 1ms/step - loss: 675.0535 - root_mean_squared_error: 25.9818 - val_loss: 812.0037 - val_root_mean_squared_error: 28.4957\n",
      "Epoch 73/200\n",
      "181/181 [==============================] - 0s 1ms/step - loss: 669.1198 - root_mean_squared_error: 25.8673 - val_loss: 803.2963 - val_root_mean_squared_error: 28.3425\n",
      "Epoch 74/200\n",
      "181/181 [==============================] - 0s 1ms/step - loss: 665.2359 - root_mean_squared_error: 25.7922 - val_loss: 795.3543 - val_root_mean_squared_error: 28.2020\n",
      "Epoch 75/200\n",
      "181/181 [==============================] - 0s 1ms/step - loss: 660.2687 - root_mean_squared_error: 25.6957 - val_loss: 789.5041 - val_root_mean_squared_error: 28.0981\n",
      "Epoch 76/200\n",
      "181/181 [==============================] - 0s 1ms/step - loss: 656.0920 - root_mean_squared_error: 25.6143 - val_loss: 782.4289 - val_root_mean_squared_error: 27.9719\n",
      "Epoch 77/200\n",
      "181/181 [==============================] - 0s 1ms/step - loss: 652.5453 - root_mean_squared_error: 25.5450 - val_loss: 776.5184 - val_root_mean_squared_error: 27.8661\n",
      "Epoch 78/200\n",
      "181/181 [==============================] - 0s 1ms/step - loss: 648.9181 - root_mean_squared_error: 25.4739 - val_loss: 769.1599 - val_root_mean_squared_error: 27.7337\n",
      "Epoch 79/200\n",
      "181/181 [==============================] - 0s 1ms/step - loss: 645.1017 - root_mean_squared_error: 25.3989 - val_loss: 763.5330 - val_root_mean_squared_error: 27.6321\n",
      "Epoch 80/200\n",
      "181/181 [==============================] - 0s 1ms/step - loss: 641.6240 - root_mean_squared_error: 25.3303 - val_loss: 756.1176 - val_root_mean_squared_error: 27.4976\n",
      "Epoch 81/200\n",
      "181/181 [==============================] - 0s 1ms/step - loss: 639.2369 - root_mean_squared_error: 25.2831 - val_loss: 750.4798 - val_root_mean_squared_error: 27.3949\n",
      "Epoch 82/200\n",
      "181/181 [==============================] - 0s 1ms/step - loss: 634.8905 - root_mean_squared_error: 25.1970 - val_loss: 742.3541 - val_root_mean_squared_error: 27.2462\n",
      "Epoch 83/200\n",
      "181/181 [==============================] - 0s 1ms/step - loss: 631.5245 - root_mean_squared_error: 25.1301 - val_loss: 738.4450 - val_root_mean_squared_error: 27.1743\n",
      "Epoch 84/200\n",
      "181/181 [==============================] - 0s 1ms/step - loss: 628.1689 - root_mean_squared_error: 25.0633 - val_loss: 731.2247 - val_root_mean_squared_error: 27.0412\n",
      "Epoch 85/200\n",
      "181/181 [==============================] - 0s 1ms/step - loss: 625.1592 - root_mean_squared_error: 25.0032 - val_loss: 728.4473 - val_root_mean_squared_error: 26.9898\n",
      "Epoch 86/200\n",
      "181/181 [==============================] - 0s 1ms/step - loss: 622.6839 - root_mean_squared_error: 24.9536 - val_loss: 723.6743 - val_root_mean_squared_error: 26.9012\n",
      "Epoch 87/200\n",
      "181/181 [==============================] - 0s 1ms/step - loss: 619.7416 - root_mean_squared_error: 24.8946 - val_loss: 714.7238 - val_root_mean_squared_error: 26.7343\n",
      "Epoch 88/200\n",
      "181/181 [==============================] - 0s 1ms/step - loss: 616.9407 - root_mean_squared_error: 24.8383 - val_loss: 709.7429 - val_root_mean_squared_error: 26.6410\n",
      "Epoch 89/200\n",
      "181/181 [==============================] - 0s 1ms/step - loss: 614.5986 - root_mean_squared_error: 24.7911 - val_loss: 707.7623 - val_root_mean_squared_error: 26.6038\n",
      "Epoch 90/200\n",
      "181/181 [==============================] - 0s 1ms/step - loss: 611.1296 - root_mean_squared_error: 24.7210 - val_loss: 701.4094 - val_root_mean_squared_error: 26.4841\n",
      "Epoch 91/200\n",
      "181/181 [==============================] - 0s 1ms/step - loss: 609.3055 - root_mean_squared_error: 24.6841 - val_loss: 696.8572 - val_root_mean_squared_error: 26.3981\n",
      "Epoch 92/200\n",
      "181/181 [==============================] - 0s 1ms/step - loss: 606.5056 - root_mean_squared_error: 24.6273 - val_loss: 693.9332 - val_root_mean_squared_error: 26.3426\n",
      "Epoch 93/200\n",
      "181/181 [==============================] - 0s 1ms/step - loss: 603.8614 - root_mean_squared_error: 24.5736 - val_loss: 688.8635 - val_root_mean_squared_error: 26.2462\n",
      "Epoch 94/200\n",
      "181/181 [==============================] - 0s 1ms/step - loss: 601.0793 - root_mean_squared_error: 24.5169 - val_loss: 686.5113 - val_root_mean_squared_error: 26.2014\n",
      "Epoch 95/200\n",
      "181/181 [==============================] - 0s 1ms/step - loss: 598.6487 - root_mean_squared_error: 24.4673 - val_loss: 679.2180 - val_root_mean_squared_error: 26.0618\n",
      "Epoch 96/200\n",
      "181/181 [==============================] - 0s 1ms/step - loss: 595.6885 - root_mean_squared_error: 24.4067 - val_loss: 675.1473 - val_root_mean_squared_error: 25.9836\n",
      "Epoch 97/200\n",
      "181/181 [==============================] - 0s 1ms/step - loss: 593.8016 - root_mean_squared_error: 24.3680 - val_loss: 675.0560 - val_root_mean_squared_error: 25.9818\n",
      "Epoch 98/200\n",
      "181/181 [==============================] - 0s 1ms/step - loss: 591.1190 - root_mean_squared_error: 24.3129 - val_loss: 673.5433 - val_root_mean_squared_error: 25.9527\n",
      "Epoch 99/200\n",
      "181/181 [==============================] - 0s 1ms/step - loss: 589.1318 - root_mean_squared_error: 24.2720 - val_loss: 665.6971 - val_root_mean_squared_error: 25.8011\n",
      "Epoch 100/200\n",
      "181/181 [==============================] - 0s 1ms/step - loss: 588.4098 - root_mean_squared_error: 24.2572 - val_loss: 663.2301 - val_root_mean_squared_error: 25.7533\n",
      "Epoch 101/200\n",
      "181/181 [==============================] - 0s 1ms/step - loss: 584.7764 - root_mean_squared_error: 24.1821 - val_loss: 656.0403 - val_root_mean_squared_error: 25.6133\n",
      "Epoch 102/200\n",
      "181/181 [==============================] - 0s 1ms/step - loss: 583.6197 - root_mean_squared_error: 24.1582 - val_loss: 656.5953 - val_root_mean_squared_error: 25.6241\n",
      "Epoch 103/200\n",
      "181/181 [==============================] - 0s 1ms/step - loss: 581.0690 - root_mean_squared_error: 24.1054 - val_loss: 655.9858 - val_root_mean_squared_error: 25.6122\n",
      "Epoch 104/200\n",
      "181/181 [==============================] - 0s 1ms/step - loss: 579.7378 - root_mean_squared_error: 24.0777 - val_loss: 647.8624 - val_root_mean_squared_error: 25.4531\n",
      "Epoch 105/200\n",
      "181/181 [==============================] - 0s 1ms/step - loss: 577.5955 - root_mean_squared_error: 24.0332 - val_loss: 644.4821 - val_root_mean_squared_error: 25.3867\n",
      "Epoch 106/200\n",
      "181/181 [==============================] - 0s 1ms/step - loss: 575.4015 - root_mean_squared_error: 23.9875 - val_loss: 642.9783 - val_root_mean_squared_error: 25.3570\n",
      "Epoch 107/200\n",
      "181/181 [==============================] - 0s 1ms/step - loss: 575.8474 - root_mean_squared_error: 23.9968 - val_loss: 641.3736 - val_root_mean_squared_error: 25.3254\n",
      "Epoch 108/200\n",
      "181/181 [==============================] - 0s 1ms/step - loss: 572.6301 - root_mean_squared_error: 23.9297 - val_loss: 635.9749 - val_root_mean_squared_error: 25.2185\n",
      "Epoch 109/200\n",
      "181/181 [==============================] - 0s 1ms/step - loss: 570.6412 - root_mean_squared_error: 23.8881 - val_loss: 636.6218 - val_root_mean_squared_error: 25.2314\n",
      "Epoch 110/200\n",
      "181/181 [==============================] - 0s 1ms/step - loss: 569.9601 - root_mean_squared_error: 23.8738 - val_loss: 629.7159 - val_root_mean_squared_error: 25.0941\n",
      "Epoch 111/200\n",
      "181/181 [==============================] - 0s 1ms/step - loss: 567.6473 - root_mean_squared_error: 23.8253 - val_loss: 630.1055 - val_root_mean_squared_error: 25.1019\n",
      "Epoch 112/200\n",
      "181/181 [==============================] - 0s 1ms/step - loss: 568.1724 - root_mean_squared_error: 23.8364 - val_loss: 624.7869 - val_root_mean_squared_error: 24.9957\n",
      "Epoch 113/200\n",
      "181/181 [==============================] - 0s 1ms/step - loss: 564.7139 - root_mean_squared_error: 23.7637 - val_loss: 622.9748 - val_root_mean_squared_error: 24.9595\n",
      "Epoch 114/200\n",
      "181/181 [==============================] - 0s 1ms/step - loss: 563.0331 - root_mean_squared_error: 23.7283 - val_loss: 617.9555 - val_root_mean_squared_error: 24.8587\n",
      "Epoch 115/200\n",
      "181/181 [==============================] - 0s 1ms/step - loss: 561.6802 - root_mean_squared_error: 23.6998 - val_loss: 617.3293 - val_root_mean_squared_error: 24.8461\n",
      "Epoch 116/200\n",
      "181/181 [==============================] - 0s 1ms/step - loss: 560.6284 - root_mean_squared_error: 23.6776 - val_loss: 617.5680 - val_root_mean_squared_error: 24.8509\n",
      "Epoch 117/200\n",
      "181/181 [==============================] - 0s 1ms/step - loss: 559.0360 - root_mean_squared_error: 23.6439 - val_loss: 612.5939 - val_root_mean_squared_error: 24.7506\n",
      "Epoch 118/200\n",
      "181/181 [==============================] - 0s 1ms/step - loss: 557.8626 - root_mean_squared_error: 23.6191 - val_loss: 611.1118 - val_root_mean_squared_error: 24.7207\n",
      "Epoch 119/200\n",
      "181/181 [==============================] - 0s 1ms/step - loss: 557.6174 - root_mean_squared_error: 23.6139 - val_loss: 606.5500 - val_root_mean_squared_error: 24.6282\n",
      "Epoch 120/200\n",
      "181/181 [==============================] - 0s 1ms/step - loss: 555.8088 - root_mean_squared_error: 23.5756 - val_loss: 606.9484 - val_root_mean_squared_error: 24.6363\n",
      "Epoch 121/200\n",
      "181/181 [==============================] - 0s 1ms/step - loss: 554.0615 - root_mean_squared_error: 23.5385 - val_loss: 601.3558 - val_root_mean_squared_error: 24.5226\n",
      "Epoch 122/200\n",
      "181/181 [==============================] - 0s 1ms/step - loss: 552.1896 - root_mean_squared_error: 23.4987 - val_loss: 598.6457 - val_root_mean_squared_error: 24.4672\n",
      "Epoch 123/200\n",
      "181/181 [==============================] - 0s 1ms/step - loss: 551.0253 - root_mean_squared_error: 23.4739 - val_loss: 599.1925 - val_root_mean_squared_error: 24.4784\n",
      "Epoch 124/200\n",
      "181/181 [==============================] - 0s 1ms/step - loss: 550.2102 - root_mean_squared_error: 23.4566 - val_loss: 595.5057 - val_root_mean_squared_error: 24.4030\n",
      "Epoch 125/200\n",
      "181/181 [==============================] - 0s 1ms/step - loss: 548.4322 - root_mean_squared_error: 23.4186 - val_loss: 593.4346 - val_root_mean_squared_error: 24.3605\n",
      "Epoch 126/200\n",
      "181/181 [==============================] - 0s 1ms/step - loss: 547.4939 - root_mean_squared_error: 23.3986 - val_loss: 593.6193 - val_root_mean_squared_error: 24.3643\n",
      "Epoch 127/200\n",
      "181/181 [==============================] - 0s 1ms/step - loss: 546.3575 - root_mean_squared_error: 23.3743 - val_loss: 592.0048 - val_root_mean_squared_error: 24.3312\n",
      "Epoch 128/200\n",
      "181/181 [==============================] - 0s 1ms/step - loss: 545.3282 - root_mean_squared_error: 23.3523 - val_loss: 588.3132 - val_root_mean_squared_error: 24.2552\n",
      "Epoch 129/200\n",
      "181/181 [==============================] - 0s 1ms/step - loss: 543.6725 - root_mean_squared_error: 23.3168 - val_loss: 588.2729 - val_root_mean_squared_error: 24.2543\n",
      "Epoch 130/200\n",
      "181/181 [==============================] - 0s 1ms/step - loss: 543.2136 - root_mean_squared_error: 23.3069 - val_loss: 585.0273 - val_root_mean_squared_error: 24.1873\n",
      "Epoch 131/200\n",
      "181/181 [==============================] - 0s 1ms/step - loss: 541.5742 - root_mean_squared_error: 23.2717 - val_loss: 582.7332 - val_root_mean_squared_error: 24.1399\n",
      "Epoch 132/200\n",
      "181/181 [==============================] - 0s 1ms/step - loss: 540.1122 - root_mean_squared_error: 23.2403 - val_loss: 582.1263 - val_root_mean_squared_error: 24.1273\n",
      "Epoch 133/200\n",
      "181/181 [==============================] - 0s 1ms/step - loss: 539.3778 - root_mean_squared_error: 23.2245 - val_loss: 579.9446 - val_root_mean_squared_error: 24.0820\n",
      "Epoch 134/200\n",
      "181/181 [==============================] - 0s 1ms/step - loss: 538.1667 - root_mean_squared_error: 23.1984 - val_loss: 579.1619 - val_root_mean_squared_error: 24.0658\n",
      "Epoch 135/200\n",
      "181/181 [==============================] - 0s 1ms/step - loss: 537.2686 - root_mean_squared_error: 23.1791 - val_loss: 578.8944 - val_root_mean_squared_error: 24.0602\n",
      "Epoch 136/200\n",
      "181/181 [==============================] - 0s 1ms/step - loss: 535.6620 - root_mean_squared_error: 23.1444 - val_loss: 573.0499 - val_root_mean_squared_error: 23.9385\n",
      "Epoch 137/200\n",
      "181/181 [==============================] - 0s 1ms/step - loss: 535.1180 - root_mean_squared_error: 23.1326 - val_loss: 570.9282 - val_root_mean_squared_error: 23.8941\n",
      "Epoch 138/200\n",
      "181/181 [==============================] - 0s 1ms/step - loss: 533.3008 - root_mean_squared_error: 23.0933 - val_loss: 569.6630 - val_root_mean_squared_error: 23.8676\n",
      "Epoch 139/200\n",
      "181/181 [==============================] - 0s 1ms/step - loss: 533.6633 - root_mean_squared_error: 23.1012 - val_loss: 573.2654 - val_root_mean_squared_error: 23.9430\n",
      "Epoch 140/200\n",
      "181/181 [==============================] - 0s 1ms/step - loss: 531.7227 - root_mean_squared_error: 23.0591 - val_loss: 564.9039 - val_root_mean_squared_error: 23.7677\n",
      "Epoch 141/200\n",
      "181/181 [==============================] - 0s 1ms/step - loss: 530.9077 - root_mean_squared_error: 23.0414 - val_loss: 562.3909 - val_root_mean_squared_error: 23.7148\n",
      "Epoch 142/200\n",
      "181/181 [==============================] - 0s 1ms/step - loss: 529.6620 - root_mean_squared_error: 23.0144 - val_loss: 563.7369 - val_root_mean_squared_error: 23.7431\n",
      "Epoch 143/200\n",
      "181/181 [==============================] - 0s 1ms/step - loss: 528.8618 - root_mean_squared_error: 22.9970 - val_loss: 563.2348 - val_root_mean_squared_error: 23.7326\n",
      "Epoch 144/200\n",
      "181/181 [==============================] - 0s 1ms/step - loss: 528.7064 - root_mean_squared_error: 22.9936 - val_loss: 562.1369 - val_root_mean_squared_error: 23.7094\n",
      "Epoch 145/200\n",
      "181/181 [==============================] - 0s 1ms/step - loss: 527.0131 - root_mean_squared_error: 22.9568 - val_loss: 557.1230 - val_root_mean_squared_error: 23.6035\n",
      "Epoch 146/200\n",
      "181/181 [==============================] - 0s 1ms/step - loss: 526.8904 - root_mean_squared_error: 22.9541 - val_loss: 559.0341 - val_root_mean_squared_error: 23.6439\n",
      "Epoch 147/200\n",
      "181/181 [==============================] - 0s 1ms/step - loss: 524.6567 - root_mean_squared_error: 22.9054 - val_loss: 552.2252 - val_root_mean_squared_error: 23.4995\n",
      "Epoch 148/200\n",
      "181/181 [==============================] - 0s 1ms/step - loss: 524.4403 - root_mean_squared_error: 22.9007 - val_loss: 551.2840 - val_root_mean_squared_error: 23.4794\n",
      "Epoch 149/200\n",
      "181/181 [==============================] - 0s 1ms/step - loss: 523.4934 - root_mean_squared_error: 22.8800 - val_loss: 550.1885 - val_root_mean_squared_error: 23.4561\n",
      "Epoch 150/200\n",
      "181/181 [==============================] - 0s 1ms/step - loss: 522.1736 - root_mean_squared_error: 22.8511 - val_loss: 550.5397 - val_root_mean_squared_error: 23.4636\n",
      "Epoch 151/200\n",
      "181/181 [==============================] - 0s 1ms/step - loss: 520.5140 - root_mean_squared_error: 22.8148 - val_loss: 549.1787 - val_root_mean_squared_error: 23.4346\n",
      "Epoch 152/200\n",
      "181/181 [==============================] - 0s 1ms/step - loss: 519.5812 - root_mean_squared_error: 22.7943 - val_loss: 544.4616 - val_root_mean_squared_error: 23.3337\n",
      "Epoch 153/200\n",
      "181/181 [==============================] - 0s 1ms/step - loss: 518.4980 - root_mean_squared_error: 22.7706 - val_loss: 544.5813 - val_root_mean_squared_error: 23.3363\n",
      "Epoch 154/200\n",
      "181/181 [==============================] - 0s 1ms/step - loss: 518.4122 - root_mean_squared_error: 22.7687 - val_loss: 543.4730 - val_root_mean_squared_error: 23.3125\n",
      "Epoch 155/200\n",
      "181/181 [==============================] - 0s 1ms/step - loss: 516.5236 - root_mean_squared_error: 22.7272 - val_loss: 542.8259 - val_root_mean_squared_error: 23.2986\n",
      "Epoch 156/200\n",
      "181/181 [==============================] - 0s 1ms/step - loss: 515.2631 - root_mean_squared_error: 22.6994 - val_loss: 538.3602 - val_root_mean_squared_error: 23.2026\n",
      "Epoch 157/200\n",
      "181/181 [==============================] - 0s 1ms/step - loss: 515.3700 - root_mean_squared_error: 22.7018 - val_loss: 536.1275 - val_root_mean_squared_error: 23.1544\n",
      "Epoch 158/200\n",
      "181/181 [==============================] - 0s 1ms/step - loss: 513.9280 - root_mean_squared_error: 22.6700 - val_loss: 536.5582 - val_root_mean_squared_error: 23.1637\n",
      "Epoch 159/200\n",
      "181/181 [==============================] - 0s 1ms/step - loss: 512.2816 - root_mean_squared_error: 22.6336 - val_loss: 534.3412 - val_root_mean_squared_error: 23.1158\n",
      "Epoch 160/200\n",
      "181/181 [==============================] - 0s 1ms/step - loss: 512.6154 - root_mean_squared_error: 22.6410 - val_loss: 534.3504 - val_root_mean_squared_error: 23.1160\n",
      "Epoch 161/200\n",
      "181/181 [==============================] - 0s 1ms/step - loss: 511.7411 - root_mean_squared_error: 22.6217 - val_loss: 535.6180 - val_root_mean_squared_error: 23.1434\n",
      "Epoch 162/200\n",
      "181/181 [==============================] - 0s 1ms/step - loss: 511.1245 - root_mean_squared_error: 22.6081 - val_loss: 532.5638 - val_root_mean_squared_error: 23.0773\n",
      "Epoch 163/200\n",
      "181/181 [==============================] - 0s 1ms/step - loss: 510.3870 - root_mean_squared_error: 22.5917 - val_loss: 534.9821 - val_root_mean_squared_error: 23.1297\n",
      "Epoch 164/200\n",
      "181/181 [==============================] - 0s 1ms/step - loss: 509.1471 - root_mean_squared_error: 22.5643 - val_loss: 526.8461 - val_root_mean_squared_error: 22.9531\n",
      "Epoch 165/200\n",
      "181/181 [==============================] - 0s 1ms/step - loss: 508.5063 - root_mean_squared_error: 22.5501 - val_loss: 525.4379 - val_root_mean_squared_error: 22.9224\n",
      "Epoch 166/200\n",
      "181/181 [==============================] - 0s 1ms/step - loss: 507.0123 - root_mean_squared_error: 22.5169 - val_loss: 528.8688 - val_root_mean_squared_error: 22.9971\n",
      "Epoch 167/200\n",
      "181/181 [==============================] - 0s 1ms/step - loss: 505.6931 - root_mean_squared_error: 22.4876 - val_loss: 522.4838 - val_root_mean_squared_error: 22.8579\n",
      "Epoch 168/200\n",
      "181/181 [==============================] - 0s 1ms/step - loss: 504.9532 - root_mean_squared_error: 22.4712 - val_loss: 520.7185 - val_root_mean_squared_error: 22.8193\n",
      "Epoch 169/200\n",
      "181/181 [==============================] - 0s 1ms/step - loss: 505.4259 - root_mean_squared_error: 22.4817 - val_loss: 521.3879 - val_root_mean_squared_error: 22.8339\n",
      "Epoch 170/200\n",
      "181/181 [==============================] - 0s 1ms/step - loss: 504.5650 - root_mean_squared_error: 22.4625 - val_loss: 520.1331 - val_root_mean_squared_error: 22.8064\n",
      "Epoch 171/200\n",
      "181/181 [==============================] - 0s 1ms/step - loss: 503.3212 - root_mean_squared_error: 22.4348 - val_loss: 519.6025 - val_root_mean_squared_error: 22.7948\n",
      "Epoch 172/200\n",
      "181/181 [==============================] - 0s 1ms/step - loss: 502.1294 - root_mean_squared_error: 22.4082 - val_loss: 520.0506 - val_root_mean_squared_error: 22.8046\n",
      "Epoch 173/200\n",
      "181/181 [==============================] - 0s 1ms/step - loss: 502.1975 - root_mean_squared_error: 22.4098 - val_loss: 517.6683 - val_root_mean_squared_error: 22.7523\n",
      "Epoch 174/200\n",
      "181/181 [==============================] - 0s 1ms/step - loss: 500.7803 - root_mean_squared_error: 22.3781 - val_loss: 516.9348 - val_root_mean_squared_error: 22.7362\n",
      "Epoch 175/200\n",
      "181/181 [==============================] - 0s 1ms/step - loss: 501.6788 - root_mean_squared_error: 22.3982 - val_loss: 517.7253 - val_root_mean_squared_error: 22.7536\n",
      "Epoch 176/200\n",
      "181/181 [==============================] - 0s 1ms/step - loss: 499.8163 - root_mean_squared_error: 22.3566 - val_loss: 513.9116 - val_root_mean_squared_error: 22.6696\n",
      "Epoch 177/200\n",
      "181/181 [==============================] - 0s 1ms/step - loss: 498.2561 - root_mean_squared_error: 22.3216 - val_loss: 516.6565 - val_root_mean_squared_error: 22.7301\n",
      "Epoch 178/200\n",
      "181/181 [==============================] - 0s 1ms/step - loss: 497.8332 - root_mean_squared_error: 22.3122 - val_loss: 513.4365 - val_root_mean_squared_error: 22.6591\n",
      "Epoch 179/200\n",
      "181/181 [==============================] - 0s 1ms/step - loss: 496.6549 - root_mean_squared_error: 22.2858 - val_loss: 509.8989 - val_root_mean_squared_error: 22.5809\n",
      "Epoch 180/200\n",
      "181/181 [==============================] - 0s 1ms/step - loss: 496.1679 - root_mean_squared_error: 22.2748 - val_loss: 511.2468 - val_root_mean_squared_error: 22.6108\n",
      "Epoch 181/200\n",
      "181/181 [==============================] - 0s 1ms/step - loss: 496.4425 - root_mean_squared_error: 22.2810 - val_loss: 510.7603 - val_root_mean_squared_error: 22.6000\n",
      "Epoch 182/200\n",
      "181/181 [==============================] - 0s 1ms/step - loss: 495.0948 - root_mean_squared_error: 22.2507 - val_loss: 507.2400 - val_root_mean_squared_error: 22.5220\n",
      "Epoch 183/200\n",
      "181/181 [==============================] - 0s 1ms/step - loss: 493.7522 - root_mean_squared_error: 22.2205 - val_loss: 505.1065 - val_root_mean_squared_error: 22.4746\n",
      "Epoch 184/200\n",
      "181/181 [==============================] - 0s 1ms/step - loss: 493.3386 - root_mean_squared_error: 22.2112 - val_loss: 504.8048 - val_root_mean_squared_error: 22.4679\n",
      "Epoch 185/200\n",
      "181/181 [==============================] - 0s 1ms/step - loss: 492.6251 - root_mean_squared_error: 22.1952 - val_loss: 507.7998 - val_root_mean_squared_error: 22.5344\n",
      "Epoch 186/200\n",
      "181/181 [==============================] - 0s 1ms/step - loss: 491.7211 - root_mean_squared_error: 22.1748 - val_loss: 502.7723 - val_root_mean_squared_error: 22.4226\n",
      "Epoch 187/200\n",
      "181/181 [==============================] - 0s 1ms/step - loss: 490.8379 - root_mean_squared_error: 22.1549 - val_loss: 502.9682 - val_root_mean_squared_error: 22.4270\n",
      "Epoch 188/200\n",
      "181/181 [==============================] - 0s 1ms/step - loss: 491.0872 - root_mean_squared_error: 22.1605 - val_loss: 505.8527 - val_root_mean_squared_error: 22.4912\n",
      "Epoch 189/200\n",
      "181/181 [==============================] - 0s 1ms/step - loss: 489.7095 - root_mean_squared_error: 22.1294 - val_loss: 499.5513 - val_root_mean_squared_error: 22.3506\n",
      "Epoch 190/200\n",
      "181/181 [==============================] - 0s 1ms/step - loss: 489.0260 - root_mean_squared_error: 22.1139 - val_loss: 498.2115 - val_root_mean_squared_error: 22.3207\n",
      "Epoch 191/200\n",
      "181/181 [==============================] - 0s 1ms/step - loss: 488.2378 - root_mean_squared_error: 22.0961 - val_loss: 500.3561 - val_root_mean_squared_error: 22.3686\n",
      "Epoch 192/200\n",
      "181/181 [==============================] - 0s 1ms/step - loss: 487.3732 - root_mean_squared_error: 22.0765 - val_loss: 497.8409 - val_root_mean_squared_error: 22.3123\n",
      "Epoch 193/200\n",
      "181/181 [==============================] - 0s 1ms/step - loss: 486.8101 - root_mean_squared_error: 22.0638 - val_loss: 494.2989 - val_root_mean_squared_error: 22.2328\n",
      "Epoch 194/200\n",
      "181/181 [==============================] - 0s 1ms/step - loss: 486.0036 - root_mean_squared_error: 22.0455 - val_loss: 494.8445 - val_root_mean_squared_error: 22.2451\n",
      "Epoch 195/200\n",
      "181/181 [==============================] - 0s 1ms/step - loss: 486.2303 - root_mean_squared_error: 22.0506 - val_loss: 493.2089 - val_root_mean_squared_error: 22.2083\n",
      "Epoch 196/200\n",
      "181/181 [==============================] - 0s 1ms/step - loss: 485.2601 - root_mean_squared_error: 22.0286 - val_loss: 493.8148 - val_root_mean_squared_error: 22.2219\n",
      "Epoch 197/200\n",
      "181/181 [==============================] - 0s 1ms/step - loss: 484.6187 - root_mean_squared_error: 22.0141 - val_loss: 495.3575 - val_root_mean_squared_error: 22.2566\n",
      "Epoch 198/200\n",
      "181/181 [==============================] - 0s 1ms/step - loss: 484.1734 - root_mean_squared_error: 22.0039 - val_loss: 491.0587 - val_root_mean_squared_error: 22.1598\n",
      "Epoch 199/200\n",
      "181/181 [==============================] - 0s 1ms/step - loss: 484.1334 - root_mean_squared_error: 22.0030 - val_loss: 491.5236 - val_root_mean_squared_error: 22.1703\n",
      "Epoch 200/200\n",
      "181/181 [==============================] - 0s 1ms/step - loss: 483.1958 - root_mean_squared_error: 21.9817 - val_loss: 492.1307 - val_root_mean_squared_error: 22.1840\n"
     ]
    }
   ],
   "source": [
    "history = model.fit(xx_train_sc, y_train, epochs=200, validation_data=(xx_validate_sc, y_validate))"
   ]
  },
  {
   "cell_type": "markdown",
   "metadata": {},
   "source": [
    "**Behaivor of training**"
   ]
  },
  {
   "cell_type": "code",
   "execution_count": 20,
   "metadata": {},
   "outputs": [
    {
     "data": {
      "text/html": [
       "<div>\n",
       "<style scoped>\n",
       "    .dataframe tbody tr th:only-of-type {\n",
       "        vertical-align: middle;\n",
       "    }\n",
       "\n",
       "    .dataframe tbody tr th {\n",
       "        vertical-align: top;\n",
       "    }\n",
       "\n",
       "    .dataframe thead th {\n",
       "        text-align: right;\n",
       "    }\n",
       "</style>\n",
       "<table border=\"1\" class=\"dataframe\">\n",
       "  <thead>\n",
       "    <tr style=\"text-align: right;\">\n",
       "      <th></th>\n",
       "      <th>loss</th>\n",
       "      <th>root_mean_squared_error</th>\n",
       "      <th>val_loss</th>\n",
       "      <th>val_root_mean_squared_error</th>\n",
       "    </tr>\n",
       "  </thead>\n",
       "  <tbody>\n",
       "    <tr>\n",
       "      <th>0</th>\n",
       "      <td>1975.103271</td>\n",
       "      <td>44.442135</td>\n",
       "      <td>2541.789551</td>\n",
       "      <td>50.416164</td>\n",
       "    </tr>\n",
       "    <tr>\n",
       "      <th>1</th>\n",
       "      <td>1941.176147</td>\n",
       "      <td>44.058781</td>\n",
       "      <td>2500.509521</td>\n",
       "      <td>50.005096</td>\n",
       "    </tr>\n",
       "    <tr>\n",
       "      <th>2</th>\n",
       "      <td>1905.123047</td>\n",
       "      <td>43.647717</td>\n",
       "      <td>2452.617188</td>\n",
       "      <td>49.523907</td>\n",
       "    </tr>\n",
       "    <tr>\n",
       "      <th>3</th>\n",
       "      <td>1866.854492</td>\n",
       "      <td>43.207111</td>\n",
       "      <td>2407.457275</td>\n",
       "      <td>49.065845</td>\n",
       "    </tr>\n",
       "    <tr>\n",
       "      <th>4</th>\n",
       "      <td>1831.616821</td>\n",
       "      <td>42.797394</td>\n",
       "      <td>2361.042480</td>\n",
       "      <td>48.590561</td>\n",
       "    </tr>\n",
       "  </tbody>\n",
       "</table>\n",
       "</div>"
      ],
      "text/plain": [
       "          loss  root_mean_squared_error     val_loss  \\\n",
       "0  1975.103271                44.442135  2541.789551   \n",
       "1  1941.176147                44.058781  2500.509521   \n",
       "2  1905.123047                43.647717  2452.617188   \n",
       "3  1866.854492                43.207111  2407.457275   \n",
       "4  1831.616821                42.797394  2361.042480   \n",
       "\n",
       "   val_root_mean_squared_error  \n",
       "0                    50.416164  \n",
       "1                    50.005096  \n",
       "2                    49.523907  \n",
       "3                    49.065845  \n",
       "4                    48.590561  "
      ]
     },
     "execution_count": 20,
     "metadata": {},
     "output_type": "execute_result"
    }
   ],
   "source": [
    "train = pd.DataFrame(history.history)\n",
    "train.head()"
   ]
  },
  {
   "cell_type": "markdown",
   "metadata": {},
   "source": [
    "Loss as a function as epochs"
   ]
  },
  {
   "cell_type": "code",
   "execution_count": 21,
   "metadata": {},
   "outputs": [
    {
     "data": {
      "text/plain": [
       "<matplotlib.collections.PathCollection at 0x7fc55c1fcd30>"
      ]
     },
     "execution_count": 21,
     "metadata": {},
     "output_type": "execute_result"
    },
    {
     "data": {
      "image/png": "[encoded data removed]",
      "text/plain": [
       "<Figure size 432x288 with 1 Axes>"
      ]
     },
     "metadata": {
      "needs_background": "light"
     },
     "output_type": "display_data"
    }
   ],
   "source": [
    "plt.scatter(np.linspace(1, 200, 200), train.loss)\n",
    "plt.scatter(np.linspace(1, 200, 200), train.val_loss)"
   ]
  },
  {
   "cell_type": "code",
   "execution_count": 22,
   "metadata": {},
   "outputs": [
    {
     "data": {
      "text/plain": [
       "<matplotlib.collections.PathCollection at 0x7fc55c1cd5e0>"
      ]
     },
     "execution_count": 22,
     "metadata": {},
     "output_type": "execute_result"
    },
    {
     "data": {
      "image/png": "[encoded data removed]",
      "text/plain": [
       "<Figure size 432x288 with 1 Axes>"
      ]
     },
     "metadata": {
      "needs_background": "light"
     },
     "output_type": "display_data"
    }
   ],
   "source": [
    "plt.scatter(np.linspace(1, 200, 200), train.root_mean_squared_error)\n",
    "plt.scatter(np.linspace(1, 200, 200), train.val_root_mean_squared_error)"
   ]
  },
  {
   "cell_type": "code",
   "execution_count": 23,
   "metadata": {},
   "outputs": [
    {
     "data": {
      "text/plain": [
       "<matplotlib.collections.PathCollection at 0x7fc55c12d160>"
      ]
     },
     "execution_count": 23,
     "metadata": {},
     "output_type": "execute_result"
    },
    {
     "data": {
      "image/png": "[encoded data removed]",
      "text/plain": [
       "<Figure size 432x288 with 1 Axes>"
      ]
     },
     "metadata": {
      "needs_background": "light"
     },
     "output_type": "display_data"
    }
   ],
   "source": [
    "plt.scatter(y_validate, model.predict(xx_validate_sc))"
   ]
  },
  {
   "cell_type": "markdown",
   "metadata": {},
   "source": [
    "**Make predictions**"
   ]
  },
  {
   "cell_type": "code",
   "execution_count": 24,
   "metadata": {},
   "outputs": [
    {
     "data": {
      "text/plain": [
       "array([[-1151.9211]], dtype=float32)"
      ]
     },
     "execution_count": 24,
     "metadata": {},
     "output_type": "execute_result"
    }
   ],
   "source": [
    "model.predict(sc.transform([[7,3,2,0,0,0]]))"
   ]
  },
  {
   "cell_type": "markdown",
   "metadata": {},
   "source": [
    "### Useful information for beginners (typical architecture)"
   ]
  },
  {
   "cell_type": "markdown",
   "metadata": {},
   "source": [
    "**Regreesion MLP**:\n",
    "    \n",
    "| Hyperparameter | Typical Value |\n",
    "|----------------|---------------|\n",
    "|# input neurons | One per input feature |\n",
    "|# hidden layers | Depends on the problem. Typically 1 to 5.|\n",
    "|# neurons per hidden layer | Depends on the problem. Typically 10 to 100.|\n",
    "|# output neurons | 1 per prediction dimension|\n",
    "|Hidden activation | ReLU (or SELU) |\n",
    "|Output activation | None or ReLU/Softplus (if positive outputs) or Logistic/Tanh (if bounded outputs) |\n",
    "|Loss function | MSE or MAE/Huber (if outliers) |\n",
    "\n",
    "**Classification MLP**:\n",
    "\n",
    "| Hyperparameter | Binary classification | Multilabel binary classification | Multiclass classification |\n",
    "|----------------|-----------------------|----------------------------------|---------------------------|\n",
    "|Input and hidden layers| Same as regression | Same as regression | Same as regression |\n",
    "|# output neurons | 1 | 1 per label | 1 per class |\n",
    "|Output layer activation | Logistic | Logistic | Softmax |\n",
    "|Loss function | Cross-Entropy | Cross-Entropy | Cross-Entropy |\n",
    "\n",
    "Ref: Hands-On Machine Learning with Scikit-Learn, Keras, and TensorFlow\n"
   ]
  },
  {
   "cell_type": "markdown",
   "metadata": {},
   "source": [
    "### The effects of hyperparameters and details of training processes will be disccussed in the handson session.\n",
    "### A more rigorous approach of model evaluation is based on train-validate-test splitting, which will be used in the handson session."
   ]
  },
  {
   "cell_type": "code",
   "execution_count": 25,
   "metadata": {},
   "outputs": [
    {
     "data": {
      "text/html": [
       "<img src=\"https://upload.wikimedia.org/wikipedia/commons/thumb/1/12/Train-Test-Validation.png/400px-Train-Test-Validation.png\"/>"
      ],
      "text/plain": [
       "<IPython.core.display.Image object>"
      ]
     },
     "execution_count": 25,
     "metadata": {},
     "output_type": "execute_result"
    }
   ],
   "source": [
    "Image(url='https://upload.wikimedia.org/wikipedia/commons/thumb/1/12/Train-Test-Validation.png/400px-Train-Test-Validation.png')"
   ]
  },
  {
   "cell_type": "markdown",
   "metadata": {},
   "source": [
    "# Comparing linear regression with neural network"
   ]
  },
  {
   "cell_type": "code",
   "execution_count": 26,
   "metadata": {},
   "outputs": [
    {
     "data": {
      "text/plain": [
       "18.72615742922323"
      ]
     },
     "execution_count": 26,
     "metadata": {},
     "output_type": "execute_result"
    }
   ],
   "source": [
    "from sklearn import linear_model\n",
    "from sklearn.metrics import mean_squared_error\n",
    "\n",
    "regr3 = linear_model.LinearRegression() \n",
    "regr3.fit(xx_train_sc, y_train)\n",
    "mean_squared_error(y_validate, regr3.predict(xx_validate_sc), squared = False)"
   ]
  },
  {
   "cell_type": "markdown",
   "metadata": {},
   "source": [
    "ANN is very flexible and performs well in many different use cases.\n",
    "\n",
    "**Why do we favor linear regression (high-bias method) in some cases**?\n",
    "\n",
    "- When you know the y can be obtained by regression of x.\n",
    "- Inferences, and interpretation of results. \n",
    "- NN often regarded as prediction using a black box: takes long time to train and tune hyperparameters.\n"
   ]
  },
  {
   "cell_type": "markdown",
   "metadata": {},
   "source": [
    "A useful video tutorial on Youtube: https://www.youtube.com/playlist?list=PLiaHhY2iBX9hdHaRr6b7XevZtgZRa1PoU"
   ]
  }
 ],
 "metadata": {
  "kernelspec": {
   "display_name": "Python 3 (ipykernel)",
   "language": "python",
   "name": "python3"
  },
  "language_info": {
   "codemirror_mode": {
    "name": "ipython",
    "version": 3
   },
   "file_extension": ".py",
   "mimetype": "text/x-python",
   "name": "python",
   "nbconvert_exporter": "python",
   "pygments_lexer": "ipython3",
   "version": "3.9.7"
  }
 },
 "nbformat": 4,
 "nbformat_minor": 4
}
