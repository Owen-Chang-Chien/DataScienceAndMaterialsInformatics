{
 "cells": [
  {
   "cell_type": "code",
   "execution_count": 1,
   "metadata": {},
   "outputs": [],
   "source": [
    "import numpy as np\n",
    "import pandas as pd\n",
    "import matplotlib.pyplot as plt\n",
    "from mpl_toolkits import mplot3d\n",
    "import seaborn as sns\n",
    "from IPython.display import display, Image\n",
    "sns.set()\n",
    "%matplotlib inline"
   ]
  },
  {
   "cell_type": "markdown",
   "metadata": {},
   "source": [
    "# Neural Network"
   ]
  },
  {
   "cell_type": "markdown",
   "metadata": {},
   "source": [
    "**How does an artificial neural network look like**?"
   ]
  },
  {
   "cell_type": "code",
   "execution_count": 2,
   "metadata": {},
   "outputs": [
    {
     "data": {
      "text/html": [
       "<img src=\"https://upload.wikimedia.org/wikipedia/commons/thumb/9/99/Neural_network_example.svg/220px-Neural_network_example.svg.png\"/>"
      ],
      "text/plain": [
       "<IPython.core.display.Image object>"
      ]
     },
     "execution_count": 2,
     "metadata": {},
     "output_type": "execute_result"
    }
   ],
   "source": [
    "Image(url = 'https://upload.wikimedia.org/wikipedia/commons/thumb/9/99/Neural_network_example.svg/220px-Neural_network_example.svg.png')"
   ]
  },
  {
   "cell_type": "markdown",
   "metadata": {},
   "source": [
    "**What can neural networks do?**\n",
    "\n",
    "Can do both classification and regression. Examples include images classification, self-driving, AlphaGo, Tiktok video recommendation algorithm. \n",
    "\n",
    "**Why is the neural network considered as a more advanced method than KNN?**\n",
    "\n",
    "Neural networks combines many different ideas: linear and nonlinear regression, ensemble methods (another example is a more advanced type of tree - random forest), etc. The input features often live in a higher-dimensional space. -- at the core of deep learning."
   ]
  },
  {
   "cell_type": "markdown",
   "metadata": {},
   "source": [
    "### Perceptrons\n",
    "\n",
    "- One of the simplest neural network architectures\n",
    "- Developed by Frank Rosenblatt in 1957.\n",
    "- Supervised learning method of binary classifiers (output is binary).\n",
    "\n",
    "See wikipedia page for more information about perceptrons: https://en.wikipedia.org/wiki/Perceptron"
   ]
  },
  {
   "cell_type": "code",
   "execution_count": 3,
   "metadata": {},
   "outputs": [
    {
     "data": {
      "text/html": [
       "<img src=\"https://upload.wikimedia.org/wikipedia/en/thumb/5/52/Mark_I_perceptron.jpeg/220px-Mark_I_perceptron.jpeg\"/>"
      ],
      "text/plain": [
       "<IPython.core.display.Image object>"
      ]
     },
     "execution_count": 3,
     "metadata": {},
     "output_type": "execute_result"
    }
   ],
   "source": [
    "Image(url = 'https://upload.wikimedia.org/wikipedia/en/thumb/5/52/Mark_I_perceptron.jpeg/220px-Mark_I_perceptron.jpeg')"
   ]
  },
  {
   "cell_type": "markdown",
   "metadata": {},
   "source": [
    "**How does a perceptron work?**\n",
    "\n",
    "Recall the multilinear regression: $ y = b + \\Sigma w_i x_i $. \n",
    "\n",
    "If $ y \\ge 0 $, output 1. Otherwise ($ y \\lt 0 $) output 0. Such behavior is called step functions in mathematics.\n",
    "\n",
    "we rename:\n",
    "\n",
    "- $b$ : bias\n",
    "- $w_i$ : weight of feature $x_i$\n",
    "\n"
   ]
  },
  {
   "cell_type": "code",
   "execution_count": 4,
   "metadata": {},
   "outputs": [
    {
     "data": {
      "text/html": [
       "<img src=\"https://upload.wikimedia.org/wikipedia/commons/thumb/9/97/Ncell.png/300px-Ncell.png\"/>"
      ],
      "text/plain": [
       "<IPython.core.display.Image object>"
      ]
     },
     "execution_count": 4,
     "metadata": {},
     "output_type": "execute_result"
    }
   ],
   "source": [
    "Image(url = 'https://upload.wikimedia.org/wikipedia/commons/thumb/9/97/Ncell.png/300px-Ncell.png')"
   ]
  },
  {
   "cell_type": "markdown",
   "metadata": {},
   "source": [
    "A perceptron is similar to a linear SVM."
   ]
  },
  {
   "cell_type": "markdown",
   "metadata": {},
   "source": [
    "**Use perceptron to classify gas and solid in the periodic table**"
   ]
  },
  {
   "cell_type": "code",
   "execution_count": 5,
   "metadata": {},
   "outputs": [],
   "source": [
    "Elements = pd.read_csv('https://gist.githubusercontent.com/GoodmanSciences/c2dd862cd38f21b0ad36b8f96b4bf1ee/raw/1d92663004489a5b6926e944c1b3d9ec5c40900e/Periodic%2520Table%2520of%2520Elements.csv')\n",
    "# Since a perceptron is a binary classifier, we drop the artificial elements and liquid phase elements.\n",
    "Elements_sg = Elements.loc[(Elements['Phase'] != 'artificial') & (Elements['Phase'] != 'liq')]\n",
    "Elements_sg_new = Elements_sg.drop([1])"
   ]
  },
  {
   "cell_type": "code",
   "execution_count": 6,
   "metadata": {},
   "outputs": [
    {
     "name": "stdout",
     "output_type": "stream",
     "text": [
      "weights: [[1402.169 3595.58 ]]\n",
      "bias: [-110.]\n"
     ]
    }
   ],
   "source": [
    "from sklearn.linear_model import Perceptron\n",
    "\n",
    "clf = Perceptron() # we use default despite of that there are lots of hyperparameters in Perceptron()\n",
    "\n",
    "# do we need class_weight = 'balanced'?\n",
    "\n",
    "clf.fit(Elements_sg_new[[\"MeltingPoint\", \"BoilingPoint\"]].values, Elements_sg_new['Phase'])\n",
    "\n",
    "print(\"weights:\", clf.coef_) # weight1, weight2\n",
    "print(\"bias:\", clf.intercept_) # bias"
   ]
  },
  {
   "cell_type": "code",
   "execution_count": 8,
   "metadata": {},
   "outputs": [
    {
     "data": {
      "image/png": "[encoded data removed]",
      "text/plain": [
       "<Figure size 425.35x360 with 1 Axes>"
      ]
     },
     "metadata": {
      "needs_background": "light"
     },
     "output_type": "display_data"
    }
   ],
   "source": [
    "# array of melting point \n",
    "x_m = np.linspace(1, 4000, 401)\n",
    "# array of boiling point\n",
    "x_b = np.linspace(1, 4000, 401)\n",
    "# Get 2D mesh of x_m and x_b\n",
    "xx_1, xx_2 = np.meshgrid(x_m, x_b)\n",
    "# flatten the 2D array to plot decision boundary\n",
    "xx = np.concatenate((xx_1.ravel().reshape(-1,1), xx_2.ravel().reshape(-1,1)), axis=1)\n",
    "# predict\n",
    "y = clf.predict(xx)\n",
    "# plot the result\n",
    "Elements_predict = pd.DataFrame(data=np.concatenate((xx, y.reshape(-1,1)), axis=1), columns=[\"MeltingPoint\", \"BoilingPoint\", \"Phase\"])\n",
    "# convert string data to float data (There are lots of string data in DataFrame)\n",
    "Elements_predict['MeltingPoint'] = Elements_predict['MeltingPoint'].astype(float)\n",
    "Elements_predict['BoilingPoint'] = Elements_predict['BoilingPoint'].astype(float)\n",
    "sns.lmplot(x = \"MeltingPoint\", y = \"BoilingPoint\", hue=\"Phase\", data = Elements_predict, fit_reg = False);"
   ]
  },
  {
   "cell_type": "code",
   "execution_count": 7,
   "metadata": {},
   "outputs": [
    {
     "data": {
      "text/plain": [
       "0.8850574712643678"
      ]
     },
     "execution_count": 7,
     "metadata": {},
     "output_type": "execute_result"
    }
   ],
   "source": [
    "from sklearn.metrics import accuracy_score\n",
    "accuracy_score(clf.predict(Elements_sg_new[[\"MeltingPoint\", \"BoilingPoint\"]].values), Elements_sg_new['Phase'])"
   ]
  },
  {
   "cell_type": "markdown",
   "metadata": {},
   "source": [
    "**Normalization**\n",
    "\n",
    "Rescaling the data to small values (in general, input values to a neural network should be close to zero -- typically we expect either data with zero-mean and unit-variance, or data in the [0, 1] range. Normalization is necessary for neural network applications. "
   ]
  },
  {
   "cell_type": "code",
   "execution_count": 10,
   "metadata": {},
   "outputs": [
    {
     "data": {
      "text/html": [
       "<div>\n",
       "<style scoped>\n",
       "    .dataframe tbody tr th:only-of-type {\n",
       "        vertical-align: middle;\n",
       "    }\n",
       "\n",
       "    .dataframe tbody tr th {\n",
       "        vertical-align: top;\n",
       "    }\n",
       "\n",
       "    .dataframe thead th {\n",
       "        text-align: right;\n",
       "    }\n",
       "</style>\n",
       "<table border=\"1\" class=\"dataframe\">\n",
       "  <thead>\n",
       "    <tr style=\"text-align: right;\">\n",
       "      <th></th>\n",
       "      <th>MeltingPoint</th>\n",
       "      <th>BoilingPoint</th>\n",
       "    </tr>\n",
       "  </thead>\n",
       "  <tbody>\n",
       "    <tr>\n",
       "      <th>0</th>\n",
       "      <td>14.175</td>\n",
       "      <td>20.28</td>\n",
       "    </tr>\n",
       "    <tr>\n",
       "      <th>2</th>\n",
       "      <td>453.850</td>\n",
       "      <td>1615.00</td>\n",
       "    </tr>\n",
       "    <tr>\n",
       "      <th>3</th>\n",
       "      <td>1560.150</td>\n",
       "      <td>2742.00</td>\n",
       "    </tr>\n",
       "    <tr>\n",
       "      <th>4</th>\n",
       "      <td>2573.150</td>\n",
       "      <td>4200.00</td>\n",
       "    </tr>\n",
       "    <tr>\n",
       "      <th>5</th>\n",
       "      <td>3948.150</td>\n",
       "      <td>4300.00</td>\n",
       "    </tr>\n",
       "    <tr>\n",
       "      <th>...</th>\n",
       "      <td>...</td>\n",
       "      <td>...</td>\n",
       "    </tr>\n",
       "    <tr>\n",
       "      <th>87</th>\n",
       "      <td>973.150</td>\n",
       "      <td>2010.00</td>\n",
       "    </tr>\n",
       "    <tr>\n",
       "      <th>88</th>\n",
       "      <td>1323.150</td>\n",
       "      <td>3471.00</td>\n",
       "    </tr>\n",
       "    <tr>\n",
       "      <th>89</th>\n",
       "      <td>2028.150</td>\n",
       "      <td>5061.00</td>\n",
       "    </tr>\n",
       "    <tr>\n",
       "      <th>90</th>\n",
       "      <td>1873.150</td>\n",
       "      <td>4300.00</td>\n",
       "    </tr>\n",
       "    <tr>\n",
       "      <th>91</th>\n",
       "      <td>1405.150</td>\n",
       "      <td>4404.00</td>\n",
       "    </tr>\n",
       "  </tbody>\n",
       "</table>\n",
       "<p>87 rows × 2 columns</p>\n",
       "</div>"
      ],
      "text/plain": [
       "    MeltingPoint  BoilingPoint\n",
       "0         14.175         20.28\n",
       "2        453.850       1615.00\n",
       "3       1560.150       2742.00\n",
       "4       2573.150       4200.00\n",
       "5       3948.150       4300.00\n",
       "..           ...           ...\n",
       "87       973.150       2010.00\n",
       "88      1323.150       3471.00\n",
       "89      2028.150       5061.00\n",
       "90      1873.150       4300.00\n",
       "91      1405.150       4404.00\n",
       "\n",
       "[87 rows x 2 columns]"
      ]
     },
     "execution_count": 10,
     "metadata": {},
     "output_type": "execute_result"
    }
   ],
   "source": [
    "Elements_sg_new[['MeltingPoint', 'BoilingPoint']]"
   ]
  },
  {
   "cell_type": "code",
   "execution_count": 11,
   "metadata": {},
   "outputs": [
    {
     "data": {
      "text/plain": [
       "array([[-1.37998494, -1.59113732],\n",
       "       [-0.90623145, -0.58285218],\n",
       "       [ 0.28581605,  0.12971012],\n",
       "       [ 1.37733203,  1.05155203],\n",
       "       [ 2.85890603,  1.11477849],\n",
       "       [-1.32706312, -1.55504765],\n",
       "       [-1.34084445, -1.54692937],\n",
       "       [-1.33747185, -1.55019818],\n",
       "       [-1.36864093, -1.58684424],\n",
       "       [-0.99534139, -0.87306167],\n",
       "       [-0.40055677, -0.74218288],\n",
       "       [-0.38951231,  0.16132335],\n",
       "       [ 0.41834958,  0.63299281],\n",
       "       [-1.05341909, -1.25431728],\n",
       "       [-0.97663585, -1.15012006],\n",
       "       [-1.20959316, -1.45277884],\n",
       "       [-1.30479102, -1.54876294],\n",
       "       [-1.03267706, -0.95146249],\n",
       "       [-0.19690769, -0.4930706 ],\n",
       "       [ 0.55734816,  0.36175126],\n",
       "       [ 0.68772668,  0.64690263],\n",
       "       [ 0.9484837 ,  0.72277439],\n",
       "       [ 0.89999582,  0.25742758],\n",
       "       [ 0.24163821, -0.12825387],\n",
       "       [ 0.55303813,  0.37755787],\n",
       "       [ 0.50993779,  0.41928734],\n",
       "       [ 0.46468244,  0.41043564],\n",
       "       [ 0.06772836,  0.18851073],\n",
       "       [-0.64867463, -0.85788732],\n",
       "       [-1.06887056, -0.03784002],\n",
       "       [-0.08991111,  0.35985446],\n",
       "       [-0.22061288, -1.04314087],\n",
       "       [-0.86280786, -0.99825008],\n",
       "       [-1.27034308, -1.52813214],\n",
       "       [-1.05822478, -0.99635328],\n",
       "       [-0.27233328, -0.55756159],\n",
       "       [ 0.54334055,  0.6778836 ],\n",
       "       [ 0.89460828,  1.3563036 ],\n",
       "       [ 1.55835343,  1.56811227],\n",
       "       [ 1.71890218,  1.50172448],\n",
       "       [ 1.32345661,  1.19254705],\n",
       "       [ 1.01744423,  0.90486662],\n",
       "       [ 0.57135577,  0.44204887],\n",
       "       [-0.06545167, -0.06439514],\n",
       "       [-0.75486308, -0.94640437],\n",
       "       [-0.932027  , -0.12129896],\n",
       "       [-0.85089062,  0.21380132],\n",
       "       [-0.42113718, -0.42794733],\n",
       "       [-0.61643558, -0.80667388],\n",
       "       [-0.97864001, -1.31476178],\n",
       "       [-1.2212949 , -1.499617  ],\n",
       "       [-1.07017435, -1.00710178],\n",
       "       [-0.31543361, -0.23194528],\n",
       "       [-0.10962952,  0.75881348],\n",
       "       [-0.24108554,  0.74553592],\n",
       "       [-0.09777692,  0.7942203 ],\n",
       "       [-0.00618871,  0.51223025],\n",
       "       [ 0.05415176, -0.29706854],\n",
       "       [-0.21522534, -0.46461869],\n",
       "       [ 0.31275376,  0.63805092],\n",
       "       [ 0.36124164,  0.61086354],\n",
       "       [ 0.41511706,  0.19167206],\n",
       "       [ 0.48300009,  0.28840855],\n",
       "       [ 0.53903052,  0.61086354],\n",
       "       [ 0.56381321, -0.19843525],\n",
       "       [-0.21307032, -0.67516282],\n",
       "       [ 0.6909592 ,  0.71961307],\n",
       "       [ 1.29867392,  1.47896295],\n",
       "       [ 2.12727785,  2.01954926],\n",
       "       [ 2.57013379,  2.08087893],\n",
       "       [ 2.32553939,  2.10680178],\n",
       "       [ 2.16068061,  1.73755921],\n",
       "       [ 1.53141573,  1.36831663],\n",
       "       [ 0.80840761,  0.98706103],\n",
       "       [ 0.04615664,  0.37439655],\n",
       "       [-0.77337467, -0.50002551],\n",
       "       [-0.74794547, -0.32552045],\n",
       "       [-0.80837214, -0.44248942],\n",
       "       [-0.82725009, -0.82311276],\n",
       "       [-0.77552969, -1.21827819],\n",
       "       [-1.17744031, -1.47036212],\n",
       "       [-1.07184449, -1.0033082 ],\n",
       "       [-0.34668136, -0.33310763],\n",
       "       [ 0.03044657,  0.59063107],\n",
       "       [ 0.79008997,  1.59593192],\n",
       "       [ 0.62307617,  1.11477849],\n",
       "       [ 0.11880226,  1.18053402]])"
      ]
     },
     "execution_count": 11,
     "metadata": {},
     "output_type": "execute_result"
    }
   ],
   "source": [
    "X # being normalized"
   ]
  },
  {
   "cell_type": "code",
   "execution_count": 9,
   "metadata": {},
   "outputs": [
    {
     "data": {
      "image/png": "[encoded data removed]",
      "text/plain": [
       "<Figure size 425.35x360 with 1 Axes>"
      ]
     },
     "metadata": {
      "needs_background": "light"
     },
     "output_type": "display_data"
    }
   ],
   "source": [
    "from sklearn.preprocessing import StandardScaler  # Normalization (StandardScalar)\n",
    "\n",
    "# do we need class_weight = 'balanced'?\n",
    "\n",
    "sc = StandardScaler()\n",
    "sc.fit(Elements_sg_new[[\"MeltingPoint\", \"BoilingPoint\"]])\n",
    "# feature X will be normalized from the raw data.\n",
    "X = sc.transform(Elements_sg_new[[\"MeltingPoint\", \"BoilingPoint\"]])\n",
    "\n",
    "# using the normalized data to fit\n",
    "clf.fit(X, Elements_sg_new['Phase'])\n",
    "\n",
    "sc.fit(xx)\n",
    "xx_std = sc.transform(xx)\n",
    "# predict\n",
    "y = clf.predict(xx_std)\n",
    "# plot the result\n",
    "Elements_predict = pd.DataFrame(data=np.concatenate((xx, y.reshape(-1,1)), axis=1), columns=[\"MeltingPoint\", \"BoilingPoint\", \"Phase\"])\n",
    "Elements_predict['MeltingPoint'] = Elements_predict['MeltingPoint'].astype(float)\n",
    "Elements_predict['BoilingPoint'] = Elements_predict['BoilingPoint'].astype(float)\n",
    "sns.lmplot(x = \"MeltingPoint\", y = \"BoilingPoint\", hue=\"Phase\", data = Elements_predict, fit_reg = False);"
   ]
  },
  {
   "cell_type": "markdown",
   "metadata": {},
   "source": [
    "**Biological analog**"
   ]
  },
  {
   "cell_type": "code",
   "execution_count": 12,
   "metadata": {},
   "outputs": [
    {
     "data": {
      "text/html": [
       "<img src=\"https://upload.wikimedia.org/wikipedia/commons/4/44/Neuron3.png\"/>"
      ],
      "text/plain": [
       "<IPython.core.display.Image object>"
      ]
     },
     "execution_count": 12,
     "metadata": {},
     "output_type": "execute_result"
    }
   ],
   "source": [
    "Image(url = 'https://upload.wikimedia.org/wikipedia/commons/4/44/Neuron3.png')"
   ]
  },
  {
   "cell_type": "markdown",
   "metadata": {},
   "source": [
    "**Limitation**"
   ]
  },
  {
   "cell_type": "markdown",
   "metadata": {},
   "source": [
    "A single perceptron fails in the XOR problem.\n",
    "\n",
    "\n",
    "XOR truth table\n",
    "\n",
    "| Input x1 | Input x2 | Output |\n",
    "|----------|----------|--------|\n",
    "|0|0|0|\n",
    "|0|1|1|\n",
    "|1|0|1|\n",
    "|1|1|0|\n"
   ]
  },
  {
   "cell_type": "markdown",
   "metadata": {},
   "source": [
    "### Multi-Layer Perceptrons (MLPs) "
   ]
  },
  {
   "cell_type": "markdown",
   "metadata": {},
   "source": [
    "Welcome to the real world! Biological analog:"
   ]
  },
  {
   "cell_type": "code",
   "execution_count": 13,
   "metadata": {},
   "outputs": [
    {
     "data": {
      "text/html": [
       "<img src=\"https://upload.wikimedia.org/wikipedia/commons/b/be/Forest_of_synthetic_pyramidal_dendrites_grown_using_Cajal%27s_laws_of_neuronal_branching.png\"/>"
      ],
      "text/plain": [
       "<IPython.core.display.Image object>"
      ]
     },
     "execution_count": 13,
     "metadata": {},
     "output_type": "execute_result"
    }
   ],
   "source": [
    "Image(url = 'https://upload.wikimedia.org/wikipedia/commons/b/be/Forest_of_synthetic_pyramidal_dendrites_grown_using_Cajal%27s_laws_of_neuronal_branching.png')"
   ]
  },
  {
   "cell_type": "markdown",
   "metadata": {},
   "source": [
    "**Structure of a MLP**"
   ]
  },
  {
   "cell_type": "code",
   "execution_count": 14,
   "metadata": {},
   "outputs": [
    {
     "data": {
      "text/html": [
       "<img src=\"https://upload.wikimedia.org/wikipedia/en/5/54/Feed_forward_neural_net.gif\"/>"
      ],
      "text/plain": [
       "<IPython.core.display.Image object>"
      ]
     },
     "execution_count": 14,
     "metadata": {},
     "output_type": "execute_result"
    }
   ],
   "source": [
    "Image(url = 'https://upload.wikimedia.org/wikipedia/en/5/54/Feed_forward_neural_net.gif')"
   ]
  },
  {
   "cell_type": "markdown",
   "metadata": {},
   "source": [
    "Some terminology:\n",
    "\n",
    "- MLP belongs to the class of **feedforward neural networks**\n",
    "- **backpropagation** is a widely used algorithm in training feedforward neural networks: it find out how each connection weight and each bias term should be tweaked in order to reduce the error.\n",
    "\n",
    "Details of training in handson, summary:\n",
    "\n",
    "for each training instance the backpropagation algorithm first makes a prediction (forward propagation), measures the error (MSE, cross-entropy, etc.), then goes through each layer in reverse to measure the error contribution from each connection (backward propagation), and finally slightly tweaks the connection weights to reduce the error (using gradient descent for example). These steps are usually automatically taken care of in Keras.\n",
    "\n",
    "Ref: Hands-On Machine Learning with Scikit-Learn and TensorFlow\n",
    "\n",
    "When an artificial neural network contains a deep stack of hidden layers, it is called a **deep neural network**."
   ]
  },
  {
   "cell_type": "markdown",
   "metadata": {},
   "source": [
    "### Activation function"
   ]
  },
  {
   "cell_type": "markdown",
   "metadata": {},
   "source": [
    "Simple perception uses the step function as the activation function, i.e., if $ y \\ge 0 $, output 1. Otherwise ($ y \\lt 0 $) output 0. This behavior is not smooth and is usually not optimal for using and traning the neural network.\n",
    "\n",
    "Alternatives:\n",
    "\n",
    "- The logistic function: $f(y) = \\sigma (y) = \\frac{1}{1\\ –\\ e^{-y}}$\n",
    "- The hyperbolic tangent function: $f(y) = tanh(y) = 2\\sigma(2y) – 1$\n",
    "- The rectified linear unit function: $ f(y) = ReLU(y) = max(0, y) $\n",
    "- Softmax: $f_i(x) = \\frac{e^{x_i}}{\\Sigma_{j=1}^n e^{x_j}} $\n",
    "- ...\n",
    "\n",
    "Wikipedia has a list of activation functions: https://en.wikipedia.org/wiki/Activation_function. A problem could favor one activition function over another. NN is a very fexible method that different layers can use different activation function.\n",
    "\n",
    "The nonlinear behaivor of activiation function is the fudemental origin that neural network is a nonlinear method."
   ]
  }
 ],
 "metadata": {
  "kernelspec": {
   "display_name": "Python 3 (ipykernel)",
   "language": "python",
   "name": "python3"
  },
  "language_info": {
   "codemirror_mode": {
    "name": "ipython",
    "version": 3
   },
   "file_extension": ".py",
   "mimetype": "text/x-python",
   "name": "python",
   "nbconvert_exporter": "python",
   "pygments_lexer": "ipython3",
   "version": "3.9.7"
  }
 },
 "nbformat": 4,
 "nbformat_minor": 4
}
