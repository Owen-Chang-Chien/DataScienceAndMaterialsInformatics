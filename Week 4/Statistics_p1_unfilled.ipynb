{
 "cells": [
  {
   "cell_type": "markdown",
   "metadata": {},
   "source": [
    "import all necessary modules"
   ]
  },
  {
   "cell_type": "code",
   "execution_count": 1,
   "metadata": {},
   "outputs": [],
   "source": [
    "import numpy as np\n",
    "import pandas as pd\n",
    "import matplotlib.pyplot as plt\n",
    "from mpl_toolkits import mplot3d\n",
    "from scipy.stats import norm  # for calculation\n",
    "from scipy.stats import mode  # for calculation\n",
    "%matplotlib inline"
   ]
  },
  {
   "cell_type": "markdown",
   "metadata": {},
   "source": [
    "# What is statistics? "
   ]
  },
  {
   "cell_type": "markdown",
   "metadata": {},
   "source": [
    "- Statistics are NOT just facts and figures\n",
    "- They are techniques and procedures based on which we: \n",
    "    - Analyze data.\n",
    "    - Organize data and results.\n",
    "    - Interpret results.\n",
    "    - Make decisions and discoveries. "
   ]
  },
  {
   "cell_type": "markdown",
   "metadata": {},
   "source": [
    "### QM7b dataset"
   ]
  },
  {
   "cell_type": "markdown",
   "metadata": {},
   "source": [
    "Through out this lecture and the next few lectures, we will use the \"QM7b\" dataset to learn statistics and supervised learning methods.\n",
    "\n",
    "QM7b is a dataset that includes calculated electronic properties of a subset of molecules from GDB-13 (a database of 970 million stable and synthetically accessible organic molecules). The subset composed of all molecules of up to 23 atoms (including less than 7 heavy atoms C, N, O, S, and Cl), totalling 7211 molecules.\n",
    "\n",
    "For more information, see\n",
    "1. \"L. C. Blum, J.-L. Reymond, 970 Million Druglike Small Molecules for Virtual Screening in the Chemical Universe Database GDB-13, J. Am. Chem. Soc., 131:8732, 2009.\"\n",
    "1. \"G. Montavon, M. Rupp, V. Gobre, A. Vazquez-Mayagoitia, K. Hansen, A. Tkatchenko, K.-R. Müller, O.A. von Lilienfeld, Machine Learning of Molecular Electronic Properties in Chemical Compound Space, New J. Phys. 15 095003, 2013.\"\n",
    "\n",
    "Let's load the dataset \"QM7b\" into the Jupyter notebook. This dataset has been postprocessed into a csv file for your convenience."
   ]
  },
  {
   "cell_type": "code",
   "execution_count": 2,
   "metadata": {},
   "outputs": [],
   "source": [
    "qm7b = pd.read_csv('http://faculty.washington.edu/tingcao/wordpress/wp-content/uploads/2020/10/qm7b.csv')"
   ]
  },
  {
   "cell_type": "markdown",
   "metadata": {},
   "source": [
    "How does our qm7b dataset look like? How many molecules are included?"
   ]
  },
  {
   "cell_type": "code",
   "execution_count": 3,
   "metadata": {},
   "outputs": [
    {
     "name": "stdout",
     "output_type": "stream",
     "text": [
      "(7211, 21)\n"
     ]
    },
    {
     "data": {
      "text/html": [
       "<div>\n",
       "<style scoped>\n",
       "    .dataframe tbody tr th:only-of-type {\n",
       "        vertical-align: middle;\n",
       "    }\n",
       "\n",
       "    .dataframe tbody tr th {\n",
       "        vertical-align: top;\n",
       "    }\n",
       "\n",
       "    .dataframe thead th {\n",
       "        text-align: right;\n",
       "    }\n",
       "</style>\n",
       "<table border=\"1\" class=\"dataframe\">\n",
       "  <thead>\n",
       "    <tr style=\"text-align: right;\">\n",
       "      <th></th>\n",
       "      <th>id</th>\n",
       "      <th>ae_pbe0</th>\n",
       "      <th>emax_zindo</th>\n",
       "      <th>imax_zindo</th>\n",
       "      <th>homo_zindo</th>\n",
       "      <th>lumo_zindo</th>\n",
       "      <th>e1_zindo</th>\n",
       "      <th>ip_zindo</th>\n",
       "      <th>ea_zindo</th>\n",
       "      <th>homo_pbe0</th>\n",
       "      <th>...</th>\n",
       "      <th>homo_gw</th>\n",
       "      <th>lumo_gw</th>\n",
       "      <th>p_pbe0</th>\n",
       "      <th>p_scs</th>\n",
       "      <th>n_H</th>\n",
       "      <th>n_C</th>\n",
       "      <th>n_N</th>\n",
       "      <th>n_O</th>\n",
       "      <th>n_S</th>\n",
       "      <th>n_Cl</th>\n",
       "    </tr>\n",
       "  </thead>\n",
       "  <tbody>\n",
       "    <tr>\n",
       "      <th>0</th>\n",
       "      <td>1</td>\n",
       "      <td>-420.933746</td>\n",
       "      <td>39.694626</td>\n",
       "      <td>0.621841</td>\n",
       "      <td>-16.013</td>\n",
       "      <td>4.162</td>\n",
       "      <td>36.768073</td>\n",
       "      <td>15.72523</td>\n",
       "      <td>-3.98613</td>\n",
       "      <td>-10.9488</td>\n",
       "      <td>...</td>\n",
       "      <td>-14.1341</td>\n",
       "      <td>1.0870</td>\n",
       "      <td>2.534576</td>\n",
       "      <td>2.43222</td>\n",
       "      <td>4</td>\n",
       "      <td>1</td>\n",
       "      <td>0</td>\n",
       "      <td>0</td>\n",
       "      <td>0</td>\n",
       "      <td>0</td>\n",
       "    </tr>\n",
       "    <tr>\n",
       "      <th>1</th>\n",
       "      <td>2</td>\n",
       "      <td>-718.419189</td>\n",
       "      <td>22.622486</td>\n",
       "      <td>0.628328</td>\n",
       "      <td>-13.549</td>\n",
       "      <td>3.684</td>\n",
       "      <td>11.717433</td>\n",
       "      <td>13.41121</td>\n",
       "      <td>-3.49181</td>\n",
       "      <td>-9.5577</td>\n",
       "      <td>...</td>\n",
       "      <td>-12.5472</td>\n",
       "      <td>1.1186</td>\n",
       "      <td>4.332028</td>\n",
       "      <td>4.44500</td>\n",
       "      <td>6</td>\n",
       "      <td>2</td>\n",
       "      <td>0</td>\n",
       "      <td>0</td>\n",
       "      <td>0</td>\n",
       "      <td>0</td>\n",
       "    </tr>\n",
       "    <tr>\n",
       "      <th>2</th>\n",
       "      <td>3</td>\n",
       "      <td>-570.024841</td>\n",
       "      <td>22.940671</td>\n",
       "      <td>0.709060</td>\n",
       "      <td>-10.160</td>\n",
       "      <td>1.231</td>\n",
       "      <td>7.137266</td>\n",
       "      <td>9.75211</td>\n",
       "      <td>-0.82042</td>\n",
       "      <td>-7.8768</td>\n",
       "      <td>...</td>\n",
       "      <td>-10.4383</td>\n",
       "      <td>1.9456</td>\n",
       "      <td>4.173282</td>\n",
       "      <td>3.92308</td>\n",
       "      <td>4</td>\n",
       "      <td>2</td>\n",
       "      <td>0</td>\n",
       "      <td>0</td>\n",
       "      <td>0</td>\n",
       "      <td>0</td>\n",
       "    </tr>\n",
       "    <tr>\n",
       "      <th>3</th>\n",
       "      <td>4</td>\n",
       "      <td>-410.286163</td>\n",
       "      <td>15.973798</td>\n",
       "      <td>2.228480</td>\n",
       "      <td>-10.706</td>\n",
       "      <td>2.145</td>\n",
       "      <td>4.624107</td>\n",
       "      <td>10.46577</td>\n",
       "      <td>-1.89847</td>\n",
       "      <td>-8.4021</td>\n",
       "      <td>...</td>\n",
       "      <td>-11.1629</td>\n",
       "      <td>1.1958</td>\n",
       "      <td>3.512394</td>\n",
       "      <td>3.32175</td>\n",
       "      <td>2</td>\n",
       "      <td>2</td>\n",
       "      <td>0</td>\n",
       "      <td>0</td>\n",
       "      <td>0</td>\n",
       "      <td>0</td>\n",
       "    </tr>\n",
       "    <tr>\n",
       "      <th>4</th>\n",
       "      <td>5</td>\n",
       "      <td>-868.855408</td>\n",
       "      <td>17.900516</td>\n",
       "      <td>0.556174</td>\n",
       "      <td>-12.365</td>\n",
       "      <td>3.825</td>\n",
       "      <td>10.311655</td>\n",
       "      <td>11.96491</td>\n",
       "      <td>-3.57487</td>\n",
       "      <td>-8.3534</td>\n",
       "      <td>...</td>\n",
       "      <td>-10.8132</td>\n",
       "      <td>1.2002</td>\n",
       "      <td>5.480160</td>\n",
       "      <td>5.78632</td>\n",
       "      <td>6</td>\n",
       "      <td>3</td>\n",
       "      <td>0</td>\n",
       "      <td>0</td>\n",
       "      <td>0</td>\n",
       "      <td>0</td>\n",
       "    </tr>\n",
       "  </tbody>\n",
       "</table>\n",
       "<p>5 rows × 21 columns</p>\n",
       "</div>"
      ],
      "text/plain": [
       "   id     ae_pbe0  emax_zindo  imax_zindo  homo_zindo  lumo_zindo   e1_zindo  \\\n",
       "0   1 -420.933746   39.694626    0.621841     -16.013       4.162  36.768073   \n",
       "1   2 -718.419189   22.622486    0.628328     -13.549       3.684  11.717433   \n",
       "2   3 -570.024841   22.940671    0.709060     -10.160       1.231   7.137266   \n",
       "3   4 -410.286163   15.973798    2.228480     -10.706       2.145   4.624107   \n",
       "4   5 -868.855408   17.900516    0.556174     -12.365       3.825  10.311655   \n",
       "\n",
       "   ip_zindo  ea_zindo  homo_pbe0  ...  homo_gw  lumo_gw    p_pbe0    p_scs  \\\n",
       "0  15.72523  -3.98613   -10.9488  ... -14.1341   1.0870  2.534576  2.43222   \n",
       "1  13.41121  -3.49181    -9.5577  ... -12.5472   1.1186  4.332028  4.44500   \n",
       "2   9.75211  -0.82042    -7.8768  ... -10.4383   1.9456  4.173282  3.92308   \n",
       "3  10.46577  -1.89847    -8.4021  ... -11.1629   1.1958  3.512394  3.32175   \n",
       "4  11.96491  -3.57487    -8.3534  ... -10.8132   1.2002  5.480160  5.78632   \n",
       "\n",
       "   n_H  n_C  n_N  n_O  n_S  n_Cl  \n",
       "0    4    1    0    0    0     0  \n",
       "1    6    2    0    0    0     0  \n",
       "2    4    2    0    0    0     0  \n",
       "3    2    2    0    0    0     0  \n",
       "4    6    3    0    0    0     0  \n",
       "\n",
       "[5 rows x 21 columns]"
      ]
     },
     "execution_count": 3,
     "metadata": {},
     "output_type": "execute_result"
    }
   ],
   "source": [
    "print(qm7b.shape)\n",
    "qm7b.head()  # row makers 7211 molecules \n",
    "# the columns of the table are real information except for the id, for example, the structure of molecules, chemical composition, or properties\n",
    "# the column is also called fingerprint in materials science\n",
    "# n_H: number of Hydrogen atoms"
   ]
  },
  {
   "cell_type": "markdown",
   "metadata": {},
   "source": [
    "Each row represents a different molecule, with its id in the range of [1,7211].\n",
    "\n",
    "What are these Columns?"
   ]
  },
  {
   "cell_type": "code",
   "execution_count": 4,
   "metadata": {},
   "outputs": [
    {
     "data": {
      "text/plain": [
       "Index(['id', 'ae_pbe0', 'emax_zindo', 'imax_zindo', 'homo_zindo', 'lumo_zindo',\n",
       "       'e1_zindo', 'ip_zindo', 'ea_zindo', 'homo_pbe0', 'lumo_pbe0', 'homo_gw',\n",
       "       'lumo_gw', 'p_pbe0', 'p_scs', 'n_H', 'n_C', 'n_N', 'n_O', 'n_S',\n",
       "       'n_Cl'],\n",
       "      dtype='object')"
      ]
     },
     "execution_count": 4,
     "metadata": {},
     "output_type": "execute_result"
    }
   ],
   "source": [
    "qm7b.keys()  # for example, in the table below, lumo_gw means lowest unoccupied molecular orbital gw means GW method"
   ]
  },
  {
   "cell_type": "markdown",
   "metadata": {},
   "source": [
    "| Column Name | Unit  |  Description |\n",
    "|----------|----------|-----------|\n",
    "|ae_pbe0   |kcal/mol  |Atomization energy (DFT/PBE0)\n",
    "|p_pbe0    |Angstrom^3|Polarizability (DFT/PBE0)\n",
    "|p_scs     |Angstrom^3|Polarizability (self-consistent screening)\n",
    "|homo_gw   |eV        |Highest occupied molecular orbital (GW)\n",
    "|homo_pbe0 |eV        |Highest occupied molecular orbital (DFT/PBE0)\n",
    "|homo_zindo|eV        |Highest occupied molecular orbital (ZINDO/s)\n",
    "|lumo_gw   |eV        |Lowest unoccupied molecular orbital (GW)\n",
    "|lumo_pbe0 |eV        |Lowest unoccupied molecular orbital (DFT/PBE0)\n",
    "|lumo_zindo|eV        |Lowest unoccupied molecular orbital (ZINDO/s)\n",
    "|ip_zindo  |eV        |Ionization potential (ZINDO/s)\n",
    "|ea_zindo  |eV        |Electron affinity (ZINDO/s)\n",
    "|e1_zindo  |eV        |First excitation energy (ZINDO)\n",
    "|emax_zindo|eV        |Maximal absorption intensity (ZINDO)\n",
    "|imax_zindo|arbitrary |Excitation energy at maximal absorption (ZINDO)\n",
    "|n_H       |          |number of Hydrogen atoms\n",
    "|n_C       |          |number of Carbon atoms\n",
    "|n_N       |          |number of Nitrogen atoms\n",
    "|n_O       |          |number of Oxygen atoms\n",
    "|n_S       |          |number of Sulfur atoms\n",
    "|n_Cl      |          |number of Chlorine atoms"
   ]
  },
  {
   "cell_type": "markdown",
   "metadata": {},
   "source": [
    "How does these molecules look like? Let's take a look at the molecular structure of the first molecule (id=1):\n",
    "\n",
    "We have atomic coordiates in a 3D space (the molecular structures of other molecules can be found in https://qmml.org/datasets.html)\n",
    "\n",
    "Element | x | y | z\n",
    "----------|----------|-----------|-----------\n",
    "C   |   0.99813803   |  -0.00263872   |  -0.00464602\n",
    "H   |   2.09441750   |  -0.00242373   |   0.00417336 \n",
    "H   |   0.63238996   |   1.03082951   |   0.00417296\n",
    "H   |   0.62561232   |  -0.52974905   |   0.88151021\n",
    "H   |   0.64010219   |  -0.50924801   |  -0.90858051 "
   ]
  },
  {
   "cell_type": "markdown",
   "metadata": {},
   "source": [
    "Poor man's view of CH$_4$"
   ]
  },
  {
   "cell_type": "code",
   "execution_count": 7,
   "metadata": {},
   "outputs": [
    {
     "data": {
      "image/png": "[encoded data removed]",
      "text/plain": [
       "<Figure size 432x288 with 1 Axes>"
      ]
     },
     "metadata": {
      "needs_background": "light"
     },
     "output_type": "display_data"
    },
    {
     "data": {
      "text/plain": [
       "<Figure size 432x288 with 0 Axes>"
      ]
     },
     "metadata": {},
     "output_type": "display_data"
    }
   ],
   "source": [
    "xdata = np.array([0.99813803, 2.09441750, 0.63238996, 0.62561232, 0.64010219])\n",
    "ydata = np.array([-0.00263872, -0.00242373, 1.03082951, -0.52974905, -0.50924801])\n",
    "zdata = np.array([-0.00464602, 0.00417336, 0.00417296, 0.88151021, -0.90858051]) \n",
    "ax = plt.axes(projection='3d')\n",
    "#plot atoms as spheres\n",
    "ax.scatter3D(xdata, ydata, zdata, c = ('black','blue','blue','blue','blue'), s = 100, depthshade = False, alpha = 1)\n",
    "#plot bonds as lines\n",
    "ax.plot3D(xdata[0:2], ydata[0:2], zdata[0:2], c = 'grey')  # bonds\n",
    "ax.plot3D(xdata[0:3:2], ydata[0:3:2], zdata[0:3:2], c = 'grey')  # bonds\n",
    "ax.plot3D(xdata[0:4:3], ydata[0:4:3], zdata[0:4:3], c = 'grey')  # bonds\n",
    "ax.plot3D(xdata[0:5:4], ydata[0:5:4], zdata[0:5:4], c = 'grey')  # bonds\n",
    "# you can rotate by changing the two \"viewing angles\"\n",
    "ax.view_init(30,30)  # (vertical, horizontal)\n",
    "fig = plt.figure()"
   ]
  },
  {
   "cell_type": "markdown",
   "metadata": {},
   "source": [
    "In this Jupyter notebook, we will mainly use the atomization energy to characterize the data. The atomization energy describes the (negative of) energy required to tear apart the molecule into individual atoms in vaccum. That is, negative of the formation energy."
   ]
  },
  {
   "cell_type": "code",
   "execution_count": 8,
   "metadata": {},
   "outputs": [
    {
     "name": "stdout",
     "output_type": "stream",
     "text": [
      "range of atomization energy: -2212.56640625 -410.2861633300781\n"
     ]
    }
   ],
   "source": [
    "print(\"range of atomization energy:\", qm7b['ae_pbe0'].min(), qm7b['ae_pbe0'].max())"
   ]
  },
  {
   "cell_type": "markdown",
   "metadata": {},
   "source": [
    "# Descriptive Statistics "
   ]
  },
  {
   "cell_type": "markdown",
   "metadata": {},
   "source": [
    "## 1. Sample"
   ]
  },
  {
   "cell_type": "markdown",
   "metadata": {},
   "source": [
    "### Sample and population"
   ]
  },
  {
   "cell_type": "markdown",
   "metadata": {},
   "source": [
    "- Sample helps to answer questions about the population\n",
    "    - Population: the **entire** group being studied\n",
    "    - Sample: a **part** of the population being studied\n",
    "- Our data come from populations, but in statistics, we don't always have access to the whole population. \n"
   ]
  },
  {
   "cell_type": "markdown",
   "metadata": {},
   "source": [
    "For qm7b, the set of all 7211 molecules is the population. A sample can be drawn from the population. Let's \"randomly\" take two sample, 1% and 10% of the molecules, respectively."
   ]
  },
  {
   "cell_type": "code",
   "execution_count": 19,
   "metadata": {},
   "outputs": [],
   "source": [
    "qm7b_sample1 = qm7b.sample(frac = 0.01, random_state = 2020)  # frac means to draw one percent of the population\n",
    "# sample 2\n",
    "qm7b_sample2 = qm7b.sample(frac = 0.1, random_state = 2020)  # other number works as well, it doesn't need to be 2020."
   ]
  },
  {
   "cell_type": "markdown",
   "metadata": {},
   "source": [
    "How different are the sample and population? We compare the sample and the population by plotting histograms of their atomization energies."
   ]
  },
  {
   "cell_type": "code",
   "execution_count": 20,
   "metadata": {},
   "outputs": [
    {
     "data": {
      "image/png": "[encoded data removed]",
      "text/plain": [
       "<Figure size 1080x360 with 3 Axes>"
      ]
     },
     "metadata": {
      "needs_background": "light"
     },
     "output_type": "display_data"
    }
   ],
   "source": [
    "fig, axes = plt.subplots(nrows = 1, ncols = 3, figsize = (15, 5));  # 3 different axes\n",
    "\n",
    "# histogram of sample1\n",
    "axes[0].hist(qm7b_sample1['ae_pbe0'], bins = 19, range = (-2300, -400))  # 70 molecules\n",
    "\n",
    "# histogram of sample2\n",
    "axes[1].hist(qm7b_sample2['ae_pbe0'], bins = 19, range = (-2300, -400))  # 700 molecules\n",
    "\n",
    "# histogram of population\n",
    "axes[2].hist(qm7b['ae_pbe0'], bins = 19, range = (-2300, -400))  # bins=19: one bins per 100\n",
    "\n",
    "plt.show()"
   ]
  },
  {
   "cell_type": "markdown",
   "metadata": {},
   "source": [
    "### Sample bias and sampling error"
   ]
  },
  {
   "cell_type": "markdown",
   "metadata": {},
   "source": [
    "In order to do be representative, the sample needs to be: \n",
    "- Large enough -> large sample size \n",
    "- Random sampling -> avoid bias\n",
    "\n",
    "However, no samples are perfect. You need to allow room for error\n",
    "- Sampling error\n"
   ]
  },
  {
   "cell_type": "markdown",
   "metadata": {},
   "source": [
    "Let's make a subset of molecules that include S"
   ]
  },
  {
   "cell_type": "code",
   "execution_count": 28,
   "metadata": {},
   "outputs": [
    {
     "data": {
      "image/png": "[encoded data removed]",
      "text/plain": [
       "<Figure size 720x360 with 2 Axes>"
      ]
     },
     "metadata": {
      "needs_background": "light"
     },
     "output_type": "display_data"
    }
   ],
   "source": [
    "qm7b_sample3 = qm7b.loc[qm7b['n_S'] != 0]  #  slighly goes to the right hand-sided because less bonding, less atomization energy\n",
    "fig2, axes2 = plt.subplots(nrows = 1, ncols = 2, figsize = (10, 5));\n",
    "# compare the histogram of this special sample and that of the population\n",
    "axes2[0].hist(qm7b_sample3['ae_pbe0'], bins = 19, range = (-2300, 400))\n",
    "axes2[1].hist(qm7b['ae_pbe0'], bins = 19, range=(-2300, -400))\n",
    "fig2.show()"
   ]
  },
  {
   "cell_type": "markdown",
   "metadata": {},
   "source": [
    "Where does this difference come from? How to quantify these differences?"
   ]
  },
  {
   "cell_type": "code",
   "execution_count": 25,
   "metadata": {},
   "outputs": [
    {
     "data": {
      "text/plain": [
       "(array([  0.,   0.,   0.,  19.,  58., 183.,  40.,   8.,   0.,   0.]),\n",
       " array([ 1. ,  3.2,  5.4,  7.6,  9.8, 12. , 14.2, 16.4, 18.6, 20.8, 23. ]),\n",
       " <BarContainer object of 10 artists>)"
      ]
     },
     "execution_count": 25,
     "metadata": {},
     "output_type": "execute_result"
    },
    {
     "data": {
      "image/png": "[encoded data removed]",
      "text/plain": [
       "<Figure size 432x288 with 1 Axes>"
      ]
     },
     "metadata": {
      "needs_background": "light"
     },
     "output_type": "display_data"
    }
   ],
   "source": [
    "plt.hist(qm7b_sample3['n_H'] + qm7b_sample3['n_C'] + qm7b_sample3['n_N'] + qm7b_sample3['n_O'] + qm7b_sample3['n_S'] + qm7b_sample3['n_Cl'], range = (1, 23))\n",
    "# total number of atoms"
   ]
  },
  {
   "cell_type": "code",
   "execution_count": 26,
   "metadata": {},
   "outputs": [
    {
     "data": {
      "text/plain": [
       "(array([   0.,    3.,   12.,   85.,  416., 2039., 2005., 1676.,  803.,\n",
       "         172.]),\n",
       " array([ 1. ,  3.2,  5.4,  7.6,  9.8, 12. , 14.2, 16.4, 18.6, 20.8, 23. ]),\n",
       " <BarContainer object of 10 artists>)"
      ]
     },
     "execution_count": 26,
     "metadata": {},
     "output_type": "execute_result"
    },
    {
     "data": {
      "image/png": "[encoded data removed]",
      "text/plain": [
       "<Figure size 432x288 with 1 Axes>"
      ]
     },
     "metadata": {
      "needs_background": "light"
     },
     "output_type": "display_data"
    }
   ],
   "source": [
    "plt.hist(qm7b['n_H'] + qm7b['n_C'] + qm7b['n_N'] + qm7b['n_O'] + qm7b['n_S'] + qm7b['n_Cl'], range = (1, 23))"
   ]
  },
  {
   "cell_type": "markdown",
   "metadata": {},
   "source": [
    "### Sample and population in materials science and chemistry"
   ]
  },
  {
   "cell_type": "markdown",
   "metadata": {},
   "source": [
    "Definition of \"sample\" and \"population\" in materials science and chemistry are problem-specific.\n",
    "For example\n",
    "- QM7b is a sample of GDB-13. (recall that GDB-13 is a database of 970 million stable and synthetically accessible organic molecules)\n",
    "- GDB-13 is a sample of all molecules that may exist."
   ]
  },
  {
   "cell_type": "markdown",
   "metadata": {},
   "source": [
    "### Sampling method"
   ]
  },
  {
   "cell_type": "markdown",
   "metadata": {},
   "source": [
    "Simple random sampling is to be used in this class: use .sample"
   ]
  },
  {
   "cell_type": "code",
   "execution_count": null,
   "metadata": {},
   "outputs": [],
   "source": [
    "# hands_on session week4"
   ]
  },
  {
   "cell_type": "markdown",
   "metadata": {},
   "source": [
    "Replacement or not: .sample(replace = True or False). \n",
    "\n",
    "\"Without replacement\": one deliberately avoids choosing any member of the population more than once.\n",
    "\n",
    "For a small sample from a large population, sampling without replacement is approximately the same as sampling with replacement, since the probability of choosing the same individual twice is low.\n",
    "\n",
    "Replacement is important for Bootstrap and Cross-Validation (will be covered 2 weeks after)."
   ]
  },
  {
   "cell_type": "code",
   "execution_count": null,
   "metadata": {},
   "outputs": [],
   "source": [
    "sample = qm7b.sample(frac=1.0, replace = True)\n",
    "sample['ae_pbe0'].hist()"
   ]
  },
  {
   "cell_type": "markdown",
   "metadata": {},
   "source": [
    "## 2. Central tendency and variability"
   ]
  },
  {
   "cell_type": "markdown",
   "metadata": {},
   "source": [
    "### Central Tendency\n",
    "\n",
    "What is it?\n",
    "\n",
    "A descriptive statistic used to determine a **single** value that \n",
    "- Accurately describes the **center** of the entire data set\n",
    "- Best represents the **entire** data set\n",
    "\n",
    "Goal:\n",
    "- To summarize the data set into a single value \n",
    "- Make it possible to compare across different data sets (by comparing their central tendencies)"
   ]
  },
  {
   "cell_type": "markdown",
   "metadata": {},
   "source": [
    "3 common types of statistics for central tendency: \n",
    "\n",
    "Mean, Median, and Mode\n"
   ]
  },
  {
   "cell_type": "markdown",
   "metadata": {},
   "source": [
    "**Mean**: the average"
   ]
  },
  {
   "cell_type": "code",
   "execution_count": 29,
   "metadata": {},
   "outputs": [
    {
     "name": "stdout",
     "output_type": "stream",
     "text": [
      "mean: -1563.325120150638\n",
      "mean_sample1:  -1579.1668082343208\n",
      "mean_sample2:  -1569.5771581726497\n",
      "mean_sample3:  -1307.3558226746397\n"
     ]
    }
   ],
   "source": [
    "print(\"mean:\", np.mean(qm7b['ae_pbe0']))\n",
    "# output the mean of 'ae_pbe0' of sample1, sample2, and sample3\n",
    "print(\"mean_sample1: \", np.mean(qm7b_sample1['ae_pbe0']))\n",
    "print(\"mean_sample2: \", np.mean(qm7b_sample2['ae_pbe0']))\n",
    "print(\"mean_sample3: \", np.mean(qm7b_sample3['ae_pbe0']))\n",
    "\n",
    "# data must be numerical\n",
    "# you may also try qm7b['ae_pbe0'].mean() "
   ]
  },
  {
   "cell_type": "markdown",
   "metadata": {},
   "source": [
    "We can compare population mean and sample mean to determine whether the sample is representative of the population."
   ]
  },
  {
   "cell_type": "markdown",
   "metadata": {},
   "source": [
    "Sometimes mean is not meaningful, when we have outliers. (if we have 5 data, and one of them is very different than the other 4)\n",
    "Solution:\n",
    "\n",
    "**Median**: the midpoint of an ordered set of data (50% of all data are greater than the median. Another 50% are lower than the median)"
   ]
  },
  {
   "cell_type": "code",
   "execution_count": null,
   "metadata": {},
   "outputs": [],
   "source": []
  },
  {
   "cell_type": "markdown",
   "metadata": {},
   "source": [
    "**Mode**: the most frequently occurring data. Data does not have to be ordered."
   ]
  },
  {
   "cell_type": "code",
   "execution_count": null,
   "metadata": {},
   "outputs": [],
   "source": []
  },
  {
   "cell_type": "markdown",
   "metadata": {},
   "source": [
    "### Variability\n",
    "\n",
    "What is it? \n",
    "\n",
    "Describe the spread of data around the center (A summary of how different are the other data from the center)"
   ]
  },
  {
   "cell_type": "markdown",
   "metadata": {},
   "source": [
    "**Variance**: The average of the squared distances between each point and the mean of the dataset.\n",
    "\n",
    "$\\sigma^2 = \\frac{1}{N}\\Sigma_{i=1}^{N} (x_i - \\bar{x})^2$ (N points, each point at $x_i$, average is $\\bar{x}$)"
   ]
  },
  {
   "cell_type": "code",
   "execution_count": null,
   "metadata": {},
   "outputs": [],
   "source": []
  },
  {
   "cell_type": "markdown",
   "metadata": {},
   "source": [
    "**Standard Deviation**: The square-root of variance.\n",
    "\n",
    "$\\sigma = \\sqrt{\\frac{1}{N}\\Sigma_{i=1}^{N} (x_i - \\bar{x})^2)}$ "
   ]
  },
  {
   "cell_type": "code",
   "execution_count": null,
   "metadata": {},
   "outputs": [],
   "source": []
  },
  {
   "cell_type": "markdown",
   "metadata": {},
   "source": [
    "The standard deviation of a sample has a slightly different form than that of a population (N vs. N-1)\n",
    "\n",
    "$s = \\sqrt{\\frac{1}{N-1}\\Sigma_{i=1}^{N} (x_i - \\bar{x})^2}$"
   ]
  },
  {
   "cell_type": "code",
   "execution_count": null,
   "metadata": {},
   "outputs": [],
   "source": []
  }
 ],
 "metadata": {
  "kernelspec": {
   "display_name": "Python 3 (ipykernel)",
   "language": "python",
   "name": "python3"
  },
  "language_info": {
   "codemirror_mode": {
    "name": "ipython",
    "version": 3
   },
   "file_extension": ".py",
   "mimetype": "text/x-python",
   "name": "python",
   "nbconvert_exporter": "python",
   "pygments_lexer": "ipython3",
   "version": "3.9.7"
  }
 },
 "nbformat": 4,
 "nbformat_minor": 4
}
