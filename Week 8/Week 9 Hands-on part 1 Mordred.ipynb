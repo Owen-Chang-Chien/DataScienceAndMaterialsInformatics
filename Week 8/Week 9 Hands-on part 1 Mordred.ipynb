{
 "cells": [
  {
   "cell_type": "markdown",
   "id": "f4505fd4-3f94-43be-b839-42c7e605eb91",
   "metadata": {},
   "source": [
    "Install packages - In order to use some packages that JupyterLab does not contain, We need to install them at first."
   ]
  },
  {
   "cell_type": "code",
   "execution_count": 1,
   "id": "7de5f147-e2c7-4b24-8234-248c87ceea59",
   "metadata": {},
   "outputs": [
    {
     "name": "stdout",
     "output_type": "stream",
     "text": [
      "Collecting minisom\n",
      "  Downloading MiniSom-2.3.0.tar.gz (8.8 kB)\n",
      "  Preparing metadata (setup.py) ... \u001b[?25ldone\n",
      "\u001b[?25hBuilding wheels for collected packages: minisom\n",
      "  Building wheel for minisom (setup.py) ... \u001b[?25ldone\n",
      "\u001b[?25h  Created wheel for minisom: filename=MiniSom-2.3.0-py3-none-any.whl size=9018 sha256=20ba93d03e5f6df93e8c4a44768470959a95904f6a2d77a414756a47c99d29a0\n",
      "  Stored in directory: /home/jovyan/.cache/pip/wheels/7e/47/6d/97ad48be13d8b0fc231b7df226a3d6645820c32559822a826c\n",
      "Successfully built minisom\n",
      "Installing collected packages: minisom\n",
      "Successfully installed minisom-2.3.0\n",
      "Collecting rdkit-pypi\n",
      "  Downloading rdkit_pypi-2022.9.1-cp39-cp39-manylinux_2_17_x86_64.manylinux2014_x86_64.whl (29.7 MB)\n",
      "     |████████████████████████████████| 29.7 MB 6.7 MB/s            \n",
      "\u001b[?25hRequirement already satisfied: Pillow in /opt/conda/lib/python3.9/site-packages (from rdkit-pypi) (8.3.2)\n",
      "Requirement already satisfied: numpy in /opt/conda/lib/python3.9/site-packages (from rdkit-pypi) (1.21.4)\n",
      "Installing collected packages: rdkit-pypi\n",
      "Successfully installed rdkit-pypi-2022.9.1\n",
      "Collecting Mordred\n",
      "  Downloading mordred-1.2.0.tar.gz (128 kB)\n",
      "     |████████████████████████████████| 128 kB 6.9 MB/s            \n",
      "\u001b[?25h  Preparing metadata (setup.py) ... \u001b[?25ldone\n",
      "\u001b[?25hRequirement already satisfied: six==1.* in /opt/conda/lib/python3.9/site-packages (from Mordred) (1.15.0)\n",
      "Requirement already satisfied: numpy==1.* in /opt/conda/lib/python3.9/site-packages (from Mordred) (1.21.4)\n",
      "Requirement already satisfied: networkx==2.* in /opt/conda/lib/python3.9/site-packages (from Mordred) (2.6.3)\n",
      "Building wheels for collected packages: Mordred\n",
      "  Building wheel for Mordred (setup.py) ... \u001b[?25ldone\n",
      "\u001b[?25h  Created wheel for Mordred: filename=mordred-1.2.0-py3-none-any.whl size=176723 sha256=2f536b9b9b0113694bba8475625f01300e2ca8eaea75f4c5bc771ed6ed08b31e\n",
      "  Stored in directory: /home/jovyan/.cache/pip/wheels/05/95/d1/9e913738f0e8362b3676917b953a60afd76d2b0b99ff8a71ec\n",
      "Successfully built Mordred\n",
      "Installing collected packages: Mordred\n",
      "Successfully installed Mordred-1.2.0\n"
     ]
    }
   ],
   "source": [
    "!pip install minisom\n",
    "!pip install rdkit-pypi\n",
    "!pip install Mordred"
   ]
  },
  {
   "cell_type": "code",
   "execution_count": 2,
   "id": "00248f1b-3ba2-4fe7-9244-3df89468a88b",
   "metadata": {},
   "outputs": [],
   "source": [
    "from mordred import Calculator, descriptors\n",
    "import pandas as pd\n",
    "import numpy as np\n",
    "from rdkit import Chem\n",
    "import re\n",
    "import minisom\n",
    "from minisom import MiniSom\n",
    "import matplotlib.pyplot as plt"
   ]
  },
  {
   "cell_type": "markdown",
   "id": "d282ed13-a827-4d78-b183-5d1ac0261321",
   "metadata": {},
   "source": [
    "### Dataset 'Ampicillin'\n",
    "This week, we will use the dataset 'Ampicillin' to do the Self-Organizing Map. Ampicillin is a penicillin antibiotic that is used to treat or prevent many different types of infections. \n",
    "\n",
    "This dataset contains 1170 organic molecules that are similar to Ampicillin."
   ]
  },
  {
   "cell_type": "code",
   "execution_count": 3,
   "id": "599ee29e-2114-4019-9a6c-e8c77e0b1c82",
   "metadata": {},
   "outputs": [
    {
     "data": {
      "text/plain": [
       "(1170, 24)"
      ]
     },
     "execution_count": 3,
     "metadata": {},
     "output_type": "execute_result"
    }
   ],
   "source": [
    "df = pd.read_csv(\"Week9_Hands-On_dataset_Ampicillin.csv\")\n",
    "df.shape"
   ]
  },
  {
   "cell_type": "code",
   "execution_count": 4,
   "id": "3a33c9b0-de0e-44c4-b2ac-875350b93a7e",
   "metadata": {},
   "outputs": [
    {
     "data": {
      "text/html": [
       "<div>\n",
       "<style scoped>\n",
       "    .dataframe tbody tr th:only-of-type {\n",
       "        vertical-align: middle;\n",
       "    }\n",
       "\n",
       "    .dataframe tbody tr th {\n",
       "        vertical-align: top;\n",
       "    }\n",
       "\n",
       "    .dataframe thead th {\n",
       "        text-align: right;\n",
       "    }\n",
       "</style>\n",
       "<table border=\"1\" class=\"dataframe\">\n",
       "  <thead>\n",
       "    <tr style=\"text-align: right;\">\n",
       "      <th></th>\n",
       "      <th>cid</th>\n",
       "      <th>cmpdname</th>\n",
       "      <th>cmpdsynonym</th>\n",
       "      <th>mw</th>\n",
       "      <th>mf</th>\n",
       "      <th>polararea</th>\n",
       "      <th>complexity</th>\n",
       "      <th>xlogp</th>\n",
       "      <th>heavycnt</th>\n",
       "      <th>hbonddonor</th>\n",
       "      <th>...</th>\n",
       "      <th>inchikey</th>\n",
       "      <th>iupacname</th>\n",
       "      <th>meshheadings</th>\n",
       "      <th>annothits</th>\n",
       "      <th>annothitcnt</th>\n",
       "      <th>aids</th>\n",
       "      <th>cidcdate</th>\n",
       "      <th>sidsrcname</th>\n",
       "      <th>depcatg</th>\n",
       "      <th>annotation</th>\n",
       "    </tr>\n",
       "  </thead>\n",
       "  <tbody>\n",
       "    <tr>\n",
       "      <th>0</th>\n",
       "      <td>1268</td>\n",
       "      <td>2-[2-(Benzylamino)-2-oxo-1-[(2-phenylacetyl)am...</td>\n",
       "      <td>NaN</td>\n",
       "      <td>441.5</td>\n",
       "      <td>C23H27N3O4S</td>\n",
       "      <td>133.0</td>\n",
       "      <td>645.0</td>\n",
       "      <td>0.1</td>\n",
       "      <td>31</td>\n",
       "      <td>4</td>\n",
       "      <td>...</td>\n",
       "      <td>UDMBRVGTYILYDX-UHFFFAOYSA-N</td>\n",
       "      <td>2-[2-(benzylamino)-2-oxo-1-[(2-phenylacetyl)am...</td>\n",
       "      <td>NaN</td>\n",
       "      <td>Patents</td>\n",
       "      <td>1</td>\n",
       "      <td>NaN</td>\n",
       "      <td>20050325</td>\n",
       "      <td>ABI Chem|ChemDB|ChemSpider|ChemTik|DiscoveryGa...</td>\n",
       "      <td>Chemical Vendors|Legacy Depositors|Research an...</td>\n",
       "      <td>NaN</td>\n",
       "    </tr>\n",
       "    <tr>\n",
       "      <th>1</th>\n",
       "      <td>2173</td>\n",
       "      <td>6-{[Amino(phenyl)acetyl]amino}-3,3-dimethyl-7-...</td>\n",
       "      <td>6-{[amino(phenyl)acetyl]amino}-3,3-dimethyl-7-...</td>\n",
       "      <td>348.4</td>\n",
       "      <td>C16H18N3O4S-</td>\n",
       "      <td>141.0</td>\n",
       "      <td>556.0</td>\n",
       "      <td>-0.5</td>\n",
       "      <td>24</td>\n",
       "      <td>2</td>\n",
       "      <td>...</td>\n",
       "      <td>AVKUERGKIZMTKX-UHFFFAOYSA-M</td>\n",
       "      <td>6-[(2-amino-2-phenylacetyl)amino]-3,3-dimethyl...</td>\n",
       "      <td>NaN</td>\n",
       "      <td>Biological Test Results</td>\n",
       "      <td>1</td>\n",
       "      <td>1259325</td>\n",
       "      <td>20050325</td>\n",
       "      <td>ABI Chem|AKos Consulting &amp; Solutions|Ambinter|...</td>\n",
       "      <td>Chemical Vendors|Legacy Depositors|Research an...</td>\n",
       "      <td>NaN</td>\n",
       "    </tr>\n",
       "    <tr>\n",
       "      <th>2</th>\n",
       "      <td>2174</td>\n",
       "      <td>Alpen</td>\n",
       "      <td>Guicitrine|Ampicin|Deripen|Wypicil|6-{[amino(p...</td>\n",
       "      <td>349.4</td>\n",
       "      <td>C16H19N3O4S</td>\n",
       "      <td>138.0</td>\n",
       "      <td>562.0</td>\n",
       "      <td>-1.1</td>\n",
       "      <td>24</td>\n",
       "      <td>3</td>\n",
       "      <td>...</td>\n",
       "      <td>AVKUERGKIZMTKX-UHFFFAOYSA-N</td>\n",
       "      <td>6-[(2-amino-2-phenylacetyl)amino]-3,3-dimethyl...</td>\n",
       "      <td>NaN</td>\n",
       "      <td>Biological Test Results|Classification|Literat...</td>\n",
       "      <td>5</td>\n",
       "      <td>1|5|7|9|13|15|19|21|23|25|31|33|35|37|39|41|43...</td>\n",
       "      <td>20050325</td>\n",
       "      <td>001Chemical|AAA Chemistry|abcr GmbH|ABI Chem|A...</td>\n",
       "      <td>Chemical Vendors|Curation Efforts|Governmental...</td>\n",
       "      <td>NaN</td>\n",
       "    </tr>\n",
       "    <tr>\n",
       "      <th>3</th>\n",
       "      <td>2271</td>\n",
       "      <td>3,3-Dimethyl-7-oxo-6-{[{[(2-oxo-1-imidazolidin...</td>\n",
       "      <td>MLS006011456|CHEMBL4747314|DTXSID20860542|BCP1...</td>\n",
       "      <td>461.5</td>\n",
       "      <td>C20H23N5O6S</td>\n",
       "      <td>173.0</td>\n",
       "      <td>844.0</td>\n",
       "      <td>0.1</td>\n",
       "      <td>32</td>\n",
       "      <td>4</td>\n",
       "      <td>...</td>\n",
       "      <td>JTWOMNBEOCYFNV-UHFFFAOYSA-N</td>\n",
       "      <td>3,3-dimethyl-7-oxo-6-[[2-[(2-oxoimidazolidine-...</td>\n",
       "      <td>NaN</td>\n",
       "      <td>Biological Test Results</td>\n",
       "      <td>1</td>\n",
       "      <td>1259370|1671498</td>\n",
       "      <td>20050325</td>\n",
       "      <td>001Chemical|ABBLIS Chemicals|ABI Chem|AKos Con...</td>\n",
       "      <td>Chemical Vendors|Curation Efforts|Governmental...</td>\n",
       "      <td>NaN</td>\n",
       "    </tr>\n",
       "    <tr>\n",
       "      <th>4</th>\n",
       "      <td>2282</td>\n",
       "      <td>1-Ethoxycarbonyloxyethyl 6-[(2-amino-2-phenyla...</td>\n",
       "      <td>CHEMBL1625790|DTXSID20860547|DB-051870|FT-0602...</td>\n",
       "      <td>465.5</td>\n",
       "      <td>C21H27N3O7S</td>\n",
       "      <td>163.0</td>\n",
       "      <td>756.0</td>\n",
       "      <td>2.7</td>\n",
       "      <td>32</td>\n",
       "      <td>2</td>\n",
       "      <td>...</td>\n",
       "      <td>PFOLLRNADZZWEX-UHFFFAOYSA-N</td>\n",
       "      <td>1-ethoxycarbonyloxyethyl 6-[(2-amino-2-phenyla...</td>\n",
       "      <td>NaN</td>\n",
       "      <td>Patents</td>\n",
       "      <td>1</td>\n",
       "      <td>NaN</td>\n",
       "      <td>20050325</td>\n",
       "      <td>001Chemical|ABI Chem|Angel Pharmatech Ltd.|ChE...</td>\n",
       "      <td>Chemical Vendors|Curation Efforts|Governmental...</td>\n",
       "      <td>NaN</td>\n",
       "    </tr>\n",
       "  </tbody>\n",
       "</table>\n",
       "<p>5 rows × 24 columns</p>\n",
       "</div>"
      ],
      "text/plain": [
       "    cid                                           cmpdname  \\\n",
       "0  1268  2-[2-(Benzylamino)-2-oxo-1-[(2-phenylacetyl)am...   \n",
       "1  2173  6-{[Amino(phenyl)acetyl]amino}-3,3-dimethyl-7-...   \n",
       "2  2174                                              Alpen   \n",
       "3  2271  3,3-Dimethyl-7-oxo-6-{[{[(2-oxo-1-imidazolidin...   \n",
       "4  2282  1-Ethoxycarbonyloxyethyl 6-[(2-amino-2-phenyla...   \n",
       "\n",
       "                                         cmpdsynonym     mw            mf  \\\n",
       "0                                                NaN  441.5   C23H27N3O4S   \n",
       "1  6-{[amino(phenyl)acetyl]amino}-3,3-dimethyl-7-...  348.4  C16H18N3O4S-   \n",
       "2  Guicitrine|Ampicin|Deripen|Wypicil|6-{[amino(p...  349.4   C16H19N3O4S   \n",
       "3  MLS006011456|CHEMBL4747314|DTXSID20860542|BCP1...  461.5   C20H23N5O6S   \n",
       "4  CHEMBL1625790|DTXSID20860547|DB-051870|FT-0602...  465.5   C21H27N3O7S   \n",
       "\n",
       "   polararea  complexity  xlogp  heavycnt  hbonddonor  ...  \\\n",
       "0      133.0       645.0    0.1        31           4  ...   \n",
       "1      141.0       556.0   -0.5        24           2  ...   \n",
       "2      138.0       562.0   -1.1        24           3  ...   \n",
       "3      173.0       844.0    0.1        32           4  ...   \n",
       "4      163.0       756.0    2.7        32           2  ...   \n",
       "\n",
       "                      inchikey  \\\n",
       "0  UDMBRVGTYILYDX-UHFFFAOYSA-N   \n",
       "1  AVKUERGKIZMTKX-UHFFFAOYSA-M   \n",
       "2  AVKUERGKIZMTKX-UHFFFAOYSA-N   \n",
       "3  JTWOMNBEOCYFNV-UHFFFAOYSA-N   \n",
       "4  PFOLLRNADZZWEX-UHFFFAOYSA-N   \n",
       "\n",
       "                                           iupacname meshheadings  \\\n",
       "0  2-[2-(benzylamino)-2-oxo-1-[(2-phenylacetyl)am...          NaN   \n",
       "1  6-[(2-amino-2-phenylacetyl)amino]-3,3-dimethyl...          NaN   \n",
       "2  6-[(2-amino-2-phenylacetyl)amino]-3,3-dimethyl...          NaN   \n",
       "3  3,3-dimethyl-7-oxo-6-[[2-[(2-oxoimidazolidine-...          NaN   \n",
       "4  1-ethoxycarbonyloxyethyl 6-[(2-amino-2-phenyla...          NaN   \n",
       "\n",
       "                                           annothits annothitcnt  \\\n",
       "0                                            Patents           1   \n",
       "1                            Biological Test Results           1   \n",
       "2  Biological Test Results|Classification|Literat...           5   \n",
       "3                            Biological Test Results           1   \n",
       "4                                            Patents           1   \n",
       "\n",
       "                                                aids  cidcdate  \\\n",
       "0                                                NaN  20050325   \n",
       "1                                            1259325  20050325   \n",
       "2  1|5|7|9|13|15|19|21|23|25|31|33|35|37|39|41|43...  20050325   \n",
       "3                                    1259370|1671498  20050325   \n",
       "4                                                NaN  20050325   \n",
       "\n",
       "                                          sidsrcname  \\\n",
       "0  ABI Chem|ChemDB|ChemSpider|ChemTik|DiscoveryGa...   \n",
       "1  ABI Chem|AKos Consulting & Solutions|Ambinter|...   \n",
       "2  001Chemical|AAA Chemistry|abcr GmbH|ABI Chem|A...   \n",
       "3  001Chemical|ABBLIS Chemicals|ABI Chem|AKos Con...   \n",
       "4  001Chemical|ABI Chem|Angel Pharmatech Ltd.|ChE...   \n",
       "\n",
       "                                             depcatg annotation  \n",
       "0  Chemical Vendors|Legacy Depositors|Research an...        NaN  \n",
       "1  Chemical Vendors|Legacy Depositors|Research an...        NaN  \n",
       "2  Chemical Vendors|Curation Efforts|Governmental...        NaN  \n",
       "3  Chemical Vendors|Curation Efforts|Governmental...        NaN  \n",
       "4  Chemical Vendors|Curation Efforts|Governmental...        NaN  \n",
       "\n",
       "[5 rows x 24 columns]"
      ]
     },
     "execution_count": 4,
     "metadata": {},
     "output_type": "execute_result"
    }
   ],
   "source": [
    "df.head()"
   ]
  },
  {
   "cell_type": "code",
   "execution_count": 5,
   "id": "a17940f8-6dcc-4f21-9d99-6d94905e1c6f",
   "metadata": {},
   "outputs": [
    {
     "data": {
      "text/plain": [
       "Index(['cid', 'cmpdname', 'cmpdsynonym', 'mw', 'mf', 'polararea', 'complexity',\n",
       "       'xlogp', 'heavycnt', 'hbonddonor', 'hbondacc', 'rotbonds', 'inchi',\n",
       "       'isosmiles', 'inchikey', 'iupacname', 'meshheadings', 'annothits',\n",
       "       'annothitcnt', 'aids', 'cidcdate', 'sidsrcname', 'depcatg',\n",
       "       'annotation'],\n",
       "      dtype='object')"
      ]
     },
     "execution_count": 5,
     "metadata": {},
     "output_type": "execute_result"
    }
   ],
   "source": [
    "df.columns"
   ]
  },
  {
   "cell_type": "markdown",
   "id": "819065cd-1de1-4961-9dfb-7ebaa2028271",
   "metadata": {},
   "source": [
    "`polararea`:\n",
    "The polar surface area (PSA) or topological polar surface area (TPSA) of a molecule is defined as the surface sum over all polar atoms or molecules, primarily oxygen and nitrogen, also including their attached hydrogen atoms. \n",
    "PSA is a commonly used medicinal chemistry metric for the optimization of a drug's ability to permeate cells. Molecules with a polar surface area of greater than 140 angstroms squared  tend to be poor at permeating cell membranes."
   ]
  },
  {
   "cell_type": "markdown",
   "id": "d0d97957-e8a7-4328-b8f6-ae9ec40f9dad",
   "metadata": {},
   "source": [
    "## In this dataset, we can see that we do not have enough data to do machine learning. But actually, we can get lots of data from one column 'isosmiles'. But how?"
   ]
  },
  {
   "cell_type": "markdown",
   "id": "f8fe5454-3e5f-4050-ad12-4da86349efaf",
   "metadata": {},
   "source": [
    "In this part of hands-on, we focus on the column named `isosmiles`.\n",
    "\n",
    "The simplified molecular-input line-entry system (SMILES) is a specification in the form of a line notation for describing the structure of chemical species using short ASCII strings. \n",
    "\n",
    "For Ampcillin, the SMILES code is CC1(C(N2C(S1)C(C2=O)NC(=O)C(C3=CC=CC=C3)N)C(=O)[O-])C\n",
    "\n",
    "For more information about SMILES, you can read the wikipedia page:\n",
    "https://en.wikipedia.org/wiki/Simplified_molecular-input_line-entry_system"
   ]
  },
  {
   "cell_type": "markdown",
   "id": "d19b0167-bbea-4fd7-af7d-145fcd42172f",
   "metadata": {
    "tags": []
   },
   "source": [
    "## RDKit"
   ]
  },
  {
   "cell_type": "markdown",
   "id": "31511868-3580-4a65-be10-b82250b28f33",
   "metadata": {},
   "source": [
    "Build a list of SMILES from the csv file and use rdkit to translate the string to format Mordred can read"
   ]
  },
  {
   "cell_type": "code",
   "execution_count": 6,
   "id": "ced5de32-2086-4f46-b1f6-24b6a23a54d5",
   "metadata": {
    "tags": []
   },
   "outputs": [
    {
     "name": "stderr",
     "output_type": "stream",
     "text": [
      "[06:40:17] WARNING: not removing hydrogen atom without neighbors\n",
      "[06:40:18] WARNING: not removing hydrogen atom without neighbors\n",
      "[06:40:18] WARNING: not removing hydrogen atom without neighbors\n",
      "[06:40:18] WARNING: not removing hydrogen atom without neighbors\n",
      "[06:40:18] WARNING: not removing hydrogen atom without neighbors\n",
      "[06:40:18] WARNING: not removing hydrogen atom without neighbors\n",
      "[06:40:18] WARNING: not removing hydrogen atom without neighbors\n",
      "[06:40:18] WARNING: not removing hydrogen atom without neighbors\n"
     ]
    },
    {
     "data": {
      "image/png": "[encoded data removed]",
      "text/plain": [
       "<rdkit.Chem.rdchem.Mol at 0x7f261d5d1820>"
      ]
     },
     "execution_count": 6,
     "metadata": {},
     "output_type": "execute_result"
    }
   ],
   "source": [
    "SMILES = []\n",
    "for molecule in df[\"isosmiles\"]:\n",
    "    SMILES.append(Chem.MolFromSmiles(molecule))\n",
    "SMILES[1]#Ampicillin. \n",
    "#Why is [1]? It is because the dataset is sorted by cid. (The Pubchem id)"
   ]
  },
  {
   "cell_type": "markdown",
   "id": "e82d81b2-e551-4248-a9f3-93837c8fe8fa",
   "metadata": {},
   "source": [
    "Why there are so many warining? Because RDkit is a C++ based package, so it is easy to give some errors when run in python environment. "
   ]
  },
  {
   "cell_type": "markdown",
   "id": "470ca847-70f9-4e40-9163-447b0b3c7757",
   "metadata": {},
   "source": [
    "# Mordred"
   ]
  },
  {
   "cell_type": "markdown",
   "id": "e46621f0-d55d-4baf-ae72-428eee855cd7",
   "metadata": {},
   "source": [
    "Specific descriptors can be calculated by calling the appropriate module from the Mordred package"
   ]
  },
  {
   "cell_type": "markdown",
   "id": "4c1e12c9-9e4b-4a54-930c-34bc08d75e23",
   "metadata": {},
   "source": [
    "### Chemical Descriptors\n",
    "Chemical descriptors essentially break a molecule down into numerical values so they can be treated quantitatively to build models for various applications$.^{[1]}$ <br/>\n",
    "<center><em>\"The molecular descriptor is the final result of a logic and mathematical procedure which transforms chemical information encoded within a symbolic representation of a molecule into a useful number or the result of some standardized experiment$\"^{[2]}$</em> ~ Roberto Todeschini </center>\n",
    "<br>\n",
    "Chemical descriptors can be split up into different dimensions$:^{[3]}$ <br>\n",
    "&nbsp;&nbsp;&nbsp;&nbsp;&nbsp;&nbsp;&nbsp; - 0D: bond counts, molecular weight, atom count<br>\n",
    "&nbsp;&nbsp;&nbsp;&nbsp;&nbsp;&nbsp;&nbsp; - 1D: fragment count, acceptor-donor bonds<br>\n",
    "&nbsp;&nbsp;&nbsp;&nbsp;&nbsp;&nbsp;&nbsp; - 2D: topological properties, connectivity<br>\n",
    "&nbsp;&nbsp;&nbsp;&nbsp;&nbsp;&nbsp;&nbsp; - 3D: geometric properties, charged partial surface area<br>\n",
    "&nbsp;&nbsp;&nbsp;&nbsp;&nbsp;&nbsp;&nbsp; - 4D: coordinates + conformations <br>\n",
    "\n",
    "We will be focusing on dimensions 0-2.\n",
    "\n"
   ]
  },
  {
   "cell_type": "code",
   "execution_count": 7,
   "id": "200a5258-afd5-4700-9573-14829079bd2d",
   "metadata": {
    "tags": []
   },
   "outputs": [],
   "source": [
    "mol_id = descriptors.MolecularId.MolecularId() # molecular ID\n",
    "nAtoms = descriptors.AtomCount.AtomCount() # number of all atoms  \n",
    "abci = descriptors.ABCIndex.ABCGGIndex() # atom-bond connectivity index\n",
    "aromatic = descriptors.Aromatic.AromaticAtomsCount() # aromatic atoms count\n",
    "nARing = descriptors.RingCount.RingCount(None, False, False, True, None) # aromatic ring count\n",
    "nFARing = descriptors.RingCount.RingCount(None, False, True, True, None) # aromatic fused ring count\n",
    "frag_cplx = descriptors.FragmentComplexity.FragmentComplexity() # fragment complexity\n",
    "dist_matrix = descriptors.DistanceMatrix.DistanceMatrix(\"SpAbs\") # graph energy from distance matrix"
   ]
  },
  {
   "cell_type": "markdown",
   "id": "9b5d3ca4-2263-4225-857a-1356a8e0cb3b",
   "metadata": {},
   "source": [
    "Mordred descriptor list reference:    \n",
    "http://mordred-descriptor.github.io/documentation/master/descriptors.html"
   ]
  },
  {
   "cell_type": "markdown",
   "id": "47240208-e764-4fc1-a951-375d3fc3687e",
   "metadata": {},
   "source": [
    "Let's do some calculations on Ampicillin"
   ]
  },
  {
   "cell_type": "code",
   "execution_count": 8,
   "id": "aad28439-b6bd-4a07-828d-e14f30378566",
   "metadata": {},
   "outputs": [],
   "source": [
    "mol = SMILES[1]"
   ]
  },
  {
   "cell_type": "code",
   "execution_count": 9,
   "id": "ee7746aa-fa53-4c10-b3ca-89643ebdf747",
   "metadata": {},
   "outputs": [
    {
     "name": "stdout",
     "output_type": "stream",
     "text": [
      "42\n",
      "6\n",
      "124.08\n",
      "234.9889721189548\n"
     ]
    }
   ],
   "source": [
    "print(nAtoms(mol))\n",
    "print(aromatic(mol))\n",
    "print(frag_cplx(mol))\n",
    "print(dist_matrix(mol))"
   ]
  },
  {
   "cell_type": "markdown",
   "id": "c834ba56-ccc6-4ba3-a05d-22785b519818",
   "metadata": {
    "tags": []
   },
   "source": [
    "### Exercise 1:\n",
    "Using the link above, load in other models and calculate new descriptors for Ampicilillin (SMILES[1])"
   ]
  },
  {
   "cell_type": "code",
   "execution_count": 22,
   "id": "e188fbba-3f8e-413d-b9b9-e756da6c0f74",
   "metadata": {},
   "outputs": [],
   "source": [
    "nCl = descriptors.AtomCount.AtomCount(type='Cl')  # number of Cl atoms in Ampicilillin\n",
    "nBr = descriptors.AtomCount.AtomCount(type='Br')  # number of Br atoms in Ampicilillin\n",
    "hybr = descriptors.CarbonTypes.HybridizationRatio()  # hybridization ratio"
   ]
  },
  {
   "cell_type": "code",
   "execution_count": 23,
   "id": "3f089240-e476-4f2a-a4af-524fd8db0c35",
   "metadata": {},
   "outputs": [
    {
     "name": "stdout",
     "output_type": "stream",
     "text": [
      "0\n",
      "0\n",
      "0.4375\n"
     ]
    }
   ],
   "source": [
    "print(nCl(mol))\n",
    "print(nBr(mol))\n",
    "print(hybr(mol))"
   ]
  },
  {
   "cell_type": "markdown",
   "id": "97018e80-4c9d-487e-943c-6fb004f044e4",
   "metadata": {},
   "source": [
    "### We understand what is descriptors and how it works now. Here comes to prepare the datasets."
   ]
  },
  {
   "cell_type": "code",
   "execution_count": 10,
   "id": "54bb4665-6f4d-4cad-a938-db42b985cc85",
   "metadata": {},
   "outputs": [],
   "source": [
    "aromaticA = descriptors.Aromatic.AromaticAtomsCount()\n",
    "aromaticB = descriptors.Aromatic.AromaticBondsCount()\n",
    "nARing = descriptors.RingCount.RingCount(None, False, False, True, None)\n",
    "dist_matrix = descriptors.DistanceMatrix.DistanceMatrix(\"SpAbs\")\n",
    "nH = descriptors.AtomCount.AtomCount(type='H')\n",
    "nO = descriptors.AtomCount.AtomCount(type='O')\n",
    "nN = descriptors.AtomCount.AtomCount(type='N')\n",
    "nHBA = descriptors.HydrogenBond.HBondAcceptor()\n",
    "nHBD = descriptors.HydrogenBond.HBondDonor()\n",
    "SlogP = descriptors.SLogP.SLogP()"
   ]
  },
  {
   "cell_type": "code",
   "execution_count": 11,
   "id": "2830406f-6533-4afc-b331-1a544554a3b5",
   "metadata": {},
   "outputs": [],
   "source": [
    "descript = [aromaticA, aromaticB, nARing, dist_matrix, nH,nO,nN,nHBA,nHBD,SlogP]"
   ]
  },
  {
   "cell_type": "code",
   "execution_count": 12,
   "id": "86a361a1-636d-4ddb-8836-31ecce5572bd",
   "metadata": {},
   "outputs": [
    {
     "data": {
      "text/plain": [
       "10"
      ]
     },
     "execution_count": 12,
     "metadata": {},
     "output_type": "execute_result"
    }
   ],
   "source": [
    "calc = Calculator(descript)\n",
    "len(calc.descriptors)"
   ]
  },
  {
   "cell_type": "code",
   "execution_count": 13,
   "id": "381965b3-f7c7-43d5-a9a7-4726b5d12c36",
   "metadata": {},
   "outputs": [
    {
     "data": {
      "text/plain": [
       "1826"
      ]
     },
     "execution_count": 13,
     "metadata": {},
     "output_type": "execute_result"
    }
   ],
   "source": [
    "calc_ALL = Calculator(descriptors)\n",
    "len(calc_ALL.descriptors)"
   ]
  },
  {
   "cell_type": "markdown",
   "id": "e9b69880-1e14-40fa-892f-03efe51e7d1b",
   "metadata": {},
   "source": [
    "We can see that there are 1826 descriptors in the Mordred package. Because we have the knowledge about chemistry and material science, we do not need to use them all. That is why the data scientist can not do Chemical or material Analysis."
   ]
  },
  {
   "cell_type": "code",
   "execution_count": 14,
   "id": "506a2a72-9eb0-41ec-8d15-38b2104591b4",
   "metadata": {},
   "outputs": [
    {
     "name": "stderr",
     "output_type": "stream",
     "text": [
      " 25%|██▍       | 291/1170 [00:07<00:27, 32.35it/s][06:45:11] WARNING: not removing hydrogen atom without neighbors\n",
      "[06:45:11] WARNING: not removing hydrogen atom without neighbors\n",
      " 47%|████▋     | 545/1170 [00:14<00:16, 38.78it/s][06:45:18] WARNING: not removing hydrogen atom without neighbors\n",
      "[06:45:18] WARNING: not removing hydrogen atom without neighbors\n",
      " 49%|████▉     | 576/1170 [00:15<00:12, 45.79it/s][06:45:19] WARNING: not removing hydrogen atom without neighbors\n",
      "[06:45:19] WARNING: not removing hydrogen atom without neighbors\n",
      " 58%|█████▊    | 673/1170 [00:17<00:17, 27.92it/s][06:45:21] WARNING: not removing hydrogen atom without neighbors\n",
      "[06:45:21] WARNING: not removing hydrogen atom without neighbors\n",
      " 83%|████████▎ | 973/1170 [00:24<00:04, 43.16it/s][06:45:27] WARNING: not removing hydrogen atom without neighbors\n",
      "[06:45:27] WARNING: not removing hydrogen atom without neighbors\n",
      " 94%|█████████▍| 1102/1170 [00:27<00:01, 37.13it/s][06:45:31] WARNING: not removing hydrogen atom without neighbors\n",
      "[06:45:31] WARNING: not removing hydrogen atom without neighbors\n",
      "[06:45:31] WARNING: not removing hydrogen atom without neighbors\n",
      "[06:45:31] WARNING: not removing hydrogen atom without neighbors\n",
      " 95%|█████████▍| 1108/1170 [00:27<00:01, 31.24it/s][06:45:31] WARNING: not removing hydrogen atom without neighbors\n",
      "[06:45:31] WARNING: not removing hydrogen atom without neighbors\n",
      "100%|██████████| 1170/1170 [00:28<00:00, 40.81it/s]\n"
     ]
    }
   ],
   "source": [
    "mordred_df = calc.pandas(SMILES)"
   ]
  },
  {
   "cell_type": "code",
   "execution_count": 15,
   "id": "27f80f33-a7dc-42e8-bd8b-d2c8d92b23b4",
   "metadata": {},
   "outputs": [
    {
     "data": {
      "text/html": [
       "<div>\n",
       "<style scoped>\n",
       "    .dataframe tbody tr th:only-of-type {\n",
       "        vertical-align: middle;\n",
       "    }\n",
       "\n",
       "    .dataframe tbody tr th {\n",
       "        vertical-align: top;\n",
       "    }\n",
       "\n",
       "    .dataframe thead th {\n",
       "        text-align: right;\n",
       "    }\n",
       "</style>\n",
       "<table border=\"1\" class=\"dataframe\">\n",
       "  <thead>\n",
       "    <tr style=\"text-align: right;\">\n",
       "      <th></th>\n",
       "      <th>nAromAtom</th>\n",
       "      <th>nAromBond</th>\n",
       "      <th>naRing</th>\n",
       "      <th>SpAbs_D</th>\n",
       "      <th>nH</th>\n",
       "      <th>nO</th>\n",
       "      <th>nN</th>\n",
       "      <th>nHBAcc</th>\n",
       "      <th>nHBDon</th>\n",
       "      <th>SLogP</th>\n",
       "    </tr>\n",
       "  </thead>\n",
       "  <tbody>\n",
       "    <tr>\n",
       "      <th>0</th>\n",
       "      <td>12</td>\n",
       "      <td>12</td>\n",
       "      <td>2</td>\n",
       "      <td>375.757899</td>\n",
       "      <td>27</td>\n",
       "      <td>4</td>\n",
       "      <td>3</td>\n",
       "      <td>5</td>\n",
       "      <td>4</td>\n",
       "      <td>1.9246</td>\n",
       "    </tr>\n",
       "    <tr>\n",
       "      <th>1</th>\n",
       "      <td>6</td>\n",
       "      <td>6</td>\n",
       "      <td>1</td>\n",
       "      <td>234.988972</td>\n",
       "      <td>18</td>\n",
       "      <td>4</td>\n",
       "      <td>3</td>\n",
       "      <td>6</td>\n",
       "      <td>2</td>\n",
       "      <td>-1.0166</td>\n",
       "    </tr>\n",
       "    <tr>\n",
       "      <th>2</th>\n",
       "      <td>6</td>\n",
       "      <td>6</td>\n",
       "      <td>1</td>\n",
       "      <td>234.988972</td>\n",
       "      <td>19</td>\n",
       "      <td>4</td>\n",
       "      <td>3</td>\n",
       "      <td>5</td>\n",
       "      <td>3</td>\n",
       "      <td>0.3181</td>\n",
       "    </tr>\n",
       "    <tr>\n",
       "      <th>3</th>\n",
       "      <td>6</td>\n",
       "      <td>6</td>\n",
       "      <td>1</td>\n",
       "      <td>376.674258</td>\n",
       "      <td>23</td>\n",
       "      <td>6</td>\n",
       "      <td>5</td>\n",
       "      <td>6</td>\n",
       "      <td>4</td>\n",
       "      <td>0.0942</td>\n",
       "    </tr>\n",
       "    <tr>\n",
       "      <th>4</th>\n",
       "      <td>6</td>\n",
       "      <td>6</td>\n",
       "      <td>1</td>\n",
       "      <td>420.901187</td>\n",
       "      <td>27</td>\n",
       "      <td>7</td>\n",
       "      <td>3</td>\n",
       "      <td>9</td>\n",
       "      <td>2</td>\n",
       "      <td>1.2958</td>\n",
       "    </tr>\n",
       "  </tbody>\n",
       "</table>\n",
       "</div>"
      ],
      "text/plain": [
       "   nAromAtom  nAromBond  naRing     SpAbs_D  nH  nO  nN  nHBAcc  nHBDon  \\\n",
       "0         12         12       2  375.757899  27   4   3       5       4   \n",
       "1          6          6       1  234.988972  18   4   3       6       2   \n",
       "2          6          6       1  234.988972  19   4   3       5       3   \n",
       "3          6          6       1  376.674258  23   6   5       6       4   \n",
       "4          6          6       1  420.901187  27   7   3       9       2   \n",
       "\n",
       "    SLogP  \n",
       "0  1.9246  \n",
       "1 -1.0166  \n",
       "2  0.3181  \n",
       "3  0.0942  \n",
       "4  1.2958  "
      ]
     },
     "execution_count": 15,
     "metadata": {},
     "output_type": "execute_result"
    }
   ],
   "source": [
    "mordred_df.head()"
   ]
  },
  {
   "cell_type": "code",
   "execution_count": 16,
   "id": "5b1faa2b-e70f-4cb5-bfcf-ff491337e3c1",
   "metadata": {},
   "outputs": [
    {
     "data": {
      "text/html": [
       "<div>\n",
       "<style scoped>\n",
       "    .dataframe tbody tr th:only-of-type {\n",
       "        vertical-align: middle;\n",
       "    }\n",
       "\n",
       "    .dataframe tbody tr th {\n",
       "        vertical-align: top;\n",
       "    }\n",
       "\n",
       "    .dataframe thead th {\n",
       "        text-align: right;\n",
       "    }\n",
       "</style>\n",
       "<table border=\"1\" class=\"dataframe\">\n",
       "  <thead>\n",
       "    <tr style=\"text-align: right;\">\n",
       "      <th></th>\n",
       "      <th>cid</th>\n",
       "      <th>cmpdname</th>\n",
       "      <th>cmpdsynonym</th>\n",
       "      <th>mw</th>\n",
       "      <th>mf</th>\n",
       "      <th>polararea</th>\n",
       "      <th>complexity</th>\n",
       "      <th>xlogp</th>\n",
       "      <th>heavycnt</th>\n",
       "      <th>hbonddonor</th>\n",
       "      <th>...</th>\n",
       "      <th>nAromAtom</th>\n",
       "      <th>nAromBond</th>\n",
       "      <th>naRing</th>\n",
       "      <th>SpAbs_D</th>\n",
       "      <th>nH</th>\n",
       "      <th>nO</th>\n",
       "      <th>nN</th>\n",
       "      <th>nHBAcc</th>\n",
       "      <th>nHBDon</th>\n",
       "      <th>SLogP</th>\n",
       "    </tr>\n",
       "  </thead>\n",
       "  <tbody>\n",
       "    <tr>\n",
       "      <th>0</th>\n",
       "      <td>1268</td>\n",
       "      <td>2-[2-(Benzylamino)-2-oxo-1-[(2-phenylacetyl)am...</td>\n",
       "      <td>NaN</td>\n",
       "      <td>441.5</td>\n",
       "      <td>C23H27N3O4S</td>\n",
       "      <td>133.0</td>\n",
       "      <td>645.0</td>\n",
       "      <td>0.1</td>\n",
       "      <td>31</td>\n",
       "      <td>4</td>\n",
       "      <td>...</td>\n",
       "      <td>12</td>\n",
       "      <td>12</td>\n",
       "      <td>2</td>\n",
       "      <td>375.757899</td>\n",
       "      <td>27</td>\n",
       "      <td>4</td>\n",
       "      <td>3</td>\n",
       "      <td>5</td>\n",
       "      <td>4</td>\n",
       "      <td>1.9246</td>\n",
       "    </tr>\n",
       "    <tr>\n",
       "      <th>1</th>\n",
       "      <td>2173</td>\n",
       "      <td>6-{[Amino(phenyl)acetyl]amino}-3,3-dimethyl-7-...</td>\n",
       "      <td>6-{[amino(phenyl)acetyl]amino}-3,3-dimethyl-7-...</td>\n",
       "      <td>348.4</td>\n",
       "      <td>C16H18N3O4S-</td>\n",
       "      <td>141.0</td>\n",
       "      <td>556.0</td>\n",
       "      <td>-0.5</td>\n",
       "      <td>24</td>\n",
       "      <td>2</td>\n",
       "      <td>...</td>\n",
       "      <td>6</td>\n",
       "      <td>6</td>\n",
       "      <td>1</td>\n",
       "      <td>234.988972</td>\n",
       "      <td>18</td>\n",
       "      <td>4</td>\n",
       "      <td>3</td>\n",
       "      <td>6</td>\n",
       "      <td>2</td>\n",
       "      <td>-1.0166</td>\n",
       "    </tr>\n",
       "    <tr>\n",
       "      <th>2</th>\n",
       "      <td>2174</td>\n",
       "      <td>Alpen</td>\n",
       "      <td>Guicitrine|Ampicin|Deripen|Wypicil|6-{[amino(p...</td>\n",
       "      <td>349.4</td>\n",
       "      <td>C16H19N3O4S</td>\n",
       "      <td>138.0</td>\n",
       "      <td>562.0</td>\n",
       "      <td>-1.1</td>\n",
       "      <td>24</td>\n",
       "      <td>3</td>\n",
       "      <td>...</td>\n",
       "      <td>6</td>\n",
       "      <td>6</td>\n",
       "      <td>1</td>\n",
       "      <td>234.988972</td>\n",
       "      <td>19</td>\n",
       "      <td>4</td>\n",
       "      <td>3</td>\n",
       "      <td>5</td>\n",
       "      <td>3</td>\n",
       "      <td>0.3181</td>\n",
       "    </tr>\n",
       "    <tr>\n",
       "      <th>3</th>\n",
       "      <td>2271</td>\n",
       "      <td>3,3-Dimethyl-7-oxo-6-{[{[(2-oxo-1-imidazolidin...</td>\n",
       "      <td>MLS006011456|CHEMBL4747314|DTXSID20860542|BCP1...</td>\n",
       "      <td>461.5</td>\n",
       "      <td>C20H23N5O6S</td>\n",
       "      <td>173.0</td>\n",
       "      <td>844.0</td>\n",
       "      <td>0.1</td>\n",
       "      <td>32</td>\n",
       "      <td>4</td>\n",
       "      <td>...</td>\n",
       "      <td>6</td>\n",
       "      <td>6</td>\n",
       "      <td>1</td>\n",
       "      <td>376.674258</td>\n",
       "      <td>23</td>\n",
       "      <td>6</td>\n",
       "      <td>5</td>\n",
       "      <td>6</td>\n",
       "      <td>4</td>\n",
       "      <td>0.0942</td>\n",
       "    </tr>\n",
       "    <tr>\n",
       "      <th>4</th>\n",
       "      <td>2282</td>\n",
       "      <td>1-Ethoxycarbonyloxyethyl 6-[(2-amino-2-phenyla...</td>\n",
       "      <td>CHEMBL1625790|DTXSID20860547|DB-051870|FT-0602...</td>\n",
       "      <td>465.5</td>\n",
       "      <td>C21H27N3O7S</td>\n",
       "      <td>163.0</td>\n",
       "      <td>756.0</td>\n",
       "      <td>2.7</td>\n",
       "      <td>32</td>\n",
       "      <td>2</td>\n",
       "      <td>...</td>\n",
       "      <td>6</td>\n",
       "      <td>6</td>\n",
       "      <td>1</td>\n",
       "      <td>420.901187</td>\n",
       "      <td>27</td>\n",
       "      <td>7</td>\n",
       "      <td>3</td>\n",
       "      <td>9</td>\n",
       "      <td>2</td>\n",
       "      <td>1.2958</td>\n",
       "    </tr>\n",
       "  </tbody>\n",
       "</table>\n",
       "<p>5 rows × 34 columns</p>\n",
       "</div>"
      ],
      "text/plain": [
       "    cid                                           cmpdname  \\\n",
       "0  1268  2-[2-(Benzylamino)-2-oxo-1-[(2-phenylacetyl)am...   \n",
       "1  2173  6-{[Amino(phenyl)acetyl]amino}-3,3-dimethyl-7-...   \n",
       "2  2174                                              Alpen   \n",
       "3  2271  3,3-Dimethyl-7-oxo-6-{[{[(2-oxo-1-imidazolidin...   \n",
       "4  2282  1-Ethoxycarbonyloxyethyl 6-[(2-amino-2-phenyla...   \n",
       "\n",
       "                                         cmpdsynonym     mw            mf  \\\n",
       "0                                                NaN  441.5   C23H27N3O4S   \n",
       "1  6-{[amino(phenyl)acetyl]amino}-3,3-dimethyl-7-...  348.4  C16H18N3O4S-   \n",
       "2  Guicitrine|Ampicin|Deripen|Wypicil|6-{[amino(p...  349.4   C16H19N3O4S   \n",
       "3  MLS006011456|CHEMBL4747314|DTXSID20860542|BCP1...  461.5   C20H23N5O6S   \n",
       "4  CHEMBL1625790|DTXSID20860547|DB-051870|FT-0602...  465.5   C21H27N3O7S   \n",
       "\n",
       "   polararea  complexity  xlogp  heavycnt  hbonddonor  ...  nAromAtom  \\\n",
       "0      133.0       645.0    0.1        31           4  ...         12   \n",
       "1      141.0       556.0   -0.5        24           2  ...          6   \n",
       "2      138.0       562.0   -1.1        24           3  ...          6   \n",
       "3      173.0       844.0    0.1        32           4  ...          6   \n",
       "4      163.0       756.0    2.7        32           2  ...          6   \n",
       "\n",
       "   nAromBond naRing     SpAbs_D  nH nO nN nHBAcc  nHBDon   SLogP  \n",
       "0         12      2  375.757899  27  4  3      5       4  1.9246  \n",
       "1          6      1  234.988972  18  4  3      6       2 -1.0166  \n",
       "2          6      1  234.988972  19  4  3      5       3  0.3181  \n",
       "3          6      1  376.674258  23  6  5      6       4  0.0942  \n",
       "4          6      1  420.901187  27  7  3      9       2  1.2958  \n",
       "\n",
       "[5 rows x 34 columns]"
      ]
     },
     "execution_count": 16,
     "metadata": {},
     "output_type": "execute_result"
    }
   ],
   "source": [
    "final_df = pd.concat([df, mordred_df], axis=1)\n",
    "final_df.head()"
   ]
  },
  {
   "cell_type": "code",
   "execution_count": 17,
   "id": "39a5925b-7555-4759-99f8-2526ed26857b",
   "metadata": {},
   "outputs": [],
   "source": [
    "final_df.to_csv(\"Ampicillin_final.csv\")"
   ]
  },
  {
   "cell_type": "markdown",
   "id": "968ef867-6b3c-4fd4-acd7-c91524811fbd",
   "metadata": {},
   "source": [
    "Finally we get the dataset we need to do the SOM.\n",
    "\n"
   ]
  },
  {
   "cell_type": "markdown",
   "id": "27ad5d0f-4a65-48ef-b398-e07c987caa4e",
   "metadata": {},
   "source": [
    "### In the next part of hands-on, we will focus on the SOM algorithm"
   ]
  },
  {
   "cell_type": "markdown",
   "id": "ea87e2a5-ee11-45a4-85ed-b6d1e4de2eed",
   "metadata": {},
   "source": [
    "# References:\n",
    "1. https://jcheminf.biomedcentral.com/articles/10.1186/s13321-018-0258-y <br/>\n",
    "2. https://onlinelibrary.wiley.com/doi/pdf/10.1002/9783527613106.fmatter <br/>\n",
    "3. https://fiehnlab.ucdavis.edu/staff/kind/chemoinformatics/concepts/descriptors <br/>"
   ]
  }
 ],
 "metadata": {
  "kernelspec": {
   "display_name": "Python 3 (ipykernel)",
   "language": "python",
   "name": "python3"
  },
  "language_info": {
   "codemirror_mode": {
    "name": "ipython",
    "version": 3
   },
   "file_extension": ".py",
   "mimetype": "text/x-python",
   "name": "python",
   "nbconvert_exporter": "python",
   "pygments_lexer": "ipython3",
   "version": "3.9.7"
  }
 },
 "nbformat": 4,
 "nbformat_minor": 5
}
