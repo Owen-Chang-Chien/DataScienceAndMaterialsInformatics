{
 "cells": [
  {
   "cell_type": "markdown",
   "metadata": {},
   "source": [
    "# Using different models in Scikit-Learn"
   ]
  },
  {
   "cell_type": "markdown",
   "metadata": {},
   "source": [
    "Models:\n",
    "- SVM\n",
    "- Desicion Tree\n",
    "    - Binary Tree\n",
    "    - Random Forest\n",
    "    - Boosted Tree\n",
    "- KNN\n",
    "- Naive Bayes\n",
    "- ...\n",
    "\n",
    "https://scikit-learn.org/stable/ provides six classes of tasks, with a list of useful applications and algorithms in each class."
   ]
  },
  {
   "cell_type": "markdown",
   "metadata": {},
   "source": [
    "### How to use Sklearn\n",
    "\n",
    "Again, remember these 5 steps:\n",
    "\n",
    "1. Choose a class of model and import it from sklearn.\n",
    "1. Choose model hyperparameters by instantiating this class with desired values.\n",
    "1. Arrange data into a features matrix (x or x matrix) and target vector (y).\n",
    "1. Fit the model to your data by calling **fit()**.\n",
    "1. Apply the model to your \"new\" data using **predict()**."
   ]
  },
  {
   "cell_type": "markdown",
   "metadata": {},
   "source": [
    "**New Task: Classify \"Phase\" (solid, liquid, or gas) using \"MeltingPoint\" and \"BoilingPoint\" in the periodic table**"
   ]
  },
  {
   "cell_type": "code",
   "execution_count": 1,
   "metadata": {},
   "outputs": [],
   "source": [
    "import numpy as np\n",
    "import pandas as pd\n",
    "import matplotlib.pyplot as plt\n",
    "from mpl_toolkits import mplot3d\n",
    "import seaborn as sns\n",
    "sns.set()\n",
    "%matplotlib inline"
   ]
  },
  {
   "cell_type": "code",
   "execution_count": 2,
   "metadata": {},
   "outputs": [],
   "source": [
    "Elements = pd.read_csv('https://gist.githubusercontent.com/GoodmanSciences/c2dd862cd38f21b0ad36b8f96b4bf1ee/raw/1d92663004489a5b6926e944c1b3d9ec5c40900e/Periodic%2520Table%2520of%2520Elements.csv')"
   ]
  },
  {
   "cell_type": "code",
   "execution_count": 3,
   "metadata": {},
   "outputs": [
    {
     "data": {
      "text/plain": [
       "Index(['AtomicNumber', 'Element', 'Symbol', 'AtomicMass', 'NumberofNeutrons',\n",
       "       'NumberofProtons', 'NumberofElectrons', 'Period', 'Group', 'Phase',\n",
       "       'Radioactive', 'Natural', 'Metal', 'Nonmetal', 'Metalloid', 'Type',\n",
       "       'AtomicRadius', 'Electronegativity', 'FirstIonization', 'Density',\n",
       "       'MeltingPoint', 'BoilingPoint', 'NumberOfIsotopes', 'Discoverer',\n",
       "       'Year', 'SpecificHeat', 'NumberofShells', 'NumberofValence'],\n",
       "      dtype='object')"
      ]
     },
     "execution_count": 3,
     "metadata": {},
     "output_type": "execute_result"
    }
   ],
   "source": [
    "Elements.keys()"
   ]
  },
  {
   "cell_type": "markdown",
   "metadata": {},
   "source": [
    "Use descriptive statistics to understand the data"
   ]
  },
  {
   "cell_type": "code",
   "execution_count": 4,
   "metadata": {},
   "outputs": [
    {
     "data": {
      "text/plain": [
       "<AxesSubplot:>"
      ]
     },
     "execution_count": 4,
     "metadata": {},
     "output_type": "execute_result"
    },
    {
     "data": {
      "image/png": "[encoded data removed]",
      "text/plain": [
       "<Figure size 432x288 with 1 Axes>"
      ]
     },
     "metadata": {
      "needs_background": "light"
     },
     "output_type": "display_data"
    }
   ],
   "source": [
    "Elements['Phase'].hist()"
   ]
  },
  {
   "cell_type": "markdown",
   "metadata": {},
   "source": [
    "Remove artificial elements"
   ]
  },
  {
   "cell_type": "code",
   "execution_count": 5,
   "metadata": {},
   "outputs": [],
   "source": [
    "Elements_slg = Elements.loc[Elements['Phase'] != 'artificial']"
   ]
  },
  {
   "cell_type": "markdown",
   "metadata": {},
   "source": [
    "Data visualization"
   ]
  },
  {
   "cell_type": "code",
   "execution_count": 6,
   "metadata": {},
   "outputs": [
    {
     "data": {
      "image/png": "[encoded data removed]",
      "text/plain": [
       "<Figure size 425.35x360 with 1 Axes>"
      ]
     },
     "metadata": {
      "needs_background": "light"
     },
     "output_type": "display_data"
    }
   ],
   "source": [
    "# sns.lmplot(\"MeltingPoint\", \"BoilingPoint\", hue=\"Phase\", data = Elements_slg, fit_reg = False); # Explicit x y seaborn updates 2022\n",
    "sns.lmplot(x = \"MeltingPoint\", y = \"BoilingPoint\", hue=\"Phase\", data = Elements_slg, fit_reg = False);\n",
    "# hue refers to the color of the phase"
   ]
  },
  {
   "cell_type": "markdown",
   "metadata": {},
   "source": [
    "Remove He (no MeltingPoint)"
   ]
  },
  {
   "cell_type": "code",
   "execution_count": 7,
   "metadata": {},
   "outputs": [
    {
     "data": {
      "text/html": [
       "<div>\n",
       "<style scoped>\n",
       "    .dataframe tbody tr th:only-of-type {\n",
       "        vertical-align: middle;\n",
       "    }\n",
       "\n",
       "    .dataframe tbody tr th {\n",
       "        vertical-align: top;\n",
       "    }\n",
       "\n",
       "    .dataframe thead th {\n",
       "        text-align: right;\n",
       "    }\n",
       "</style>\n",
       "<table border=\"1\" class=\"dataframe\">\n",
       "  <thead>\n",
       "    <tr style=\"text-align: right;\">\n",
       "      <th></th>\n",
       "      <th>MeltingPoint</th>\n",
       "      <th>BoilingPoint</th>\n",
       "    </tr>\n",
       "  </thead>\n",
       "  <tbody>\n",
       "    <tr>\n",
       "      <th>0</th>\n",
       "      <td>14.175</td>\n",
       "      <td>20.28</td>\n",
       "    </tr>\n",
       "    <tr>\n",
       "      <th>1</th>\n",
       "      <td>NaN</td>\n",
       "      <td>4.22</td>\n",
       "    </tr>\n",
       "    <tr>\n",
       "      <th>2</th>\n",
       "      <td>453.850</td>\n",
       "      <td>1615.00</td>\n",
       "    </tr>\n",
       "    <tr>\n",
       "      <th>3</th>\n",
       "      <td>1560.150</td>\n",
       "      <td>2742.00</td>\n",
       "    </tr>\n",
       "    <tr>\n",
       "      <th>4</th>\n",
       "      <td>2573.150</td>\n",
       "      <td>4200.00</td>\n",
       "    </tr>\n",
       "  </tbody>\n",
       "</table>\n",
       "</div>"
      ],
      "text/plain": [
       "   MeltingPoint  BoilingPoint\n",
       "0        14.175         20.28\n",
       "1           NaN          4.22\n",
       "2       453.850       1615.00\n",
       "3      1560.150       2742.00\n",
       "4      2573.150       4200.00"
      ]
     },
     "execution_count": 7,
     "metadata": {},
     "output_type": "execute_result"
    }
   ],
   "source": [
    "Elements_slg[['MeltingPoint', 'BoilingPoint']].head()"
   ]
  },
  {
   "cell_type": "code",
   "execution_count": 8,
   "metadata": {},
   "outputs": [
    {
     "data": {
      "text/html": [
       "<div>\n",
       "<style scoped>\n",
       "    .dataframe tbody tr th:only-of-type {\n",
       "        vertical-align: middle;\n",
       "    }\n",
       "\n",
       "    .dataframe tbody tr th {\n",
       "        vertical-align: top;\n",
       "    }\n",
       "\n",
       "    .dataframe thead th {\n",
       "        text-align: right;\n",
       "    }\n",
       "</style>\n",
       "<table border=\"1\" class=\"dataframe\">\n",
       "  <thead>\n",
       "    <tr style=\"text-align: right;\">\n",
       "      <th></th>\n",
       "      <th>AtomicNumber</th>\n",
       "      <th>Element</th>\n",
       "      <th>Symbol</th>\n",
       "      <th>AtomicMass</th>\n",
       "      <th>NumberofNeutrons</th>\n",
       "      <th>NumberofProtons</th>\n",
       "      <th>NumberofElectrons</th>\n",
       "      <th>Period</th>\n",
       "      <th>Group</th>\n",
       "      <th>Phase</th>\n",
       "      <th>...</th>\n",
       "      <th>FirstIonization</th>\n",
       "      <th>Density</th>\n",
       "      <th>MeltingPoint</th>\n",
       "      <th>BoilingPoint</th>\n",
       "      <th>NumberOfIsotopes</th>\n",
       "      <th>Discoverer</th>\n",
       "      <th>Year</th>\n",
       "      <th>SpecificHeat</th>\n",
       "      <th>NumberofShells</th>\n",
       "      <th>NumberofValence</th>\n",
       "    </tr>\n",
       "  </thead>\n",
       "  <tbody>\n",
       "    <tr>\n",
       "      <th>0</th>\n",
       "      <td>1</td>\n",
       "      <td>Hydrogen</td>\n",
       "      <td>H</td>\n",
       "      <td>1.007</td>\n",
       "      <td>0</td>\n",
       "      <td>1</td>\n",
       "      <td>1</td>\n",
       "      <td>1</td>\n",
       "      <td>1.0</td>\n",
       "      <td>gas</td>\n",
       "      <td>...</td>\n",
       "      <td>13.5984</td>\n",
       "      <td>0.00009</td>\n",
       "      <td>14.175</td>\n",
       "      <td>20.28</td>\n",
       "      <td>3.0</td>\n",
       "      <td>Cavendish</td>\n",
       "      <td>1766.0</td>\n",
       "      <td>14.304</td>\n",
       "      <td>1</td>\n",
       "      <td>1.0</td>\n",
       "    </tr>\n",
       "    <tr>\n",
       "      <th>2</th>\n",
       "      <td>3</td>\n",
       "      <td>Lithium</td>\n",
       "      <td>Li</td>\n",
       "      <td>6.941</td>\n",
       "      <td>4</td>\n",
       "      <td>3</td>\n",
       "      <td>3</td>\n",
       "      <td>2</td>\n",
       "      <td>1.0</td>\n",
       "      <td>solid</td>\n",
       "      <td>...</td>\n",
       "      <td>5.3917</td>\n",
       "      <td>0.53400</td>\n",
       "      <td>453.850</td>\n",
       "      <td>1615.00</td>\n",
       "      <td>5.0</td>\n",
       "      <td>Arfvedson</td>\n",
       "      <td>1817.0</td>\n",
       "      <td>3.582</td>\n",
       "      <td>2</td>\n",
       "      <td>1.0</td>\n",
       "    </tr>\n",
       "    <tr>\n",
       "      <th>3</th>\n",
       "      <td>4</td>\n",
       "      <td>Beryllium</td>\n",
       "      <td>Be</td>\n",
       "      <td>9.012</td>\n",
       "      <td>5</td>\n",
       "      <td>4</td>\n",
       "      <td>4</td>\n",
       "      <td>2</td>\n",
       "      <td>2.0</td>\n",
       "      <td>solid</td>\n",
       "      <td>...</td>\n",
       "      <td>9.3227</td>\n",
       "      <td>1.85000</td>\n",
       "      <td>1560.150</td>\n",
       "      <td>2742.00</td>\n",
       "      <td>6.0</td>\n",
       "      <td>Vaulquelin</td>\n",
       "      <td>1798.0</td>\n",
       "      <td>1.825</td>\n",
       "      <td>2</td>\n",
       "      <td>2.0</td>\n",
       "    </tr>\n",
       "    <tr>\n",
       "      <th>4</th>\n",
       "      <td>5</td>\n",
       "      <td>Boron</td>\n",
       "      <td>B</td>\n",
       "      <td>10.811</td>\n",
       "      <td>6</td>\n",
       "      <td>5</td>\n",
       "      <td>5</td>\n",
       "      <td>2</td>\n",
       "      <td>13.0</td>\n",
       "      <td>solid</td>\n",
       "      <td>...</td>\n",
       "      <td>8.2980</td>\n",
       "      <td>2.34000</td>\n",
       "      <td>2573.150</td>\n",
       "      <td>4200.00</td>\n",
       "      <td>6.0</td>\n",
       "      <td>Gay-Lussac</td>\n",
       "      <td>1808.0</td>\n",
       "      <td>1.026</td>\n",
       "      <td>2</td>\n",
       "      <td>3.0</td>\n",
       "    </tr>\n",
       "    <tr>\n",
       "      <th>5</th>\n",
       "      <td>6</td>\n",
       "      <td>Carbon</td>\n",
       "      <td>C</td>\n",
       "      <td>12.011</td>\n",
       "      <td>6</td>\n",
       "      <td>6</td>\n",
       "      <td>6</td>\n",
       "      <td>2</td>\n",
       "      <td>14.0</td>\n",
       "      <td>solid</td>\n",
       "      <td>...</td>\n",
       "      <td>11.2603</td>\n",
       "      <td>2.27000</td>\n",
       "      <td>3948.150</td>\n",
       "      <td>4300.00</td>\n",
       "      <td>7.0</td>\n",
       "      <td>Prehistoric</td>\n",
       "      <td>NaN</td>\n",
       "      <td>0.709</td>\n",
       "      <td>2</td>\n",
       "      <td>4.0</td>\n",
       "    </tr>\n",
       "  </tbody>\n",
       "</table>\n",
       "<p>5 rows × 28 columns</p>\n",
       "</div>"
      ],
      "text/plain": [
       "   AtomicNumber    Element Symbol  AtomicMass  NumberofNeutrons  \\\n",
       "0             1   Hydrogen      H       1.007                 0   \n",
       "2             3    Lithium     Li       6.941                 4   \n",
       "3             4  Beryllium     Be       9.012                 5   \n",
       "4             5      Boron      B      10.811                 6   \n",
       "5             6     Carbon      C      12.011                 6   \n",
       "\n",
       "   NumberofProtons  NumberofElectrons  Period  Group  Phase  ...  \\\n",
       "0                1                  1       1    1.0    gas  ...   \n",
       "2                3                  3       2    1.0  solid  ...   \n",
       "3                4                  4       2    2.0  solid  ...   \n",
       "4                5                  5       2   13.0  solid  ...   \n",
       "5                6                  6       2   14.0  solid  ...   \n",
       "\n",
       "  FirstIonization  Density MeltingPoint BoilingPoint NumberOfIsotopes  \\\n",
       "0         13.5984  0.00009       14.175        20.28              3.0   \n",
       "2          5.3917  0.53400      453.850      1615.00              5.0   \n",
       "3          9.3227  1.85000     1560.150      2742.00              6.0   \n",
       "4          8.2980  2.34000     2573.150      4200.00              6.0   \n",
       "5         11.2603  2.27000     3948.150      4300.00              7.0   \n",
       "\n",
       "    Discoverer    Year  SpecificHeat  NumberofShells  NumberofValence  \n",
       "0    Cavendish  1766.0        14.304               1              1.0  \n",
       "2    Arfvedson  1817.0         3.582               2              1.0  \n",
       "3   Vaulquelin  1798.0         1.825               2              2.0  \n",
       "4   Gay-Lussac  1808.0         1.026               2              3.0  \n",
       "5  Prehistoric     NaN         0.709               2              4.0  \n",
       "\n",
       "[5 rows x 28 columns]"
      ]
     },
     "execution_count": 8,
     "metadata": {},
     "output_type": "execute_result"
    }
   ],
   "source": [
    "Elements_slg_new = Elements_slg.drop([1])\n",
    "Elements_slg_new.head()"
   ]
  },
  {
   "cell_type": "code",
   "execution_count": 12,
   "metadata": {},
   "outputs": [
    {
     "data": {
      "text/plain": [
       "SVC()"
      ]
     },
     "execution_count": 12,
     "metadata": {},
     "output_type": "execute_result"
    }
   ],
   "source": [
    "from sklearn import svm\n",
    "clf = svm.SVC() # Step2 hyperparameter\n",
    "clf.fit(Elements_slg_new[[\"MeltingPoint\", \"BoilingPoint\"]], Elements_slg_new['Phase'])  # keep in mind what data you are using, don't get it wrong."
   ]
  },
  {
   "cell_type": "code",
   "execution_count": 14,
   "metadata": {},
   "outputs": [
    {
     "name": "stderr",
     "output_type": "stream",
     "text": [
      "/opt/conda/lib/python3.9/site-packages/sklearn/base.py:445: UserWarning: X does not have valid feature names, but SVC was fitted with feature names\n",
      "  warnings.warn(\n"
     ]
    },
    {
     "data": {
      "text/plain": [
       "array(['gas'], dtype=object)"
      ]
     },
     "execution_count": 14,
     "metadata": {},
     "output_type": "execute_result"
    }
   ],
   "source": [
    "clf.predict([[200, 500]])  # wrong prediction, this temperature pair should be 'liquid'."
   ]
  },
  {
   "cell_type": "code",
   "execution_count": 7,
   "metadata": {},
   "outputs": [],
   "source": [
    "Elements_slg_new = Elements_slg.drop([1])"
   ]
  },
  {
   "cell_type": "markdown",
   "metadata": {},
   "source": [
    "Try the first method listed under Classification in https://scikit-learn.org/stable/ "
   ]
  },
  {
   "cell_type": "code",
   "execution_count": 15,
   "metadata": {},
   "outputs": [
    {
     "data": {
      "text/plain": [
       "SVC()"
      ]
     },
     "execution_count": 15,
     "metadata": {},
     "output_type": "execute_result"
    }
   ],
   "source": [
    "from sklearn import svm\n",
    "clf = svm.SVC()\n",
    "#clf.fit(Elements_slg_new[[\"MeltingPoint\", \"BoilingPoint\"]], Elements_slg_new['Phase']) data framename removal updates 2022\n",
    "clf.fit(Elements_slg_new[[\"MeltingPoint\", \"BoilingPoint\"]].values, Elements_slg_new['Phase'])"
   ]
  },
  {
   "cell_type": "markdown",
   "metadata": {},
   "source": [
    "Try a \"virtual\" element with MeltingPoint = 1000 K and BoilingPoint = 2000 K"
   ]
  },
  {
   "cell_type": "code",
   "execution_count": 16,
   "metadata": {},
   "outputs": [
    {
     "data": {
      "text/plain": [
       "array(['solid'], dtype=object)"
      ]
     },
     "execution_count": 16,
     "metadata": {},
     "output_type": "execute_result"
    }
   ],
   "source": [
    "clf.predict([[1000, 2000]])"
   ]
  },
  {
   "cell_type": "markdown",
   "metadata": {},
   "source": [
    "Plot predicted results with MeltingPoint and BoilingPoint ranging from 0 - 4000 K"
   ]
  },
  {
   "cell_type": "code",
   "execution_count": 20,
   "metadata": {},
   "outputs": [
    {
     "data": {
      "text/plain": [
       "array([[   0.,    0.,    0., ...,    0.,    0.,    0.],\n",
       "       [  10.,   10.,   10., ...,   10.,   10.,   10.],\n",
       "       [  20.,   20.,   20., ...,   20.,   20.,   20.],\n",
       "       ...,\n",
       "       [3980., 3980., 3980., ..., 3980., 3980., 3980.],\n",
       "       [3990., 3990., 3990., ..., 3990., 3990., 3990.],\n",
       "       [4000., 4000., 4000., ..., 4000., 4000., 4000.]])"
      ]
     },
     "execution_count": 20,
     "metadata": {},
     "output_type": "execute_result"
    }
   ],
   "source": [
    "xx_1, xx_2 = np.meshgrid(x_m, x_b)\n",
    "xx_1\n",
    "xx_2"
   ]
  },
  {
   "cell_type": "code",
   "execution_count": 22,
   "metadata": {},
   "outputs": [
    {
     "data": {
      "text/plain": [
       "array(['gas', 'gas', 'gas', ..., 'solid', 'solid', 'solid'], dtype=object)"
      ]
     },
     "execution_count": 22,
     "metadata": {},
     "output_type": "execute_result"
    }
   ],
   "source": [
    "xx = np.concatenate((xx_1.ravel().reshape(-1,1), xx_2.ravel().reshape(-1,1)), axis=1)\n",
    "xx\n",
    "y = clf.predict(xx)\n",
    "y"
   ]
  },
  {
   "cell_type": "code",
   "execution_count": 17,
   "metadata": {},
   "outputs": [
    {
     "data": {
      "image/png": "[encoded data removed]",
      "text/plain": [
       "<Figure size 425.35x360 with 1 Axes>"
      ]
     },
     "metadata": {
      "needs_background": "light"
     },
     "output_type": "display_data"
    }
   ],
   "source": [
    "# array of melting point \n",
    "x_m = np.linspace(0, 4000, 401)\n",
    "# array of boiling point\n",
    "x_b = np.linspace(0, 4000, 401)\n",
    "# Get 2D mesh of x_m and x_b\n",
    "xx_1, xx_2 = np.meshgrid(x_m, x_b)\n",
    "# flatten the 2D array to plot decision boundary\n",
    "xx = np.concatenate((xx_1.ravel().reshape(-1,1), xx_2.ravel().reshape(-1,1)), axis=1)\n",
    "# predict\n",
    "y = clf.predict(xx)\n",
    "# plot the result\n",
    "Elements_predit = pd.DataFrame(data=np.concatenate((xx, y.reshape(-1,1)), axis=1), columns=[\"MeltingPoint\", \"BoilingPoint\", \"Phase\"])\n",
    "# sns.lmplot(\"MeltingPoint\", \"BoilingPoint\", hue=\"Phase\", data = Elements_predit, fit_reg = False); Explicit x y seaborn updates 2022\n",
    "sns.lmplot(x = \"MeltingPoint\", y = \"BoilingPoint\", hue=\"Phase\", data = Elements_predit, fit_reg = False);\n",
    "# does the predicted result look satisfactory?"
   ]
  },
  {
   "cell_type": "code",
   "execution_count": null,
   "metadata": {},
   "outputs": [],
   "source": []
  },
  {
   "cell_type": "markdown",
   "metadata": {},
   "source": [
    "**Using other methods to classify \"Phase\" (solid, liquid, or gas) using \"MeltingPoint\" and \"BoilingPoint\" in the periodic table**\n",
    "\n",
    "https://scikit-learn.org/stable/auto_examples/classification/plot_classifier_comparison.html"
   ]
  },
  {
   "cell_type": "code",
   "execution_count": null,
   "metadata": {},
   "outputs": [],
   "source": []
  }
 ],
 "metadata": {
  "kernelspec": {
   "display_name": "Python 3 (ipykernel)",
   "language": "python",
   "name": "python3"
  },
  "language_info": {
   "codemirror_mode": {
    "name": "ipython",
    "version": 3
   },
   "file_extension": ".py",
   "mimetype": "text/x-python",
   "name": "python",
   "nbconvert_exporter": "python",
   "pygments_lexer": "ipython3",
   "version": "3.9.7"
  }
 },
 "nbformat": 4,
 "nbformat_minor": 4
}
